{
 "cells": [
  {
   "cell_type": "code",
   "execution_count": null,
   "id": "e35930d1",
   "metadata": {},
   "outputs": [],
   "source": [
    "from langgraph.graph import StateGraph, START, END\n",
    "from typing_extensions import TypedDict\n",
    "\n",
    "# Define the overall state schema\n",
    "class MyState(TypedDict):\n",
    "    key1: int\n",
    "    key2: int\n",
    "    key3: str  # will be filled by node A\n",
    "    key4: str  # will be filled by node B\n",
    "\n",
    "# Node A: adds something to key3\n",
    "def node_A(state: MyState):\n",
    "    # read key1 & key2\n",
    "    k1 = state[\"key1\"]\n",
    "    k2 = state[\"key2\"]\n",
    "    # do some logic\n",
    "    result3 = f\"sum is {k1 + k2}\"\n",
    "    return {\"key3\": result3}\n",
    "\n",
    "# Node B: adds something to key4\n",
    "def node_B(state: MyState):\n",
    "    k1 = state[\"key1\"]\n",
    "    k2 = state[\"key2\"]\n",
    "    # different logic\n",
    "    result4 = f\"product is {k1 * k2}\"\n",
    "    return {\"key4\": result4}\n",
    "\n",
    "# (Optional) Aggregator node after both\n",
    "def aggregator(state: MyState):\n",
    "    return {\"final\": f\"Results: {state['key3']} | {state['key4']}\"}\n",
    "\n",
    "# Build graph\n",
    "builder = StateGraph(MyState)\n",
    "builder.add_node(\"NodeA\", node_A)\n",
    "builder.add_node(\"NodeB\", node_B)\n",
    "builder.add_node(\"Aggregator\", aggregator)\n",
    "\n",
    "# Add edges to run A & B in parallel from START\n",
    "builder.add_edge(START, \"NodeA\")\n",
    "builder.add_edge(START, \"NodeB\")\n",
    "\n",
    "# Then both feed into Aggregator\n",
    "builder.add_edge(\"NodeA\", \"Aggregator\")\n",
    "builder.add_edge(\"NodeB\", \"Aggregator\")\n",
    "\n",
    "# Then aggregator to END\n",
    "builder.add_edge(\"Aggregator\", END)\n",
    "\n",
    "graph = builder.compile()"
   ]
  },
  {
   "cell_type": "code",
   "execution_count": null,
   "id": "386b5dd7",
   "metadata": {},
   "outputs": [],
   "source": []
  },
  {
   "cell_type": "code",
   "execution_count": null,
   "id": "ddf4106a",
   "metadata": {},
   "outputs": [],
   "source": [
    "# Invoke with initial state\n",
    "initial = {\"key1\": 3, \"key2\": 5, \"key3\": \"\", \"key4\": \"\"}\n",
    "result = graph.invoke(initial)\n",
    "print(result)"
   ]
  }
 ],
 "metadata": {
  "kernelspec": {
   "display_name": "Python 3 (ipykernel)",
   "language": "python",
   "name": "python3"
  }
 },
 "nbformat": 4,
 "nbformat_minor": 5
}
