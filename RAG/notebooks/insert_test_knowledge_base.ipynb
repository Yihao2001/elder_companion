{
 "cells": [
  {
   "cell_type": "code",
   "id": "initial_id",
   "metadata": {
    "collapsed": true,
    "ExecuteTime": {
     "end_time": "2025-10-06T08:24:58.080972Z",
     "start_time": "2025-10-06T08:24:32.406238Z"
    }
   },
   "source": [
    "import os\n",
    "from dotenv import load_dotenv\n",
    "import psycopg2\n",
    "from psycopg2.extras import execute_values\n",
    "from sentence_transformers import SentenceTransformer\n",
    "from huggingface_hub import login\n",
    "import json\n",
    "import pprint\n",
    "\n",
    "from RAG.insertion_agent import InsertionAgent"
   ],
   "outputs": [],
   "execution_count": 1
  },
  {
   "metadata": {
    "ExecuteTime": {
     "end_time": "2025-10-06T08:27:54.348693Z",
     "start_time": "2025-10-06T08:26:39.001485Z"
    }
   },
   "cell_type": "code",
   "source": "rag_insertion_agent = InsertionAgent(elderly_id=\"87654321-4321-4321-4321-019876543210\")",
   "id": "e058ba0237411a4f",
   "outputs": [
    {
     "name": "stderr",
     "output_type": "stream",
     "text": [
      "INFO:root:Loading embedding model: google/embeddinggemma-300m\n",
      "INFO:sentence_transformers.SentenceTransformer:Use pytorch device_name: cpu\n",
      "INFO:sentence_transformers.SentenceTransformer:Load pretrained SentenceTransformer: google/embeddinggemma-300m\n",
      "INFO:sentence_transformers.SentenceTransformer:14 prompts are loaded, with the keys: ['query', 'document', 'BitextMining', 'Clustering', 'Classification', 'InstructionRetrieval', 'MultilabelClassification', 'PairClassification', 'Reranking', 'Retrieval', 'Retrieval-query', 'Retrieval-document', 'STS', 'Summarization']\n",
      "INFO:root:embedding model loaded successfully: google/embeddinggemma-300m\n",
      "WARNING:root:Could not ensure elderly profile: connection to server at \"ep-mute-violet-a1l6ie92-pooler.ap-southeast-1.aws.neon.tech\" (13.228.46.236), port 5432 failed: Connection timed out (0x0000274C/10060)\n",
      "\tIs the server running on that host and accepting TCP/IP connections?\n",
      "connection to server at \"ep-mute-violet-a1l6ie92-pooler.ap-southeast-1.aws.neon.tech\" (13.228.184.177), port 5432 failed: Connection timed out (0x0000274C/10060)\n",
      "\tIs the server running on that host and accepting TCP/IP connections?\n",
      "connection to server at \"ep-mute-violet-a1l6ie92-pooler.ap-southeast-1.aws.neon.tech\" (52.220.170.93), port 5432 failed: Connection timed out (0x0000274C/10060)\n",
      "\tIs the server running on that host and accepting TCP/IP connections?\n",
      "\n"
     ]
    }
   ],
   "execution_count": 2
  },
  {
   "metadata": {},
   "cell_type": "markdown",
   "source": "#### Insert Test User Profile",
   "id": "ba9bf1378bc0d1a8"
  },
  {
   "metadata": {
    "ExecuteTime": {
     "end_time": "2025-10-06T08:39:31.376640Z",
     "start_time": "2025-10-06T08:39:31.346999Z"
    }
   },
   "cell_type": "code",
   "source": [
    "with open(\"../test_cases/knowledge_base.json\") as f:\n",
    "    knowledge_base = json.load(f)\n",
    "\n",
    "test_user_profile = knowledge_base[\"test_elderly_profile\"]\n",
    "pprint.pprint(test_user_profile)\n",
    "HC_records = knowledge_base[\"HCM_data\"]\n",
    "pprint.pprint(HC_records)\n",
    "LTM_records = knowledge_base[\"LTM_data\"]\n",
    "pprint.pprint(LTM_records)\n",
    "STM_records = knowledge_base[\"STM_data\"]\n",
    "pprint.pprint(STM_records)\n"
   ],
   "id": "ceea3be7b2854a7",
   "outputs": [
    {
     "name": "stdout",
     "output_type": "stream",
     "text": [
      "{'address': '38 Dhoby Ghaut Road, Singapore 123456',\n",
      " 'date_of_birth': '1965-01-01',\n",
      " 'dialect_group': 'Sikh',\n",
      " 'gender': 'Female',\n",
      " 'marital_status': 'Married',\n",
      " 'name': 'Dhoby Ghaut Shruti',\n",
      " 'nationality': 'Singaporean'}\n",
      "[{'description': 'Patient has to take Metformin 500mg every morning to manage '\n",
      "                 'blood sugar levels.',\n",
      "  'document_id': 'HCM_001',\n",
      "  'dosage': '500mg',\n",
      "  'frequency': 'every morning',\n",
      "  'medication_name': 'Metformin',\n",
      "  'type': 'medication'},\n",
      " {'description': 'Patient has to take Amlodipine 10mg every morning to manage '\n",
      "                 'blood pressure.',\n",
      "  'document_id': 'HCM_002',\n",
      "  'dosage': '10mg',\n",
      "  'frequency': 'every morning',\n",
      "  'medication_name': 'Amlodipine',\n",
      "  'type': 'medication'},\n",
      " {'condition_name': 'Type 2 Diabetes',\n",
      "  'date': '2024-05-10',\n",
      "  'description': 'Patient was diagnosed with Type 2 Diabetes on 2024-05-10 and '\n",
      "                 'is currently stable.',\n",
      "  'document_id': 'HCM_003',\n",
      "  'status': 'stable',\n",
      "  'type': 'condition'},\n",
      " {'condition_name': 'Hypertension',\n",
      "  'description': 'Patient has an active condition of Hypertension.',\n",
      "  'document_id': 'HCM_004',\n",
      "  'status': 'active',\n",
      "  'type': 'condition'},\n",
      " {'date': '2023-09-18',\n",
      "  'description': 'Patient has undergone Knee Replacement Surgery on '\n",
      "                 '2023-09-18.',\n",
      "  'document_id': 'HCM_005',\n",
      "  'procedure_name': 'Knee Replacement Surgery',\n",
      "  'type': 'procedure'},\n",
      " {'date': '2022-11-05',\n",
      "  'description': 'Patient has undergone Cataract Surgery on 2022-11-05.',\n",
      "  'document_id': 'HCM_006',\n",
      "  'procedure_name': 'Cataract Surgery',\n",
      "  'type': 'procedure'}]\n",
      "[{'category': 'family',\n",
      "  'document_id': 'LTM_001',\n",
      "  'key': 'Daughter-in-law',\n",
      "  'value': 'Meena Singh'},\n",
      " {'category': 'family',\n",
      "  'document_id': 'LTM_002',\n",
      "  'key': 'Ganesh Menon Dhoby',\n",
      "  'value': 'eldest son'},\n",
      " {'category': 'lifestyle',\n",
      "  'document_id': 'LTM_003',\n",
      "  'key': 'friend',\n",
      "  'value': 'Mr Lim'},\n",
      " {'category': 'lifestyle',\n",
      "  'document_id': 'LTM_004',\n",
      "  'key': 'routine',\n",
      "  'value': 'Morning walks with Mr Lim at 7.30am every day'},\n",
      " {'category': 'family',\n",
      "  'document_id': 'LTM_005',\n",
      "  'key': 'family_relationship',\n",
      "  'value': 'Children and grandchildren usually join birthday celebrations'},\n",
      " {'category': 'lifestyle',\n",
      "  'document_id': 'LTM_0006',\n",
      "  'key': 'likes',\n",
      "  'value': 'jazz music'},\n",
      " {'category': 'lifestyle',\n",
      "  'document_id': 'LTM_007',\n",
      "  'key': 'hobby',\n",
      "  'value': 'gardening'},\n",
      " {'category': 'lifestyle',\n",
      "  'document_id': 'LTM_008',\n",
      "  'key': 'routine',\n",
      "  'value': 'soft boiled eggs and coffee everyday for breakfast'},\n",
      " {'category': 'lifestyle',\n",
      "  'document_id': 'LTM_009',\n",
      "  'key': 'routine',\n",
      "  'value': 'morning walk at 7.30am'},\n",
      " {'category': 'lifestyle',\n",
      "  'document_id': 'LTM_010',\n",
      "  'key': 'hobby',\n",
      "  'value': 'used to play badminton in school days'},\n",
      " {'category': 'family',\n",
      "  'document_id': 'LTM_011',\n",
      "  'key': 'grandson',\n",
      "  'value': 'Aarav Singh'},\n",
      " {'category': 'family',\n",
      "  'document_id': 'LTM_012',\n",
      "  'key': 'friend',\n",
      "  'value': 'Mrs Tan'},\n",
      " {'category': 'lifestyle',\n",
      "  'document_id': 'LTM_013',\n",
      "  'key': 'hobby',\n",
      "  'value': 'painting'},\n",
      " {'category': 'lifestyle',\n",
      "  'document_id': 'LTM_014',\n",
      "  'key': 'routine',\n",
      "  'value': 'Evening tea at 5pm'},\n",
      " {'category': 'lifestyle',\n",
      "  'document_id': 'LTM_015',\n",
      "  'key': 'likes',\n",
      "  'value': 'Bollywood movies'},\n",
      " {'category': 'lifestyle',\n",
      "  'document_id': 'LTM_016',\n",
      "  'key': 'community_activity',\n",
      "  'value': 'Exercise classes at community centre every Tuesday'}]\n",
      "[{'content': 'I had kaya toast for breakfast today.',\n",
      "  'document_id': 'STM_001',\n",
      "  'timestamp': '2025-09-18T09:00:00Z'},\n",
      " {'content': 'I joined the online yoga session today morning.',\n",
      "  'document_id': 'STM_002',\n",
      "  'timestamp': '2025-09-19T10:24:46Z'},\n",
      " {'content': 'I want to try painting this weekend; it’s been a while.',\n",
      "  'document_id': 'STM_003',\n",
      "  'timestamp': '2025-09-19T13:42:51Z'},\n",
      " {'content': 'I want to watch a Bollywood movie tonight.',\n",
      "  'document_id': 'STM_004',\n",
      "  'timestamp': '2025-09-19T14:00:00Z'},\n",
      " {'content': 'I accidentally overcooked the rice today.',\n",
      "  'document_id': 'STM_005',\n",
      "  'timestamp': '2025-09-19T15:59:24Z'},\n",
      " {'content': 'I forgot where I placed my glasses again this morning.',\n",
      "  'document_id': 'STM_006',\n",
      "  'timestamp': '2025-09-19T19:29:01Z'},\n",
      " {'content': 'I made toast and eggs for breakfast today.',\n",
      "  'document_id': 'STM_007',\n",
      "  'timestamp': '2025-09-19T19:34:55Z'},\n",
      " {'content': 'I saw some children playing downstairs; they were laughing so '\n",
      "             'loudly.',\n",
      "  'document_id': 'STM_008',\n",
      "  'timestamp': '2025-09-20T12:09:42Z'},\n",
      " {'content': 'I feel like eating chicken rice later.',\n",
      "  'document_id': 'STM_009',\n",
      "  'timestamp': '2025-09-20T12:30:00Z'},\n",
      " {'content': 'The haze seems to be coming back; I should stay indoors more.',\n",
      "  'document_id': 'STM_010',\n",
      "  'timestamp': '2025-09-20T17:14:11Z'},\n",
      " {'content': 'I tried making vegetable soup for lunch, it turned out quite '\n",
      "             'well.',\n",
      "  'document_id': 'STM_011',\n",
      "  'timestamp': '2025-09-20T19:48:44Z'},\n",
      " {'content': 'I met Mrs Tan while buying bread at the bakery; she looked '\n",
      "             'cheerful.',\n",
      "  'document_id': 'STM_012',\n",
      "  'timestamp': '2025-09-21T00:23:56Z'},\n",
      " {'content': 'I saw a rainbow from my window this evening.',\n",
      "  'document_id': 'STM_013',\n",
      "  'timestamp': '2025-09-21T12:27:23Z'},\n",
      " {'content': 'Iâ€™m meeting Mr Lim at the park tomorrow morning.',\n",
      "  'document_id': 'STM_014',\n",
      "  'timestamp': '2025-09-21T18:00:00Z'},\n",
      " {'content': 'The birds outside my window were chirping early this morning.',\n",
      "  'document_id': 'STM_015',\n",
      "  'timestamp': '2025-09-22T03:38:20Z'},\n",
      " {'content': 'I forgot to take my medicine yesterday evening.',\n",
      "  'document_id': 'STM_016',\n",
      "  'timestamp': '2025-09-22T08:00:00Z'},\n",
      " {'content': 'I tried reading the newspaper but fell asleep halfway.',\n",
      "  'document_id': 'STM_017',\n",
      "  'timestamp': '2025-09-22T08:07:49Z'},\n",
      " {'content': 'I feel better after doing my stretching exercises.',\n",
      "  'document_id': 'STM_018',\n",
      "  'timestamp': '2025-09-22T13:28:51Z'},\n",
      " {'content': 'I attended the community centre exercise class today.',\n",
      "  'document_id': 'STM_019',\n",
      "  'timestamp': '2025-09-23T07:09:25Z'},\n",
      " {'content': 'I feel a bit tired today, maybe I should take an afternoon nap.',\n",
      "  'document_id': 'STM_020',\n",
      "  'timestamp': '2025-09-23T15:34:50Z'},\n",
      " {'content': 'I want to try cooking fish curry this weekend.',\n",
      "  'document_id': 'STM_021',\n",
      "  'timestamp': '2025-09-23T16:30:00Z'},\n",
      " {'content': 'I bought some fresh vegetables from the nearby market.',\n",
      "  'document_id': 'STM_022',\n",
      "  'timestamp': '2025-09-23T20:48:43Z'},\n",
      " {'content': 'I read an article about healthy diets for seniors today.',\n",
      "  'document_id': 'STM_023',\n",
      "  'timestamp': '2025-09-24T09:05:50Z'},\n",
      " {'content': 'I enjoyed listening to jazz music yesterday night.',\n",
      "  'document_id': 'STM_024',\n",
      "  'timestamp': '2025-09-24T11:00:00Z'},\n",
      " {'content': 'I watched an old Tamil movie in the afternoon, it reminded me of '\n",
      "             'my younger days.',\n",
      "  'document_id': 'STM_025',\n",
      "  'timestamp': '2025-09-24T19:30:13Z'},\n",
      " {'content': 'I heard from my son that he’ll visit this weekend.',\n",
      "  'document_id': 'STM_026',\n",
      "  'timestamp': '2025-09-25T02:57:07Z'},\n",
      " {'content': 'My neighbour gave me some homemade cookies today.',\n",
      "  'document_id': 'STM_027',\n",
      "  'timestamp': '2025-09-25T04:56:51Z'},\n",
      " {'content': 'Letâ€™s watch TV after dinner.',\n",
      "  'document_id': 'STM_028',\n",
      "  'timestamp': '2025-09-25T19:30:00Z'},\n",
      " {'content': 'Remind me to water the plants this afternoon.',\n",
      "  'document_id': 'STM_029',\n",
      "  'timestamp': '2025-09-26T07:00:00Z'},\n",
      " {'content': 'I took a short nap after lunch today.',\n",
      "  'document_id': 'STM_030',\n",
      "  'timestamp': '2025-09-26T08:25:48Z'},\n",
      " {'content': 'I spoke to my grandson on the phone; he told me about his new '\n",
      "             'school project.',\n",
      "  'document_id': 'STM_031',\n",
      "  'timestamp': '2025-09-26T18:39:42Z'},\n",
      " {'content': 'I want to eat salad for lunch today.',\n",
      "  'document_id': 'STM_032',\n",
      "  'timestamp': '2025-09-27T12:00:00Z'},\n",
      " {'content': 'I went for a short walk at the park this morning.',\n",
      "  'document_id': 'STM_033',\n",
      "  'timestamp': '2025-09-27T20:55:11Z'},\n",
      " {'content': 'I tried to remember an old recipe my mother used to make.',\n",
      "  'document_id': 'STM_034',\n",
      "  'timestamp': '2025-09-27T22:14:37Z'},\n",
      " {'content': 'I watched the National Day Parade highlights again, felt proud '\n",
      "             'of Singapore.',\n",
      "  'document_id': 'STM_035',\n",
      "  'timestamp': '2025-09-28T06:50:44Z'},\n",
      " {'content': 'I need to buy milk and eggs tomorrow morning.',\n",
      "  'document_id': 'STM_036',\n",
      "  'timestamp': '2025-09-28T09:14:14Z'},\n",
      " {'content': 'I need to refill my medicine soon.',\n",
      "  'document_id': 'STM_037',\n",
      "  'timestamp': '2025-09-28T13:08:50Z'},\n",
      " {'content': 'The lift was under maintenance today, had to take the stairs.',\n",
      "  'document_id': 'STM_038',\n",
      "  'timestamp': '2025-09-28T16:33:54Z'},\n",
      " {'content': 'Iâ€™d like to call my daughter Meena tomorrow morning.',\n",
      "  'document_id': 'STM_039',\n",
      "  'timestamp': '2025-09-28T20:00:00Z'},\n",
      " {'content': 'I want to go shopping later in the afternoon.',\n",
      "  'document_id': 'STM_040',\n",
      "  'timestamp': '2025-09-29T09:30:00Z'},\n",
      " {'content': 'I helped Mr Lim carry his groceries just now.',\n",
      "  'document_id': 'STM_041',\n",
      "  'timestamp': '2025-09-29T19:57:35Z'},\n",
      " {'content': 'I’m thinking of making chapati for dinner tonight.',\n",
      "  'document_id': 'STM_042',\n",
      "  'timestamp': '2025-09-30T08:51:16Z'},\n",
      " {'content': 'Iâ€™d like to take a nap at 2pm today.',\n",
      "  'document_id': 'STM_043',\n",
      "  'timestamp': '2025-09-30T13:00:00Z'},\n",
      " {'content': 'I enjoyed listening to some old Hindi songs this evening.',\n",
      "  'document_id': 'STM_044',\n",
      "  'timestamp': '2025-09-30T16:41:03Z'},\n",
      " {'content': 'The weather was really nice today, not too hot.',\n",
      "  'document_id': 'STM_045',\n",
      "  'timestamp': '2025-09-30T16:42:34Z'},\n",
      " {'content': 'I feel like eating fish head curry tonight.',\n",
      "  'document_id': 'STM_046',\n",
      "  'timestamp': '2025-10-01 18:30:00Z'},\n",
      " {'content': 'I had porridge for breakfast today, it was comforting.',\n",
      "  'document_id': 'STM_047',\n",
      "  'timestamp': '2025-10-01T07:25:45Z'},\n",
      " {'content': 'I met the new neighbour from next door; she seems friendly.',\n",
      "  'document_id': 'STM_048',\n",
      "  'timestamp': '2025-10-01T23:40:16Z'},\n",
      " {'content': 'I forgot to water my plants yesterday, need to do it later.',\n",
      "  'document_id': 'STM_049',\n",
      "  'timestamp': '2025-10-02T01:35:24Z'},\n",
      " {'content': 'I had a nice chat with Meena over video call tonight.',\n",
      "  'document_id': 'STM_050',\n",
      "  'timestamp': '2025-10-02T03:35:26Z'},\n",
      " {'content': 'I had curry puff for tea today, it was delicious.',\n",
      "  'document_id': 'STM_051',\n",
      "  'timestamp': '2025-10-02T03:39:17Z'},\n",
      " {'content': 'I heard there will be a health talk at the community centre next '\n",
      "             'week.',\n",
      "  'document_id': 'STM_052',\n",
      "  'timestamp': '2025-10-02T03:56:53Z'},\n",
      " {'content': 'I’m planning to go to the library tomorrow to borrow some books.',\n",
      "  'document_id': 'STM_053',\n",
      "  'timestamp': '2025-10-02T05:54:15Z'},\n",
      " {'content': 'My knee felt slightly sore after my walk today.',\n",
      "  'document_id': 'STM_054',\n",
      "  'timestamp': '2025-10-02T07:46:42Z'},\n",
      " {'content': 'I want to buy some flowers for my balcony garden.',\n",
      "  'document_id': 'STM_055',\n",
      "  'timestamp': '2025-10-02T19:05:14Z'},\n",
      " {'content': 'I enjoyed the music playing at the hawker centre during lunch.',\n",
      "  'document_id': 'STM_056',\n",
      "  'timestamp': '2025-10-02T21:02:26Z'}]\n"
     ]
    }
   ],
   "execution_count": 5
  },
  {
   "metadata": {
    "ExecuteTime": {
     "end_time": "2025-10-06T08:39:40.277372Z",
     "start_time": "2025-10-06T08:39:39.125474Z"
    }
   },
   "cell_type": "code",
   "source": "rag_insertion_agent.insert_elderly_profile(test_user_profile)",
   "id": "34d10f23d6fa81d2",
   "outputs": [],
   "execution_count": 6
  },
  {
   "metadata": {},
   "cell_type": "markdown",
   "source": "#### Insert Test Medical Records",
   "id": "4a66a2a7ec466faa"
  },
  {
   "metadata": {
    "ExecuteTime": {
     "end_time": "2025-10-06T08:40:21.732895Z",
     "start_time": "2025-10-06T08:40:18.209634Z"
    }
   },
   "cell_type": "code",
   "source": [
    "for hc in HC_records:\n",
    "    rag_insertion_agent.insert_health_record(\n",
    "        record_type=hc[\"type\"],\n",
    "        description=hc[\"description\"],\n",
    "        diagnosis_date=hc.get(\"date\", None)\n",
    "    )"
   ],
   "id": "3b7386de70b2374e",
   "outputs": [
    {
     "data": {
      "text/plain": [
       "Batches:   0%|          | 0/1 [00:00<?, ?it/s]"
      ],
      "application/vnd.jupyter.widget-view+json": {
       "version_major": 2,
       "version_minor": 0,
       "model_id": "e9388637925f4dbaacab7ba1f69ed029"
      }
     },
     "metadata": {},
     "output_type": "display_data"
    },
    {
     "data": {
      "text/plain": [
       "Batches:   0%|          | 0/1 [00:00<?, ?it/s]"
      ],
      "application/vnd.jupyter.widget-view+json": {
       "version_major": 2,
       "version_minor": 0,
       "model_id": "05268ac1121c440fbc519f5b2133995e"
      }
     },
     "metadata": {},
     "output_type": "display_data"
    },
    {
     "data": {
      "text/plain": [
       "Batches:   0%|          | 0/1 [00:00<?, ?it/s]"
      ],
      "application/vnd.jupyter.widget-view+json": {
       "version_major": 2,
       "version_minor": 0,
       "model_id": "d13ea501c4354b43add02476b299fd0c"
      }
     },
     "metadata": {},
     "output_type": "display_data"
    },
    {
     "data": {
      "text/plain": [
       "Batches:   0%|          | 0/1 [00:00<?, ?it/s]"
      ],
      "application/vnd.jupyter.widget-view+json": {
       "version_major": 2,
       "version_minor": 0,
       "model_id": "3e6b663753004b12b06bc3394d699835"
      }
     },
     "metadata": {},
     "output_type": "display_data"
    },
    {
     "data": {
      "text/plain": [
       "Batches:   0%|          | 0/1 [00:00<?, ?it/s]"
      ],
      "application/vnd.jupyter.widget-view+json": {
       "version_major": 2,
       "version_minor": 0,
       "model_id": "f6c11746c1984609940641d128b033bd"
      }
     },
     "metadata": {},
     "output_type": "display_data"
    },
    {
     "data": {
      "text/plain": [
       "Batches:   0%|          | 0/1 [00:00<?, ?it/s]"
      ],
      "application/vnd.jupyter.widget-view+json": {
       "version_major": 2,
       "version_minor": 0,
       "model_id": "291cb3f6d615426db3f9f53a3054b3b0"
      }
     },
     "metadata": {},
     "output_type": "display_data"
    }
   ],
   "execution_count": 8
  },
  {
   "metadata": {},
   "cell_type": "markdown",
   "source": "### Insert LTM for Test Patient",
   "id": "ff67e06e39c07724"
  },
  {
   "metadata": {
    "ExecuteTime": {
     "end_time": "2025-10-06T08:40:08.168713Z",
     "start_time": "2025-10-06T08:39:54.257215Z"
    }
   },
   "cell_type": "code",
   "source": [
    "for ltm in LTM_records:\n",
    "    rag_insertion_agent.insert_long_term(\n",
    "        category=ltm[\"category\"],\n",
    "        key=ltm[\"key\"],\n",
    "        value=ltm[\"value\"]\n",
    "    )\n"
   ],
   "id": "2e425b28ef668fca",
   "outputs": [
    {
     "data": {
      "text/plain": [
       "Batches:   0%|          | 0/1 [00:00<?, ?it/s]"
      ],
      "application/vnd.jupyter.widget-view+json": {
       "version_major": 2,
       "version_minor": 0,
       "model_id": "bd5b5636fa374d3a8819590c982d9f6f"
      }
     },
     "metadata": {},
     "output_type": "display_data"
    },
    {
     "data": {
      "text/plain": [
       "Batches:   0%|          | 0/1 [00:00<?, ?it/s]"
      ],
      "application/vnd.jupyter.widget-view+json": {
       "version_major": 2,
       "version_minor": 0,
       "model_id": "f090ab1577574b64929f20964670121b"
      }
     },
     "metadata": {},
     "output_type": "display_data"
    },
    {
     "data": {
      "text/plain": [
       "Batches:   0%|          | 0/1 [00:00<?, ?it/s]"
      ],
      "application/vnd.jupyter.widget-view+json": {
       "version_major": 2,
       "version_minor": 0,
       "model_id": "27cc7a09ae3347339a9ea70cb597981c"
      }
     },
     "metadata": {},
     "output_type": "display_data"
    },
    {
     "data": {
      "text/plain": [
       "Batches:   0%|          | 0/1 [00:00<?, ?it/s]"
      ],
      "application/vnd.jupyter.widget-view+json": {
       "version_major": 2,
       "version_minor": 0,
       "model_id": "817fce7174654906b60846aba8318c81"
      }
     },
     "metadata": {},
     "output_type": "display_data"
    },
    {
     "data": {
      "text/plain": [
       "Batches:   0%|          | 0/1 [00:00<?, ?it/s]"
      ],
      "application/vnd.jupyter.widget-view+json": {
       "version_major": 2,
       "version_minor": 0,
       "model_id": "c7abcadfff724ab2a917ec5d3047db6c"
      }
     },
     "metadata": {},
     "output_type": "display_data"
    },
    {
     "data": {
      "text/plain": [
       "Batches:   0%|          | 0/1 [00:00<?, ?it/s]"
      ],
      "application/vnd.jupyter.widget-view+json": {
       "version_major": 2,
       "version_minor": 0,
       "model_id": "49289fb2fef349118d93e0cc8c2147f0"
      }
     },
     "metadata": {},
     "output_type": "display_data"
    },
    {
     "data": {
      "text/plain": [
       "Batches:   0%|          | 0/1 [00:00<?, ?it/s]"
      ],
      "application/vnd.jupyter.widget-view+json": {
       "version_major": 2,
       "version_minor": 0,
       "model_id": "c2fd0a6c63824697b6ee2501c5f286cc"
      }
     },
     "metadata": {},
     "output_type": "display_data"
    },
    {
     "data": {
      "text/plain": [
       "Batches:   0%|          | 0/1 [00:00<?, ?it/s]"
      ],
      "application/vnd.jupyter.widget-view+json": {
       "version_major": 2,
       "version_minor": 0,
       "model_id": "4d3d8b05340b4841a2d176e85c1f2058"
      }
     },
     "metadata": {},
     "output_type": "display_data"
    },
    {
     "data": {
      "text/plain": [
       "Batches:   0%|          | 0/1 [00:00<?, ?it/s]"
      ],
      "application/vnd.jupyter.widget-view+json": {
       "version_major": 2,
       "version_minor": 0,
       "model_id": "75774ff9dbe04d53b8ace2769d496652"
      }
     },
     "metadata": {},
     "output_type": "display_data"
    },
    {
     "data": {
      "text/plain": [
       "Batches:   0%|          | 0/1 [00:00<?, ?it/s]"
      ],
      "application/vnd.jupyter.widget-view+json": {
       "version_major": 2,
       "version_minor": 0,
       "model_id": "75ebbfc1548347a29681d18fb514aecd"
      }
     },
     "metadata": {},
     "output_type": "display_data"
    },
    {
     "data": {
      "text/plain": [
       "Batches:   0%|          | 0/1 [00:00<?, ?it/s]"
      ],
      "application/vnd.jupyter.widget-view+json": {
       "version_major": 2,
       "version_minor": 0,
       "model_id": "8b15fb736c394cb3b6c299bcaaeefd74"
      }
     },
     "metadata": {},
     "output_type": "display_data"
    },
    {
     "data": {
      "text/plain": [
       "Batches:   0%|          | 0/1 [00:00<?, ?it/s]"
      ],
      "application/vnd.jupyter.widget-view+json": {
       "version_major": 2,
       "version_minor": 0,
       "model_id": "2d37eb5cff7544bb81b3f32ccbded49e"
      }
     },
     "metadata": {},
     "output_type": "display_data"
    },
    {
     "data": {
      "text/plain": [
       "Batches:   0%|          | 0/1 [00:00<?, ?it/s]"
      ],
      "application/vnd.jupyter.widget-view+json": {
       "version_major": 2,
       "version_minor": 0,
       "model_id": "85ddf29ea1354833bf39802e3302b9db"
      }
     },
     "metadata": {},
     "output_type": "display_data"
    },
    {
     "data": {
      "text/plain": [
       "Batches:   0%|          | 0/1 [00:00<?, ?it/s]"
      ],
      "application/vnd.jupyter.widget-view+json": {
       "version_major": 2,
       "version_minor": 0,
       "model_id": "9d792ee11b9c4e6c822506ea99f47dce"
      }
     },
     "metadata": {},
     "output_type": "display_data"
    },
    {
     "data": {
      "text/plain": [
       "Batches:   0%|          | 0/1 [00:00<?, ?it/s]"
      ],
      "application/vnd.jupyter.widget-view+json": {
       "version_major": 2,
       "version_minor": 0,
       "model_id": "bab762268e2a45db834bf76069d17d54"
      }
     },
     "metadata": {},
     "output_type": "display_data"
    },
    {
     "data": {
      "text/plain": [
       "Batches:   0%|          | 0/1 [00:00<?, ?it/s]"
      ],
      "application/vnd.jupyter.widget-view+json": {
       "version_major": 2,
       "version_minor": 0,
       "model_id": "58e14e4f4fe64fe4ad04c1b014fe052f"
      }
     },
     "metadata": {},
     "output_type": "display_data"
    }
   ],
   "execution_count": 7
  },
  {
   "metadata": {},
   "cell_type": "markdown",
   "source": "#### Insert Short Term Memory for Test Patient",
   "id": "82d3e7f10e454cc3"
  },
  {
   "metadata": {
    "ExecuteTime": {
     "end_time": "2025-10-06T08:40:54.413607Z",
     "start_time": "2025-10-06T08:40:26.929181Z"
    }
   },
   "cell_type": "code",
   "source": [
    "for stm in STM_records:\n",
    "    rag_insertion_agent.manual_insert_short_term(\n",
    "        content=stm.get(\"content\", None),\n",
    "        timestamp=stm.get(\"timestamp\", None)\n",
    "    )\n"
   ],
   "id": "e6d0e7e6f72c1bd0",
   "outputs": [
    {
     "data": {
      "text/plain": [
       "Batches:   0%|          | 0/1 [00:00<?, ?it/s]"
      ],
      "application/vnd.jupyter.widget-view+json": {
       "version_major": 2,
       "version_minor": 0,
       "model_id": "cf74accd20524fd6a2f4657002ad437a"
      }
     },
     "metadata": {},
     "output_type": "display_data"
    },
    {
     "data": {
      "text/plain": [
       "Batches:   0%|          | 0/1 [00:00<?, ?it/s]"
      ],
      "application/vnd.jupyter.widget-view+json": {
       "version_major": 2,
       "version_minor": 0,
       "model_id": "f634136d8b0c4d158a1c338e3c1dbdce"
      }
     },
     "metadata": {},
     "output_type": "display_data"
    },
    {
     "data": {
      "text/plain": [
       "Batches:   0%|          | 0/1 [00:00<?, ?it/s]"
      ],
      "application/vnd.jupyter.widget-view+json": {
       "version_major": 2,
       "version_minor": 0,
       "model_id": "c0b2337ff0114d27aff5d9abd452c881"
      }
     },
     "metadata": {},
     "output_type": "display_data"
    },
    {
     "data": {
      "text/plain": [
       "Batches:   0%|          | 0/1 [00:00<?, ?it/s]"
      ],
      "application/vnd.jupyter.widget-view+json": {
       "version_major": 2,
       "version_minor": 0,
       "model_id": "4ca54e3ea89a4f21bd9dfe0e94bfeec7"
      }
     },
     "metadata": {},
     "output_type": "display_data"
    },
    {
     "data": {
      "text/plain": [
       "Batches:   0%|          | 0/1 [00:00<?, ?it/s]"
      ],
      "application/vnd.jupyter.widget-view+json": {
       "version_major": 2,
       "version_minor": 0,
       "model_id": "d7aec3f93ab04143a11a0bdd8df96697"
      }
     },
     "metadata": {},
     "output_type": "display_data"
    },
    {
     "data": {
      "text/plain": [
       "Batches:   0%|          | 0/1 [00:00<?, ?it/s]"
      ],
      "application/vnd.jupyter.widget-view+json": {
       "version_major": 2,
       "version_minor": 0,
       "model_id": "8e10bb74413a460189e3555b13502d82"
      }
     },
     "metadata": {},
     "output_type": "display_data"
    },
    {
     "data": {
      "text/plain": [
       "Batches:   0%|          | 0/1 [00:00<?, ?it/s]"
      ],
      "application/vnd.jupyter.widget-view+json": {
       "version_major": 2,
       "version_minor": 0,
       "model_id": "ff41095720ea4b33b4db8079d9fdcb4c"
      }
     },
     "metadata": {},
     "output_type": "display_data"
    },
    {
     "data": {
      "text/plain": [
       "Batches:   0%|          | 0/1 [00:00<?, ?it/s]"
      ],
      "application/vnd.jupyter.widget-view+json": {
       "version_major": 2,
       "version_minor": 0,
       "model_id": "467cb5e4eebd4fd6bc037d8612170697"
      }
     },
     "metadata": {},
     "output_type": "display_data"
    },
    {
     "data": {
      "text/plain": [
       "Batches:   0%|          | 0/1 [00:00<?, ?it/s]"
      ],
      "application/vnd.jupyter.widget-view+json": {
       "version_major": 2,
       "version_minor": 0,
       "model_id": "aa454b49e9a14188935a67040a767dbf"
      }
     },
     "metadata": {},
     "output_type": "display_data"
    },
    {
     "data": {
      "text/plain": [
       "Batches:   0%|          | 0/1 [00:00<?, ?it/s]"
      ],
      "application/vnd.jupyter.widget-view+json": {
       "version_major": 2,
       "version_minor": 0,
       "model_id": "b1bbe545bce7476f94b05617cb8e7c2d"
      }
     },
     "metadata": {},
     "output_type": "display_data"
    },
    {
     "data": {
      "text/plain": [
       "Batches:   0%|          | 0/1 [00:00<?, ?it/s]"
      ],
      "application/vnd.jupyter.widget-view+json": {
       "version_major": 2,
       "version_minor": 0,
       "model_id": "cdd0adf7bbbb49089c31314503ac0510"
      }
     },
     "metadata": {},
     "output_type": "display_data"
    },
    {
     "data": {
      "text/plain": [
       "Batches:   0%|          | 0/1 [00:00<?, ?it/s]"
      ],
      "application/vnd.jupyter.widget-view+json": {
       "version_major": 2,
       "version_minor": 0,
       "model_id": "aa5992f1162e45b592f503aeeaffcd58"
      }
     },
     "metadata": {},
     "output_type": "display_data"
    },
    {
     "data": {
      "text/plain": [
       "Batches:   0%|          | 0/1 [00:00<?, ?it/s]"
      ],
      "application/vnd.jupyter.widget-view+json": {
       "version_major": 2,
       "version_minor": 0,
       "model_id": "d78c8ee6335f46769239ea8287e13d8f"
      }
     },
     "metadata": {},
     "output_type": "display_data"
    },
    {
     "data": {
      "text/plain": [
       "Batches:   0%|          | 0/1 [00:00<?, ?it/s]"
      ],
      "application/vnd.jupyter.widget-view+json": {
       "version_major": 2,
       "version_minor": 0,
       "model_id": "02846bb731aa4dd88a0ccf929e460593"
      }
     },
     "metadata": {},
     "output_type": "display_data"
    },
    {
     "data": {
      "text/plain": [
       "Batches:   0%|          | 0/1 [00:00<?, ?it/s]"
      ],
      "application/vnd.jupyter.widget-view+json": {
       "version_major": 2,
       "version_minor": 0,
       "model_id": "2e4b538cb7654e55add4fb5caa5a52e1"
      }
     },
     "metadata": {},
     "output_type": "display_data"
    },
    {
     "data": {
      "text/plain": [
       "Batches:   0%|          | 0/1 [00:00<?, ?it/s]"
      ],
      "application/vnd.jupyter.widget-view+json": {
       "version_major": 2,
       "version_minor": 0,
       "model_id": "5a23d2fad2b84f83ba3205c6f24170c8"
      }
     },
     "metadata": {},
     "output_type": "display_data"
    },
    {
     "data": {
      "text/plain": [
       "Batches:   0%|          | 0/1 [00:00<?, ?it/s]"
      ],
      "application/vnd.jupyter.widget-view+json": {
       "version_major": 2,
       "version_minor": 0,
       "model_id": "b974028f2e5e4b578b612c28236bf94a"
      }
     },
     "metadata": {},
     "output_type": "display_data"
    },
    {
     "data": {
      "text/plain": [
       "Batches:   0%|          | 0/1 [00:00<?, ?it/s]"
      ],
      "application/vnd.jupyter.widget-view+json": {
       "version_major": 2,
       "version_minor": 0,
       "model_id": "e1703ccecc98465fa37e1fdb82ccfc25"
      }
     },
     "metadata": {},
     "output_type": "display_data"
    },
    {
     "data": {
      "text/plain": [
       "Batches:   0%|          | 0/1 [00:00<?, ?it/s]"
      ],
      "application/vnd.jupyter.widget-view+json": {
       "version_major": 2,
       "version_minor": 0,
       "model_id": "bd89e67e00a444e7bfd8ae68173f6412"
      }
     },
     "metadata": {},
     "output_type": "display_data"
    },
    {
     "data": {
      "text/plain": [
       "Batches:   0%|          | 0/1 [00:00<?, ?it/s]"
      ],
      "application/vnd.jupyter.widget-view+json": {
       "version_major": 2,
       "version_minor": 0,
       "model_id": "977ddfe99bd7476fb4016eebfa432db1"
      }
     },
     "metadata": {},
     "output_type": "display_data"
    },
    {
     "data": {
      "text/plain": [
       "Batches:   0%|          | 0/1 [00:00<?, ?it/s]"
      ],
      "application/vnd.jupyter.widget-view+json": {
       "version_major": 2,
       "version_minor": 0,
       "model_id": "489b4914331a41f9afb6869f2d1a5797"
      }
     },
     "metadata": {},
     "output_type": "display_data"
    },
    {
     "data": {
      "text/plain": [
       "Batches:   0%|          | 0/1 [00:00<?, ?it/s]"
      ],
      "application/vnd.jupyter.widget-view+json": {
       "version_major": 2,
       "version_minor": 0,
       "model_id": "5d3b1e78c478473d9f3130051f595197"
      }
     },
     "metadata": {},
     "output_type": "display_data"
    },
    {
     "data": {
      "text/plain": [
       "Batches:   0%|          | 0/1 [00:00<?, ?it/s]"
      ],
      "application/vnd.jupyter.widget-view+json": {
       "version_major": 2,
       "version_minor": 0,
       "model_id": "8e9f20a85c0c466ba67b68f8fe7b24b8"
      }
     },
     "metadata": {},
     "output_type": "display_data"
    },
    {
     "data": {
      "text/plain": [
       "Batches:   0%|          | 0/1 [00:00<?, ?it/s]"
      ],
      "application/vnd.jupyter.widget-view+json": {
       "version_major": 2,
       "version_minor": 0,
       "model_id": "e830642cef9e414a811c5cfaf1a35d30"
      }
     },
     "metadata": {},
     "output_type": "display_data"
    },
    {
     "data": {
      "text/plain": [
       "Batches:   0%|          | 0/1 [00:00<?, ?it/s]"
      ],
      "application/vnd.jupyter.widget-view+json": {
       "version_major": 2,
       "version_minor": 0,
       "model_id": "1bef88e8ed284d49976cde7aa05ab9b5"
      }
     },
     "metadata": {},
     "output_type": "display_data"
    },
    {
     "data": {
      "text/plain": [
       "Batches:   0%|          | 0/1 [00:00<?, ?it/s]"
      ],
      "application/vnd.jupyter.widget-view+json": {
       "version_major": 2,
       "version_minor": 0,
       "model_id": "1a118d8acd8d4d978a4b8b60b4d5eeff"
      }
     },
     "metadata": {},
     "output_type": "display_data"
    },
    {
     "data": {
      "text/plain": [
       "Batches:   0%|          | 0/1 [00:00<?, ?it/s]"
      ],
      "application/vnd.jupyter.widget-view+json": {
       "version_major": 2,
       "version_minor": 0,
       "model_id": "376d121cee064a709fdc473328f862be"
      }
     },
     "metadata": {},
     "output_type": "display_data"
    },
    {
     "data": {
      "text/plain": [
       "Batches:   0%|          | 0/1 [00:00<?, ?it/s]"
      ],
      "application/vnd.jupyter.widget-view+json": {
       "version_major": 2,
       "version_minor": 0,
       "model_id": "e49355fd04204a2eaf958b2f84f0b9f6"
      }
     },
     "metadata": {},
     "output_type": "display_data"
    },
    {
     "data": {
      "text/plain": [
       "Batches:   0%|          | 0/1 [00:00<?, ?it/s]"
      ],
      "application/vnd.jupyter.widget-view+json": {
       "version_major": 2,
       "version_minor": 0,
       "model_id": "bc9e275a9dbc48e3a4c2ac46ab866e58"
      }
     },
     "metadata": {},
     "output_type": "display_data"
    },
    {
     "data": {
      "text/plain": [
       "Batches:   0%|          | 0/1 [00:00<?, ?it/s]"
      ],
      "application/vnd.jupyter.widget-view+json": {
       "version_major": 2,
       "version_minor": 0,
       "model_id": "685e7f954cab48e1a651e954b1de4962"
      }
     },
     "metadata": {},
     "output_type": "display_data"
    },
    {
     "data": {
      "text/plain": [
       "Batches:   0%|          | 0/1 [00:00<?, ?it/s]"
      ],
      "application/vnd.jupyter.widget-view+json": {
       "version_major": 2,
       "version_minor": 0,
       "model_id": "764033b8c94a46ea9c35da00db00df7c"
      }
     },
     "metadata": {},
     "output_type": "display_data"
    },
    {
     "data": {
      "text/plain": [
       "Batches:   0%|          | 0/1 [00:00<?, ?it/s]"
      ],
      "application/vnd.jupyter.widget-view+json": {
       "version_major": 2,
       "version_minor": 0,
       "model_id": "48c1486617a94671a52b516980a9f27f"
      }
     },
     "metadata": {},
     "output_type": "display_data"
    },
    {
     "data": {
      "text/plain": [
       "Batches:   0%|          | 0/1 [00:00<?, ?it/s]"
      ],
      "application/vnd.jupyter.widget-view+json": {
       "version_major": 2,
       "version_minor": 0,
       "model_id": "b75aa5eafa3748178917b9b04dd1740f"
      }
     },
     "metadata": {},
     "output_type": "display_data"
    },
    {
     "data": {
      "text/plain": [
       "Batches:   0%|          | 0/1 [00:00<?, ?it/s]"
      ],
      "application/vnd.jupyter.widget-view+json": {
       "version_major": 2,
       "version_minor": 0,
       "model_id": "076310b0d9804135992e61d109fa7299"
      }
     },
     "metadata": {},
     "output_type": "display_data"
    },
    {
     "data": {
      "text/plain": [
       "Batches:   0%|          | 0/1 [00:00<?, ?it/s]"
      ],
      "application/vnd.jupyter.widget-view+json": {
       "version_major": 2,
       "version_minor": 0,
       "model_id": "282e506871b34c36be7c6f3c1470e668"
      }
     },
     "metadata": {},
     "output_type": "display_data"
    },
    {
     "data": {
      "text/plain": [
       "Batches:   0%|          | 0/1 [00:00<?, ?it/s]"
      ],
      "application/vnd.jupyter.widget-view+json": {
       "version_major": 2,
       "version_minor": 0,
       "model_id": "c1bdb630de0f4acfb4c29d0e2c811877"
      }
     },
     "metadata": {},
     "output_type": "display_data"
    },
    {
     "data": {
      "text/plain": [
       "Batches:   0%|          | 0/1 [00:00<?, ?it/s]"
      ],
      "application/vnd.jupyter.widget-view+json": {
       "version_major": 2,
       "version_minor": 0,
       "model_id": "f94dd6699d6345289106deec5f84ab59"
      }
     },
     "metadata": {},
     "output_type": "display_data"
    },
    {
     "data": {
      "text/plain": [
       "Batches:   0%|          | 0/1 [00:00<?, ?it/s]"
      ],
      "application/vnd.jupyter.widget-view+json": {
       "version_major": 2,
       "version_minor": 0,
       "model_id": "ac12efbaceec4626bfcf1070c79761b1"
      }
     },
     "metadata": {},
     "output_type": "display_data"
    },
    {
     "data": {
      "text/plain": [
       "Batches:   0%|          | 0/1 [00:00<?, ?it/s]"
      ],
      "application/vnd.jupyter.widget-view+json": {
       "version_major": 2,
       "version_minor": 0,
       "model_id": "da9f9e787143425e90590747497d921e"
      }
     },
     "metadata": {},
     "output_type": "display_data"
    },
    {
     "data": {
      "text/plain": [
       "Batches:   0%|          | 0/1 [00:00<?, ?it/s]"
      ],
      "application/vnd.jupyter.widget-view+json": {
       "version_major": 2,
       "version_minor": 0,
       "model_id": "2028a058cd644144a352dc80869deac2"
      }
     },
     "metadata": {},
     "output_type": "display_data"
    },
    {
     "data": {
      "text/plain": [
       "Batches:   0%|          | 0/1 [00:00<?, ?it/s]"
      ],
      "application/vnd.jupyter.widget-view+json": {
       "version_major": 2,
       "version_minor": 0,
       "model_id": "344edcf848c54b4582021c9e93cd7e2e"
      }
     },
     "metadata": {},
     "output_type": "display_data"
    },
    {
     "data": {
      "text/plain": [
       "Batches:   0%|          | 0/1 [00:00<?, ?it/s]"
      ],
      "application/vnd.jupyter.widget-view+json": {
       "version_major": 2,
       "version_minor": 0,
       "model_id": "8df019032ef646f99c3780fc77de31b0"
      }
     },
     "metadata": {},
     "output_type": "display_data"
    },
    {
     "data": {
      "text/plain": [
       "Batches:   0%|          | 0/1 [00:00<?, ?it/s]"
      ],
      "application/vnd.jupyter.widget-view+json": {
       "version_major": 2,
       "version_minor": 0,
       "model_id": "d9c7488d1c1a445382d4868aeb5a1413"
      }
     },
     "metadata": {},
     "output_type": "display_data"
    },
    {
     "data": {
      "text/plain": [
       "Batches:   0%|          | 0/1 [00:00<?, ?it/s]"
      ],
      "application/vnd.jupyter.widget-view+json": {
       "version_major": 2,
       "version_minor": 0,
       "model_id": "57ea9cdb6cd64618bc74f58f066b4072"
      }
     },
     "metadata": {},
     "output_type": "display_data"
    },
    {
     "data": {
      "text/plain": [
       "Batches:   0%|          | 0/1 [00:00<?, ?it/s]"
      ],
      "application/vnd.jupyter.widget-view+json": {
       "version_major": 2,
       "version_minor": 0,
       "model_id": "971ee63061d242d5b720cf4ef0c9b6cf"
      }
     },
     "metadata": {},
     "output_type": "display_data"
    },
    {
     "data": {
      "text/plain": [
       "Batches:   0%|          | 0/1 [00:00<?, ?it/s]"
      ],
      "application/vnd.jupyter.widget-view+json": {
       "version_major": 2,
       "version_minor": 0,
       "model_id": "1bd241edb0de4552adc238943dedbefc"
      }
     },
     "metadata": {},
     "output_type": "display_data"
    },
    {
     "data": {
      "text/plain": [
       "Batches:   0%|          | 0/1 [00:00<?, ?it/s]"
      ],
      "application/vnd.jupyter.widget-view+json": {
       "version_major": 2,
       "version_minor": 0,
       "model_id": "cf90035a3f0c492c8450ad0ca0b3de4e"
      }
     },
     "metadata": {},
     "output_type": "display_data"
    },
    {
     "data": {
      "text/plain": [
       "Batches:   0%|          | 0/1 [00:00<?, ?it/s]"
      ],
      "application/vnd.jupyter.widget-view+json": {
       "version_major": 2,
       "version_minor": 0,
       "model_id": "ecd447d166294ad1a6ee6002f0201d5b"
      }
     },
     "metadata": {},
     "output_type": "display_data"
    },
    {
     "data": {
      "text/plain": [
       "Batches:   0%|          | 0/1 [00:00<?, ?it/s]"
      ],
      "application/vnd.jupyter.widget-view+json": {
       "version_major": 2,
       "version_minor": 0,
       "model_id": "8994eca81e6b47ed88117e7796724c19"
      }
     },
     "metadata": {},
     "output_type": "display_data"
    },
    {
     "data": {
      "text/plain": [
       "Batches:   0%|          | 0/1 [00:00<?, ?it/s]"
      ],
      "application/vnd.jupyter.widget-view+json": {
       "version_major": 2,
       "version_minor": 0,
       "model_id": "286d00db121041a3b15c9cc1a91fb28e"
      }
     },
     "metadata": {},
     "output_type": "display_data"
    },
    {
     "data": {
      "text/plain": [
       "Batches:   0%|          | 0/1 [00:00<?, ?it/s]"
      ],
      "application/vnd.jupyter.widget-view+json": {
       "version_major": 2,
       "version_minor": 0,
       "model_id": "96d15341e4ce474f9084caeba4e7985d"
      }
     },
     "metadata": {},
     "output_type": "display_data"
    },
    {
     "data": {
      "text/plain": [
       "Batches:   0%|          | 0/1 [00:00<?, ?it/s]"
      ],
      "application/vnd.jupyter.widget-view+json": {
       "version_major": 2,
       "version_minor": 0,
       "model_id": "4d6f246a2a8e45cb8ff8d1083361a7ad"
      }
     },
     "metadata": {},
     "output_type": "display_data"
    },
    {
     "data": {
      "text/plain": [
       "Batches:   0%|          | 0/1 [00:00<?, ?it/s]"
      ],
      "application/vnd.jupyter.widget-view+json": {
       "version_major": 2,
       "version_minor": 0,
       "model_id": "967885c117d34c16a7cea4f2057015ba"
      }
     },
     "metadata": {},
     "output_type": "display_data"
    },
    {
     "data": {
      "text/plain": [
       "Batches:   0%|          | 0/1 [00:00<?, ?it/s]"
      ],
      "application/vnd.jupyter.widget-view+json": {
       "version_major": 2,
       "version_minor": 0,
       "model_id": "81b1bd19aa4f4475ae5a40f2987c8d97"
      }
     },
     "metadata": {},
     "output_type": "display_data"
    },
    {
     "data": {
      "text/plain": [
       "Batches:   0%|          | 0/1 [00:00<?, ?it/s]"
      ],
      "application/vnd.jupyter.widget-view+json": {
       "version_major": 2,
       "version_minor": 0,
       "model_id": "0eae03cc0f864318bf4d8e28c25c1bb7"
      }
     },
     "metadata": {},
     "output_type": "display_data"
    },
    {
     "data": {
      "text/plain": [
       "Batches:   0%|          | 0/1 [00:00<?, ?it/s]"
      ],
      "application/vnd.jupyter.widget-view+json": {
       "version_major": 2,
       "version_minor": 0,
       "model_id": "1206450d7622465d99329269ac461ca2"
      }
     },
     "metadata": {},
     "output_type": "display_data"
    }
   ],
   "execution_count": 9
  },
  {
   "metadata": {},
   "cell_type": "markdown",
   "source": "#### Clear Test Patient Data\n",
   "id": "46a5f9ba0d6017b0"
  },
  {
   "metadata": {
    "ExecuteTime": {
     "end_time": "2025-10-06T08:30:20.583354Z",
     "start_time": "2025-10-06T08:30:16.996687Z"
    }
   },
   "cell_type": "code",
   "source": [
    "# -----------------------------------------------------------------------\n",
    "# 1. Connect to Neon Postgres\n",
    "# -----------------------------------------------------------------------\n",
    "load_dotenv()\n",
    "conn_string = os.getenv(\"DATABASE_URL\")\n",
    "conn = None\n",
    "\n",
    "try:\n",
    "    with psycopg2.connect(conn_string) as conn:\n",
    "        print(\"Connection established\")\n",
    "        with conn.cursor() as cur:\n",
    "\n",
    "# -----------------------------------------------------------------------\n",
    "# 2. Delete Test Patient Data\n",
    "# -----------------------------------------------------------------------\n",
    "            elderly_id = '87654321-4321-4321-4321-019876543210'\n",
    "            tables = ['healthcare_records', 'long_term_memory', 'short_term_memory', 'elderly_profile']\n",
    "            for table in tables:\n",
    "                if table == 'elderly_profile':\n",
    "                    cur.execute(f\"DELETE FROM {table} WHERE id = %s\", (elderly_id,))\n",
    "                else:\n",
    "                    cur.execute(f\"DELETE FROM {table} WHERE elderly_id = %s\", (elderly_id,))\n",
    "\n",
    "                print(f\"Deleted records from {table} for elderly_id {elderly_id}\")\n",
    "\n",
    "            # Commit the changes\n",
    "            conn.commit()\n",
    "            print(\"All test patient data cleared successfully\")\n",
    "\n",
    "except Exception as e:\n",
    "    print(f\"Error clearing test patient data: {e}\")\n",
    "    if conn:\n",
    "        conn.rollback()\n",
    "finally:\n",
    "    if conn:\n",
    "        conn.close()\n",
    "        print(\"Connection closed\")\n"
   ],
   "id": "8869149ef83eafab",
   "outputs": [
    {
     "name": "stdout",
     "output_type": "stream",
     "text": [
      "Connection established\n",
      "Deleted records from healthcare_records for elderly_id 87654321-4321-4321-4321-019876543210\n",
      "Deleted records from long_term_memory for elderly_id 87654321-4321-4321-4321-019876543210\n",
      "Deleted records from short_term_memory for elderly_id 87654321-4321-4321-4321-019876543210\n",
      "Deleted records from elderly_profile for elderly_id 87654321-4321-4321-4321-019876543210\n",
      "All test patient data cleared successfully\n",
      "Connection closed\n"
     ]
    }
   ],
   "execution_count": 4
  },
  {
   "metadata": {},
   "cell_type": "code",
   "outputs": [],
   "execution_count": null,
   "source": "",
   "id": "703844e70c704308"
  }
 ],
 "metadata": {
  "kernelspec": {
   "display_name": "Python 3",
   "language": "python",
   "name": "python3"
  },
  "language_info": {
   "codemirror_mode": {
    "name": "ipython",
    "version": 2
   },
   "file_extension": ".py",
   "mimetype": "text/x-python",
   "name": "python",
   "nbconvert_exporter": "python",
   "pygments_lexer": "ipython2",
   "version": "2.7.6"
  }
 },
 "nbformat": 4,
 "nbformat_minor": 5
}
