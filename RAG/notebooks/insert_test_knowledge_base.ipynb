{
 "cells": [
  {
   "cell_type": "code",
   "id": "initial_id",
   "metadata": {
    "collapsed": true,
    "ExecuteTime": {
     "end_time": "2025-10-02T02:47:25.797853Z",
     "start_time": "2025-10-02T02:47:00.389790Z"
    }
   },
   "source": [
    "import os\n",
    "from dotenv import load_dotenv\n",
    "import psycopg2\n",
    "from psycopg2.extras import execute_values\n",
    "from sentence_transformers import SentenceTransformer\n",
    "from huggingface_hub import login\n",
    "import json\n",
    "import pprint\n",
    "\n",
    "from RAG.insertion_agent import InsertionAgent"
   ],
   "outputs": [],
   "execution_count": 1
  },
  {
   "metadata": {
    "ExecuteTime": {
     "end_time": "2025-10-02T02:48:46.669139Z",
     "start_time": "2025-10-02T02:48:38.317733Z"
    }
   },
   "cell_type": "code",
   "source": "rag_insertion_agent = InsertionAgent(elderly_id=\"87654321-4321-4321-4321-019876543210\")",
   "id": "e058ba0237411a4f",
   "outputs": [
    {
     "name": "stderr",
     "output_type": "stream",
     "text": [
      "INFO:root:Loading embedding model: google/embeddinggemma-300m\n",
      "INFO:sentence_transformers.SentenceTransformer:Use pytorch device_name: cpu\n",
      "INFO:sentence_transformers.SentenceTransformer:Load pretrained SentenceTransformer: google/embeddinggemma-300m\n",
      "INFO:sentence_transformers.SentenceTransformer:14 prompts are loaded, with the keys: ['query', 'document', 'BitextMining', 'Clustering', 'Classification', 'InstructionRetrieval', 'MultilabelClassification', 'PairClassification', 'Reranking', 'Retrieval', 'Retrieval-query', 'Retrieval-document', 'STS', 'Summarization']\n",
      "INFO:root:embedding model loaded successfully: google/embeddinggemma-300m\n"
     ]
    }
   ],
   "execution_count": 5
  },
  {
   "metadata": {},
   "cell_type": "markdown",
   "source": "#### Insert Test User Profile",
   "id": "ba9bf1378bc0d1a8"
  },
  {
   "metadata": {
    "ExecuteTime": {
     "end_time": "2025-10-02T03:50:16.612582Z",
     "start_time": "2025-10-02T03:50:16.600326Z"
    }
   },
   "cell_type": "code",
   "source": [
    "with open(\"../test_cases/knowledge_base.json\") as f:\n",
    "    knowledge_base = json.load(f)\n",
    "\n",
    "test_user_profile = knowledge_base[\"test_elderly_profile\"]\n",
    "#pprint.pprint(test_user_profile)\n",
    "HC_records = knowledge_base[\"HCM_data\"]\n",
    "#pprint.pprint(HC_records)\n",
    "LTM_records = knowledge_base[\"LTM_data\"]\n",
    "pprint.pprint(LTM_records)"
   ],
   "id": "ceea3be7b2854a7",
   "outputs": [
    {
     "name": "stdout",
     "output_type": "stream",
     "text": [
      "[{'category': 'Family', 'key': 'Daughter-in-law', 'value': 'Meena Singh'},\n",
      " {'category': 'Family', 'key': 'Ganesh Menon Dhoby', 'value': 'eldest son'},\n",
      " {'category': 'lifestyle', 'key': 'friend', 'value': 'Mr Lim'},\n",
      " {'category': 'lifestyle',\n",
      "  'key': 'routine',\n",
      "  'value': 'Morning walks with Mr Lim at 7.30am every day'},\n",
      " {'category': 'family',\n",
      "  'key': 'family_relationship',\n",
      "  'value': 'Children and grandchildren usually join birthday celebrations'},\n",
      " {'category': 'lifestyle', 'key': 'likes', 'value': 'jazz music'},\n",
      " {'category': 'lifestyle', 'key': 'hobby', 'value': 'gardening'},\n",
      " {'category': 'lifestyle',\n",
      "  'key': 'routine',\n",
      "  'value': 'soft boiled eggs and coffee everyday for breakfast'},\n",
      " {'category': 'lifestyle',\n",
      "  'routine_name': 'morning routine',\n",
      "  'value': 'morning walk at 7.30am'},\n",
      " {'category': 'lifestyle',\n",
      "  'key': 'hobby',\n",
      "  'value': 'used to play badminton in school days'}]\n"
     ]
    }
   ],
   "execution_count": 13
  },
  {
   "metadata": {
    "ExecuteTime": {
     "end_time": "2025-10-02T02:48:58.868081Z",
     "start_time": "2025-10-02T02:48:58.522612Z"
    }
   },
   "cell_type": "code",
   "source": "rag_insertion_agent.insert_elderly_profile(test_user_profile)",
   "id": "34d10f23d6fa81d2",
   "outputs": [],
   "execution_count": 7
  },
  {
   "metadata": {},
   "cell_type": "markdown",
   "source": "#### Insert Test Medical Records",
   "id": "4a66a2a7ec466faa"
  },
  {
   "metadata": {
    "ExecuteTime": {
     "end_time": "2025-10-02T03:33:11.104476Z",
     "start_time": "2025-10-02T03:33:06.062734Z"
    }
   },
   "cell_type": "code",
   "source": [
    "for hc in HC_records:\n",
    "    rag_insertion_agent.insert_health_record(\n",
    "        record_type=hc[\"type\"],\n",
    "        description=hc[\"description\"],\n",
    "        diagnosis_date=hc.get(\"date\", None)\n",
    "    )"
   ],
   "id": "3b7386de70b2374e",
   "outputs": [
    {
     "data": {
      "text/plain": [
       "Batches:   0%|          | 0/1 [00:00<?, ?it/s]"
      ],
      "application/vnd.jupyter.widget-view+json": {
       "version_major": 2,
       "version_minor": 0,
       "model_id": "fb8a24a18e134e049de7c2a96d42a59e"
      }
     },
     "metadata": {},
     "output_type": "display_data"
    },
    {
     "data": {
      "text/plain": [
       "Batches:   0%|          | 0/1 [00:00<?, ?it/s]"
      ],
      "application/vnd.jupyter.widget-view+json": {
       "version_major": 2,
       "version_minor": 0,
       "model_id": "3a36a98751d541ef996ec4d9ffb90fd7"
      }
     },
     "metadata": {},
     "output_type": "display_data"
    },
    {
     "data": {
      "text/plain": [
       "Batches:   0%|          | 0/1 [00:00<?, ?it/s]"
      ],
      "application/vnd.jupyter.widget-view+json": {
       "version_major": 2,
       "version_minor": 0,
       "model_id": "396879e089ce4f4a80facf4afb2c73f5"
      }
     },
     "metadata": {},
     "output_type": "display_data"
    },
    {
     "name": "stderr",
     "output_type": "stream",
     "text": [
      "ERROR:root:❌ Database error inserting health record: (psycopg2.errors.InvalidTextRepresentation) invalid input value for enum record_type_enum: \"allergy\"\n",
      "LINE 5: ...          '87654321-4321-4321-4321-019876543210', 'allergy',...\n",
      "                                                             ^\n",
      "\n",
      "[SQL: \n",
      "                    INSERT INTO healthcare_records (\n",
      "                        elderly_id, record_type, description, diagnosis_date, embedding\n",
      "                    ) VALUES (\n",
      "                        %(elderly_id)s, %(record_type)s, %(description)s, %(diagnosis_date)s, %(embedding)s\n",
      "                    )\n",
      "                    RETURNING id, last_updated;\n",
      "                ]\n",
      "[parameters: {'elderly_id': '87654321-4321-4321-4321-019876543210', 'record_type': 'allergy', 'description': 'Patient is allergic to penicillin which causes rash.', 'diagnosis_date': None, 'embedding': '[-0.13455796241760254, -0.0011422340758144855, 0.022401699796319008, -0.0012216466711834073, -0.005779414437711239, 0.007336325477808714, -0.05028547 ... (16697 characters truncated) ... 1861343868076801, -0.008607055060565472, -0.036569491028785706, 0.05634533613920212, -0.03443947434425354, 0.007879325188696384, 0.01132169459015131]'}]\n",
      "(Background on this error at: https://sqlalche.me/e/20/9h9h)\n"
     ]
    },
    {
     "data": {
      "text/plain": [
       "Batches:   0%|          | 0/1 [00:00<?, ?it/s]"
      ],
      "application/vnd.jupyter.widget-view+json": {
       "version_major": 2,
       "version_minor": 0,
       "model_id": "3fe7e21286ac48d38193497cbcb10416"
      }
     },
     "metadata": {},
     "output_type": "display_data"
    },
    {
     "data": {
      "text/plain": [
       "Batches:   0%|          | 0/1 [00:00<?, ?it/s]"
      ],
      "application/vnd.jupyter.widget-view+json": {
       "version_major": 2,
       "version_minor": 0,
       "model_id": "c2c673e9051c4f57b98bcd3ca3c39d2e"
      }
     },
     "metadata": {},
     "output_type": "display_data"
    },
    {
     "data": {
      "text/plain": [
       "Batches:   0%|          | 0/1 [00:00<?, ?it/s]"
      ],
      "application/vnd.jupyter.widget-view+json": {
       "version_major": 2,
       "version_minor": 0,
       "model_id": "3d72ee985124416889c4403d66725af4"
      }
     },
     "metadata": {},
     "output_type": "display_data"
    },
    {
     "data": {
      "text/plain": [
       "Batches:   0%|          | 0/1 [00:00<?, ?it/s]"
      ],
      "application/vnd.jupyter.widget-view+json": {
       "version_major": 2,
       "version_minor": 0,
       "model_id": "10625a7dff42425694e012d4be57fb88"
      }
     },
     "metadata": {},
     "output_type": "display_data"
    }
   ],
   "execution_count": 10
  },
  {
   "metadata": {},
   "cell_type": "markdown",
   "source": "### Insert LTM for Test Patient",
   "id": "ff67e06e39c07724"
  },
  {
   "metadata": {
    "ExecuteTime": {
     "end_time": "2025-10-02T03:51:36.481603Z",
     "start_time": "2025-10-02T03:51:33.959810Z"
    }
   },
   "cell_type": "code",
   "source": [
    "for ltm in LTM_records:\n",
    "    rag_insertion_agent.insert_long_term(\n",
    "        category=ltm[\"category\"],\n",
    "        key=ltm[\"key\"],\n",
    "        value=ltm[\"value\"]\n",
    "    )\n"
   ],
   "id": "2e425b28ef668fca",
   "outputs": [
    {
     "data": {
      "text/plain": [
       "Batches:   0%|          | 0/1 [00:00<?, ?it/s]"
      ],
      "application/vnd.jupyter.widget-view+json": {
       "version_major": 2,
       "version_minor": 0,
       "model_id": "dc5afc02621f49f298ceb6495b18a543"
      }
     },
     "metadata": {},
     "output_type": "display_data"
    },
    {
     "name": "stderr",
     "output_type": "stream",
     "text": [
      "ERROR:root:❌ Database error inserting LTM: (psycopg2.errors.InvalidTextRepresentation) invalid input value for enum ltm_category_enum: \"Family\"\n",
      "LINE 5: ...          '87654321-4321-4321-4321-019876543210', 'Family', ...\n",
      "                                                             ^\n",
      "\n",
      "[SQL: \n",
      "                    INSERT INTO long_term_memory (\n",
      "                        elderly_id, category, key, value, embedding\n",
      "                    ) VALUES (\n",
      "                        %(elderly_id)s, %(category)s, %(key)s, %(value)s, %(embedding)s\n",
      "                    )\n",
      "                    RETURNING id, last_updated;\n",
      "                ]\n",
      "[parameters: {'elderly_id': '87654321-4321-4321-4321-019876543210', 'category': 'Family', 'key': 'Daughter-in-law', 'value': 'Meena Singh', 'embedding': '[-0.19209453463554382, -0.0069421264342963696, 0.030603842809796333, 0.0010050470009446144, 0.015940669924020767, 0.028256410732865334, -0.0308287180 ... (16763 characters truncated) ... 6687417626381, 0.020578838884830475, -0.013979253359138966, 0.031604815274477005, -0.07772242277860641, -0.013797649182379246, 0.0032985119614750147]'}]\n",
      "(Background on this error at: https://sqlalche.me/e/20/9h9h)\n"
     ]
    },
    {
     "data": {
      "text/plain": [
       "Batches:   0%|          | 0/1 [00:00<?, ?it/s]"
      ],
      "application/vnd.jupyter.widget-view+json": {
       "version_major": 2,
       "version_minor": 0,
       "model_id": "06e6e6a8310f42cb8e565e61a4a4a962"
      }
     },
     "metadata": {},
     "output_type": "display_data"
    },
    {
     "name": "stderr",
     "output_type": "stream",
     "text": [
      "ERROR:root:❌ Database error inserting LTM: (psycopg2.errors.InvalidTextRepresentation) invalid input value for enum ltm_category_enum: \"Family\"\n",
      "LINE 5: ...          '87654321-4321-4321-4321-019876543210', 'Family', ...\n",
      "                                                             ^\n",
      "\n",
      "[SQL: \n",
      "                    INSERT INTO long_term_memory (\n",
      "                        elderly_id, category, key, value, embedding\n",
      "                    ) VALUES (\n",
      "                        %(elderly_id)s, %(category)s, %(key)s, %(value)s, %(embedding)s\n",
      "                    )\n",
      "                    RETURNING id, last_updated;\n",
      "                ]\n",
      "[parameters: {'elderly_id': '87654321-4321-4321-4321-019876543210', 'category': 'Family', 'key': 'Ganesh Menon Dhoby', 'value': 'eldest son', 'embedding': '[-0.1904672235250473, 0.010585030540823936, 0.020697293803095818, 0.006491549778729677, -0.003271430963650346, 0.03341001272201538, -0.03062237985432 ... (16721 characters truncated) ... 348258018494, 0.010101082734763622, -0.031107516959309578, 0.028276147320866585, -0.07408984750509262, -0.017675770446658134, -0.0028632665053009987]'}]\n",
      "(Background on this error at: https://sqlalche.me/e/20/9h9h)\n"
     ]
    },
    {
     "data": {
      "text/plain": [
       "Batches:   0%|          | 0/1 [00:00<?, ?it/s]"
      ],
      "application/vnd.jupyter.widget-view+json": {
       "version_major": 2,
       "version_minor": 0,
       "model_id": "540e8ae244ed4266b97d7c4e7e59935c"
      }
     },
     "metadata": {},
     "output_type": "display_data"
    },
    {
     "data": {
      "text/plain": [
       "Batches:   0%|          | 0/1 [00:00<?, ?it/s]"
      ],
      "application/vnd.jupyter.widget-view+json": {
       "version_major": 2,
       "version_minor": 0,
       "model_id": "8cb7fbd1feb5422eb3f2e65f44f3b8e9"
      }
     },
     "metadata": {},
     "output_type": "display_data"
    },
    {
     "data": {
      "text/plain": [
       "Batches:   0%|          | 0/1 [00:00<?, ?it/s]"
      ],
      "application/vnd.jupyter.widget-view+json": {
       "version_major": 2,
       "version_minor": 0,
       "model_id": "acd1f2cb95174e6dac487beedc7ac589"
      }
     },
     "metadata": {},
     "output_type": "display_data"
    },
    {
     "data": {
      "text/plain": [
       "Batches:   0%|          | 0/1 [00:00<?, ?it/s]"
      ],
      "application/vnd.jupyter.widget-view+json": {
       "version_major": 2,
       "version_minor": 0,
       "model_id": "575b7bc75add4f40877b6dbc756fcc4e"
      }
     },
     "metadata": {},
     "output_type": "display_data"
    },
    {
     "data": {
      "text/plain": [
       "Batches:   0%|          | 0/1 [00:00<?, ?it/s]"
      ],
      "application/vnd.jupyter.widget-view+json": {
       "version_major": 2,
       "version_minor": 0,
       "model_id": "e1fe0a00441e4ffe8d763a034617f3e8"
      }
     },
     "metadata": {},
     "output_type": "display_data"
    },
    {
     "data": {
      "text/plain": [
       "Batches:   0%|          | 0/1 [00:00<?, ?it/s]"
      ],
      "application/vnd.jupyter.widget-view+json": {
       "version_major": 2,
       "version_minor": 0,
       "model_id": "aac0f718020c452da56c5bd2934424c5"
      }
     },
     "metadata": {},
     "output_type": "display_data"
    },
    {
     "ename": "KeyError",
     "evalue": "'key'",
     "output_type": "error",
     "traceback": [
      "\u001B[1;31m---------------------------------------------------------------------------\u001B[0m",
      "\u001B[1;31mKeyError\u001B[0m                                  Traceback (most recent call last)",
      "Cell \u001B[1;32mIn[15], line 4\u001B[0m\n\u001B[0;32m      1\u001B[0m \u001B[38;5;28;01mfor\u001B[39;00m ltm \u001B[38;5;129;01min\u001B[39;00m LTM_records:\n\u001B[0;32m      2\u001B[0m     rag_insertion_agent\u001B[38;5;241m.\u001B[39minsert_long_term(\n\u001B[0;32m      3\u001B[0m         category\u001B[38;5;241m=\u001B[39mltm[\u001B[38;5;124m\"\u001B[39m\u001B[38;5;124mcategory\u001B[39m\u001B[38;5;124m\"\u001B[39m],\n\u001B[1;32m----> 4\u001B[0m         key\u001B[38;5;241m=\u001B[39m\u001B[43mltm\u001B[49m\u001B[43m[\u001B[49m\u001B[38;5;124;43m\"\u001B[39;49m\u001B[38;5;124;43mkey\u001B[39;49m\u001B[38;5;124;43m\"\u001B[39;49m\u001B[43m]\u001B[49m,\n\u001B[0;32m      5\u001B[0m         value\u001B[38;5;241m=\u001B[39mltm[\u001B[38;5;124m\"\u001B[39m\u001B[38;5;124mvalue\u001B[39m\u001B[38;5;124m\"\u001B[39m]\n\u001B[0;32m      6\u001B[0m     )\n",
      "\u001B[1;31mKeyError\u001B[0m: 'key'"
     ]
    }
   ],
   "execution_count": 15
  },
  {
   "metadata": {},
   "cell_type": "markdown",
   "source": "#### Insert Short Term Memory for Test Patient",
   "id": "82d3e7f10e454cc3"
  },
  {
   "metadata": {},
   "cell_type": "code",
   "outputs": [],
   "execution_count": null,
   "source": "",
   "id": "e6d0e7e6f72c1bd0"
  },
  {
   "metadata": {},
   "cell_type": "markdown",
   "source": "#### Clear Test Patient Data\n",
   "id": "46a5f9ba0d6017b0"
  },
  {
   "metadata": {},
   "cell_type": "code",
   "outputs": [],
   "execution_count": null,
   "source": [
    "# -----------------------------------------------------------------------\n",
    "# 1. Connect to Neon Postgres\n",
    "# -----------------------------------------------------------------------\n",
    "load_dotenv()\n",
    "conn_string = os.getenv(\"DATABASE_URL\")\n",
    "conn = None\n",
    "\n",
    "try:\n",
    "    with psycopg2.connect(conn_string) as conn:\n",
    "        print(\"Connection established\")\n",
    "        with conn.cursor() as cur:\n",
    "\n",
    "# -----------------------------------------------------------------------\n",
    "# 2. Delete Test Patient Data\n",
    "# -----------------------------------------------------------------------\n",
    "            elderly_id = '87654321-4321-4321-4321-019876543210'\n",
    "            tables = ['healthcare_records', 'long_term_memory', 'short_term_memory', 'elderly_profiles']\n",
    "            for table in tables:\n",
    "                cur.execute(f\"DELETE FROM {table} WHERE elderly_id = %s\", (elderly_id,))\n",
    "                print(f\"Deleted records from {table} for elderly_id {elderly_id}\")\n",
    "\n",
    "            # Commit the changes\n",
    "            conn.commit()\n",
    "            print(\"All test patient data cleared successfully\")\n",
    "\n",
    "except Exception as e:\n",
    "    print(f\"Error clearing test patient data: {e}\")\n",
    "    if conn:\n",
    "        conn.rollback()\n",
    "finally:\n",
    "    if conn:\n",
    "        conn.close()\n",
    "        print(\"Connection closed\")\n"
   ],
   "id": "8869149ef83eafab"
  }
 ],
 "metadata": {
  "kernelspec": {
   "display_name": "Python 3",
   "language": "python",
   "name": "python3"
  },
  "language_info": {
   "codemirror_mode": {
    "name": "ipython",
    "version": 2
   },
   "file_extension": ".py",
   "mimetype": "text/x-python",
   "name": "python",
   "nbconvert_exporter": "python",
   "pygments_lexer": "ipython2",
   "version": "2.7.6"
  }
 },
 "nbformat": 4,
 "nbformat_minor": 5
}
