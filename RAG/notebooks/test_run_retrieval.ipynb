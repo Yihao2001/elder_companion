{
 "cells": [
  {
   "cell_type": "code",
   "id": "initial_id",
   "metadata": {
    "collapsed": true,
    "ExecuteTime": {
     "end_time": "2025-10-06T15:55:34.933422Z",
     "start_time": "2025-10-06T15:55:34.929055Z"
    }
   },
   "source": [
    "import os\n",
    "\n",
    "import pandas as pd\n",
    "from dotenv import load_dotenv\n",
    "import psycopg2\n",
    "from psycopg2.extras import execute_values\n",
    "from pyarrow.compute import top_k_unstable\n",
    "from sentence_transformers import SentenceTransformer\n",
    "from huggingface_hub import login\n",
    "import json\n",
    "import pprint\n",
    "\n",
    "from RAG.retrieval_agent import RetrievalAgent"
   ],
   "outputs": [],
   "execution_count": 25
  },
  {
   "metadata": {
    "ExecuteTime": {
     "end_time": "2025-10-06T07:41:33.514840Z",
     "start_time": "2025-10-06T07:41:33.505755Z"
    }
   },
   "cell_type": "code",
   "source": [
    "with open(\"../test_cases/expanded_knowledge_base.json\", \"r\") as f:\n",
    "    knowledge_base = json.load(f)\n",
    "    stm_data = knowledge_base[\"STM_data\"]\n",
    "\n",
    "sorted_stm_data = sorted(stm_data, key=lambda x: x[\"timestamp\"])\n",
    "print(sorted_stm_data[:5])\n",
    "\n",
    "knowledge_base['STM_data'] = sorted_stm_data\n",
    "\n",
    "with open(\"../test_cases/expanded_knowledge_base.json\", \"w\") as file:\n",
    "    json.dump(knowledge_base, file, indent=4)\n"
   ],
   "id": "4af2b6a73a60b7db",
   "outputs": [
    {
     "name": "stdout",
     "output_type": "stream",
     "text": [
      "[{'document_id': 'STM_035', 'timestamp': '2025-09-19T10:24:46Z', 'content': 'I joined the online yoga session today morning.'}, {'document_id': 'STM_032', 'timestamp': '2025-09-19T13:42:51Z', 'content': 'I want to try painting this weekend; it’s been a while.'}, {'document_id': 'STM_038', 'timestamp': '2025-09-19T15:59:24Z', 'content': 'I accidentally overcooked the rice today.'}, {'document_id': 'STM_007', 'timestamp': '2025-09-19T19:29:01Z', 'content': 'I forgot where I placed my glasses again this morning.'}, {'document_id': 'STM_034', 'timestamp': '2025-09-19T19:34:55Z', 'content': 'I made toast and eggs for breakfast today.'}]\n"
     ]
    }
   ],
   "execution_count": 6
  },
  {
   "metadata": {
    "ExecuteTime": {
     "end_time": "2025-10-06T15:45:20.579981Z",
     "start_time": "2025-10-06T15:45:12.780215Z"
    }
   },
   "cell_type": "code",
   "source": [
    "test_elderly_id = \"87654321-4321-4321-4321-019876543210\"\n",
    "retrieval_agent = RetrievalAgent(test_elderly_id)"
   ],
   "id": "980063a87562469f",
   "outputs": [
    {
     "name": "stderr",
     "output_type": "stream",
     "text": [
      "INFO:root:Loading embedding model: google/embeddinggemma-300m\n",
      "INFO:sentence_transformers.SentenceTransformer:Use pytorch device_name: cpu\n",
      "INFO:sentence_transformers.SentenceTransformer:Load pretrained SentenceTransformer: google/embeddinggemma-300m\n",
      "INFO:sentence_transformers.SentenceTransformer:14 prompts are loaded, with the keys: ['query', 'document', 'BitextMining', 'Clustering', 'Classification', 'InstructionRetrieval', 'MultilabelClassification', 'PairClassification', 'Reranking', 'Retrieval', 'Retrieval-query', 'Retrieval-document', 'STS', 'Summarization']\n",
      "INFO:root:embedding model loaded successfully: google/embeddinggemma-300m\n"
     ]
    }
   ],
   "execution_count": 10
  },
  {
   "metadata": {
    "ExecuteTime": {
     "end_time": "2025-10-06T05:51:59.094828Z",
     "start_time": "2025-10-06T05:51:58.032741Z"
    }
   },
   "cell_type": "code",
   "source": [
    "pprint.pprint(retrieval_agent.retrieve_similar_stm(\n",
    "    query = \"What should I have for dinner later?\",\n",
    "))"
   ],
   "id": "dbccdb6bdffefacd",
   "outputs": [
    {
     "data": {
      "text/plain": [
       "Batches:   0%|          | 0/1 [00:00<?, ?it/s]"
      ],
      "application/vnd.jupyter.widget-view+json": {
       "version_major": 2,
       "version_minor": 0,
       "model_id": "1e6defbae073492c8e895c60096a1db2"
      }
     },
     "metadata": {},
     "output_type": "display_data"
    },
    {
     "name": "stdout",
     "output_type": "stream",
     "text": [
      "[{'content': 'I want to eat salad for lunch today.',\n",
      "  'created_at': '2025-09-27T12:00:00',\n",
      "  'similarity': 0.8104},\n",
      " {'content': 'I had kaya toast for breakfast today.',\n",
      "  'created_at': '2025-09-18T09:00:00',\n",
      "  'similarity': 0.8101},\n",
      " {'content': 'I want to go shopping later in the afternoon.',\n",
      "  'created_at': '2025-09-29T09:30:00',\n",
      "  'similarity': 0.8063},\n",
      " {'content': 'I forgot to take my medicine yesterday evening.',\n",
      "  'created_at': '2025-09-22T08:00:00',\n",
      "  'similarity': 0.792},\n",
      " {'content': 'Letâ€™s watch TV after dinner.',\n",
      "  'created_at': '2025-09-25T19:30:00',\n",
      "  'similarity': 0.7855}]\n"
     ]
    }
   ],
   "execution_count": 5
  },
  {
   "metadata": {
    "ExecuteTime": {
     "end_time": "2025-10-06T06:06:35.040312Z",
     "start_time": "2025-10-06T06:06:34.722485Z"
    }
   },
   "cell_type": "code",
   "source": [
    "pprint.pprint(retrieval_agent.retrieve_similar_ltm(\n",
    "    query = \"Who is my daughter-in-law?\"\n",
    "))"
   ],
   "id": "5f5eaa2ac5c31b46",
   "outputs": [
    {
     "data": {
      "text/plain": [
       "Batches:   0%|          | 0/1 [00:00<?, ?it/s]"
      ],
      "application/vnd.jupyter.widget-view+json": {
       "version_major": 2,
       "version_minor": 0,
       "model_id": "4def91c76fee4ff88d4ef861e8788fcb"
      }
     },
     "metadata": {},
     "output_type": "display_data"
    },
    {
     "name": "stdout",
     "output_type": "stream",
     "text": [
      "[{'category': 'family',\n",
      "  'key': 'Ganesh Menon Dhoby',\n",
      "  'similarity': 0.801,\n",
      "  'value': 'eldest son'},\n",
      " {'category': 'lifestyle',\n",
      "  'key': 'hobby',\n",
      "  'similarity': 0.7969,\n",
      "  'value': 'gardening'},\n",
      " {'category': 'family',\n",
      "  'key': 'Daughter-in-law',\n",
      "  'similarity': 0.7878,\n",
      "  'value': 'Meena Singh'},\n",
      " {'category': 'lifestyle',\n",
      "  'key': 'friend',\n",
      "  'similarity': 0.7873,\n",
      "  'value': 'Mr Lim'},\n",
      " {'category': 'lifestyle',\n",
      "  'key': 'likes',\n",
      "  'similarity': 0.7759,\n",
      "  'value': 'jazz music'}]\n"
     ]
    }
   ],
   "execution_count": 8
  },
  {
   "metadata": {
    "ExecuteTime": {
     "end_time": "2025-10-06T06:07:31.552431Z",
     "start_time": "2025-10-06T06:07:31.253520Z"
    }
   },
   "cell_type": "code",
   "source": [
    "pprint.pprint(retrieval_agent.retrieve_similar_ltm(\n",
    "    query = \"What are my hobbies\"\n",
    "))"
   ],
   "id": "f62e7019bf628dea",
   "outputs": [
    {
     "data": {
      "text/plain": [
       "Batches:   0%|          | 0/1 [00:00<?, ?it/s]"
      ],
      "application/vnd.jupyter.widget-view+json": {
       "version_major": 2,
       "version_minor": 0,
       "model_id": "74dc5f1f74a14e838f46b1514dff4f84"
      }
     },
     "metadata": {},
     "output_type": "display_data"
    },
    {
     "name": "stdout",
     "output_type": "stream",
     "text": [
      "[{'category': 'lifestyle',\n",
      "  'key': 'hobby',\n",
      "  'similarity': 0.8986,\n",
      "  'value': 'gardening'},\n",
      " {'category': 'lifestyle',\n",
      "  'key': 'likes',\n",
      "  'similarity': 0.8766,\n",
      "  'value': 'jazz music'},\n",
      " {'category': 'lifestyle',\n",
      "  'key': 'friend',\n",
      "  'similarity': 0.8586,\n",
      "  'value': 'Mr Lim'},\n",
      " {'category': 'family',\n",
      "  'key': 'Daughter-in-law',\n",
      "  'similarity': 0.8537,\n",
      "  'value': 'Meena Singh'},\n",
      " {'category': 'family',\n",
      "  'key': 'Ganesh Menon Dhoby',\n",
      "  'similarity': 0.8478,\n",
      "  'value': 'eldest son'}]\n"
     ]
    }
   ],
   "execution_count": 9
  },
  {
   "metadata": {},
   "cell_type": "markdown",
   "source": "### Test with the rag_test_cases.json file",
   "id": "5b95aad7559eba91"
  },
  {
   "metadata": {
    "ExecuteTime": {
     "end_time": "2025-10-06T15:45:36.038959Z",
     "start_time": "2025-10-06T15:45:29.233821Z"
    }
   },
   "cell_type": "code",
   "source": [
    "test_elderly_id = \"87654321-4321-4321-4321-019876543210\"\n",
    "retrieval_agent = RetrievalAgent(test_elderly_id)"
   ],
   "id": "83d52a7a95d8f63b",
   "outputs": [
    {
     "name": "stderr",
     "output_type": "stream",
     "text": [
      "INFO:root:Loading embedding model: google/embeddinggemma-300m\n",
      "INFO:sentence_transformers.SentenceTransformer:Use pytorch device_name: cpu\n",
      "INFO:sentence_transformers.SentenceTransformer:Load pretrained SentenceTransformer: google/embeddinggemma-300m\n",
      "INFO:sentence_transformers.SentenceTransformer:14 prompts are loaded, with the keys: ['query', 'document', 'BitextMining', 'Clustering', 'Classification', 'InstructionRetrieval', 'MultilabelClassification', 'PairClassification', 'Reranking', 'Retrieval', 'Retrieval-query', 'Retrieval-document', 'STS', 'Summarization']\n",
      "INFO:root:embedding model loaded successfully: google/embeddinggemma-300m\n"
     ]
    }
   ],
   "execution_count": 11
  },
  {
   "metadata": {
    "ExecuteTime": {
     "end_time": "2025-10-06T15:54:52.416356Z",
     "start_time": "2025-10-06T15:54:51.345009Z"
    }
   },
   "cell_type": "code",
   "source": [
    "with open(\"../test_cases/augmented_agentic_rag_test_cases.json\", \"r\") as f:\n",
    "    test_cases = json.load(f)\n",
    "\n",
    "user_query_list = []\n",
    "results_lst = []\n",
    "expected_retrievals_lst = []\n",
    "for idx, test_case in enumerate(test_cases[:5]):\n",
    "    print(f\"Test Case {idx+1}: {test_case['id']}\")\n",
    "    user_query = test_case[\"conversation\"][0][\"user_query\"]\n",
    "    user_query_list.append(user_query)\n",
    "    print(\"Query:\", user_query)\n",
    "    expected_retrievals = test_case.get(\"expected_retrieval\", {})\n",
    "    print(expected_retrievals.items())\n",
    "    for key, value in expected_retrievals.items():\n",
    "        if key == \"ltm\":\n",
    "            print(\"Retrieving from ltm...\")\n",
    "            retrieved_ltm = retrieval_agent.retrieve_similar_ltm(user_query)\n",
    "            expected_retrievals_lst.append(value)\n",
    "            results_lst.append(retrieved_ltm)\n",
    "        elif key == \"stm\":\n",
    "            print(\"Retrieving from stm...\")\n",
    "            retrieved_stm = retrieval_agent.retrieve_similar_stm(user_query)\n",
    "            expected_retrievals_lst.append(value)\n",
    "            results_lst.append(retrieved_stm)\n",
    "        elif key == \"hcm\":\n",
    "            print(\"Retrieving from hcm...\")\n",
    "            retrieved_hcm = retrieval_agent.retrieve_similar_health(user_query)\n",
    "            expected_retrievals_lst.append(value)\n",
    "            results_lst.append(retrieved_hcm)\n",
    "        else:\n",
    "            print(f\"Unknown retrieval type: {key}\")\n"
   ],
   "id": "1699a304e70374ac",
   "outputs": [
    {
     "name": "stdout",
     "output_type": "stream",
     "text": [
      "Test Case 1: LTM_1\n",
      "Query: Who is your daughter-in-law?\n",
      "dict_items([('ltm', [{'document_id': 'LTM001', 'key': 'Daughter-in-law', 'value': 'Meena Singh'}])])\n",
      "Retrieving from ltm...\n"
     ]
    },
    {
     "data": {
      "text/plain": [
       "Batches:   0%|          | 0/1 [00:00<?, ?it/s]"
      ],
      "application/vnd.jupyter.widget-view+json": {
       "version_major": 2,
       "version_minor": 0,
       "model_id": "ff403f749f0f4b07a057f4d3f60c3c95"
      }
     },
     "metadata": {},
     "output_type": "display_data"
    },
    {
     "name": "stdout",
     "output_type": "stream",
     "text": [
      "Test Case 2: LTM_2\n",
      "Query: Who usually joins me for birthday celebrations?\n",
      "dict_items([('ltm', [{'document_id': 'LTM005', 'key': 'family_relationship', 'value': 'Children and grandchildren usually join birthday celebrations'}])])\n",
      "Retrieving from ltm...\n"
     ]
    },
    {
     "data": {
      "text/plain": [
       "Batches:   0%|          | 0/1 [00:00<?, ?it/s]"
      ],
      "application/vnd.jupyter.widget-view+json": {
       "version_major": 2,
       "version_minor": 0,
       "model_id": "322fe956187e421fa4b5c8edcc7cd624"
      }
     },
     "metadata": {},
     "output_type": "display_data"
    },
    {
     "name": "stdout",
     "output_type": "stream",
     "text": [
      "Test Case 3: HCM_1\n",
      "Query: What medications do I take every morning?\n",
      "dict_items([('hcm', [{'document_id': 'HCM001', 'medication_name': 'Metformin', 'dosage': '500mg'}, {'document_id': 'HCM002', 'medication_name': 'Amlodipine', 'dosage': '10mg'}])])\n",
      "Retrieving from hcm...\n"
     ]
    },
    {
     "data": {
      "text/plain": [
       "Batches:   0%|          | 0/1 [00:00<?, ?it/s]"
      ],
      "application/vnd.jupyter.widget-view+json": {
       "version_major": 2,
       "version_minor": 0,
       "model_id": "7fd17ccf8d2f4d4f93bd541f767a0a36"
      }
     },
     "metadata": {},
     "output_type": "display_data"
    },
    {
     "name": "stdout",
     "output_type": "stream",
     "text": [
      "Test Case 4: STM_1\n",
      "Query: What should I have for dinner later?\n",
      "dict_items([('stm', [{'document_id': 'STM014', 'timestamp': '2025-10-01T18:30:00Z', 'content': 'I feel like eating fish head curry tonight.'}])])\n",
      "Retrieving from stm...\n"
     ]
    },
    {
     "data": {
      "text/plain": [
       "Batches:   0%|          | 0/1 [00:00<?, ?it/s]"
      ],
      "application/vnd.jupyter.widget-view+json": {
       "version_major": 2,
       "version_minor": 0,
       "model_id": "91d31f7ebcaf4822903d480d48893c2d"
      }
     },
     "metadata": {},
     "output_type": "display_data"
    },
    {
     "name": "stdout",
     "output_type": "stream",
     "text": [
      "Test Case 5: STM_2\n",
      "Query: What was I supposed to do in the morning?\n",
      "dict_items([('stm', [{'document_id': 'STM_011', 'timestamp': '2025-09-28T20:00:00Z', 'content': 'I’d like to call my daughter Meena tomorrow morning.'}])])\n",
      "Retrieving from stm...\n"
     ]
    },
    {
     "data": {
      "text/plain": [
       "Batches:   0%|          | 0/1 [00:00<?, ?it/s]"
      ],
      "application/vnd.jupyter.widget-view+json": {
       "version_major": 2,
       "version_minor": 0,
       "model_id": "6f178598dbff42be84bc20cab72e6c3b"
      }
     },
     "metadata": {},
     "output_type": "display_data"
    }
   ],
   "execution_count": 23
  },
  {
   "metadata": {
    "ExecuteTime": {
     "end_time": "2025-10-06T15:55:45.505204Z",
     "start_time": "2025-10-06T15:55:45.446981Z"
    }
   },
   "cell_type": "code",
   "source": [
    "all_results = {\n",
    "    \"user_query\" : user_query_list,\n",
    "    \"expected_retrievals\" : expected_retrievals_lst,\n",
    "    \"results\" : results_lst\n",
    "}\n",
    "all_results = pd.DataFrame(all_results)\n",
    "\n",
    "display(all_results)"
   ],
   "id": "35c3f2da0a8e0c5d",
   "outputs": [
    {
     "data": {
      "text/plain": [
       "                                        user_query  \\\n",
       "0                     Who is your daughter-in-law?   \n",
       "1  Who usually joins me for birthday celebrations?   \n",
       "2        What medications do I take every morning?   \n",
       "3             What should I have for dinner later?   \n",
       "4        What was I supposed to do in the morning?   \n",
       "\n",
       "                                 expected_retrievals  \\\n",
       "0  [{'document_id': 'LTM001', 'key': 'Daughter-in...   \n",
       "1  [{'document_id': 'LTM005', 'key': 'family_rela...   \n",
       "2  [{'document_id': 'HCM001', 'medication_name': ...   \n",
       "3  [{'document_id': 'STM014', 'timestamp': '2025-...   \n",
       "4  [{'document_id': 'STM_011', 'timestamp': '2025...   \n",
       "\n",
       "                                             results  \n",
       "0  [{'category': 'family', 'key': 'friend', 'valu...  \n",
       "1  [{'category': 'family', 'key': 'family_relatio...  \n",
       "2  [{'record_type': 'medication', 'description': ...  \n",
       "3  [{'content': 'I want to eat salad for lunch to...  \n",
       "4  [{'content': 'I had kaya toast for breakfast t...  "
      ],
      "text/html": [
       "<div>\n",
       "<style scoped>\n",
       "    .dataframe tbody tr th:only-of-type {\n",
       "        vertical-align: middle;\n",
       "    }\n",
       "\n",
       "    .dataframe tbody tr th {\n",
       "        vertical-align: top;\n",
       "    }\n",
       "\n",
       "    .dataframe thead th {\n",
       "        text-align: right;\n",
       "    }\n",
       "</style>\n",
       "<table border=\"1\" class=\"dataframe\">\n",
       "  <thead>\n",
       "    <tr style=\"text-align: right;\">\n",
       "      <th></th>\n",
       "      <th>user_query</th>\n",
       "      <th>expected_retrievals</th>\n",
       "      <th>results</th>\n",
       "    </tr>\n",
       "  </thead>\n",
       "  <tbody>\n",
       "    <tr>\n",
       "      <th>0</th>\n",
       "      <td>Who is your daughter-in-law?</td>\n",
       "      <td>[{'document_id': 'LTM001', 'key': 'Daughter-in...</td>\n",
       "      <td>[{'category': 'family', 'key': 'friend', 'valu...</td>\n",
       "    </tr>\n",
       "    <tr>\n",
       "      <th>1</th>\n",
       "      <td>Who usually joins me for birthday celebrations?</td>\n",
       "      <td>[{'document_id': 'LTM005', 'key': 'family_rela...</td>\n",
       "      <td>[{'category': 'family', 'key': 'family_relatio...</td>\n",
       "    </tr>\n",
       "    <tr>\n",
       "      <th>2</th>\n",
       "      <td>What medications do I take every morning?</td>\n",
       "      <td>[{'document_id': 'HCM001', 'medication_name': ...</td>\n",
       "      <td>[{'record_type': 'medication', 'description': ...</td>\n",
       "    </tr>\n",
       "    <tr>\n",
       "      <th>3</th>\n",
       "      <td>What should I have for dinner later?</td>\n",
       "      <td>[{'document_id': 'STM014', 'timestamp': '2025-...</td>\n",
       "      <td>[{'content': 'I want to eat salad for lunch to...</td>\n",
       "    </tr>\n",
       "    <tr>\n",
       "      <th>4</th>\n",
       "      <td>What was I supposed to do in the morning?</td>\n",
       "      <td>[{'document_id': 'STM_011', 'timestamp': '2025...</td>\n",
       "      <td>[{'content': 'I had kaya toast for breakfast t...</td>\n",
       "    </tr>\n",
       "  </tbody>\n",
       "</table>\n",
       "</div>"
      ]
     },
     "metadata": {},
     "output_type": "display_data"
    }
   ],
   "execution_count": 26
  },
  {
   "metadata": {},
   "cell_type": "code",
   "outputs": [],
   "execution_count": null,
   "source": "",
   "id": "816a4130aa024c82"
  }
 ],
 "metadata": {
  "kernelspec": {
   "display_name": "Python 3",
   "language": "python",
   "name": "python3"
  },
  "language_info": {
   "codemirror_mode": {
    "name": "ipython",
    "version": 2
   },
   "file_extension": ".py",
   "mimetype": "text/x-python",
   "name": "python",
   "nbconvert_exporter": "python",
   "pygments_lexer": "ipython2",
   "version": "2.7.6"
  }
 },
 "nbformat": 4,
 "nbformat_minor": 5
}
