{
 "cells": [
  {
   "cell_type": "code",
   "execution_count": 23,
   "id": "9f5c41c4",
   "metadata": {},
   "outputs": [],
   "source": [
    "import os, sys\n",
    "sys.path.append(os.path.abspath(\"../..\"))"
   ]
  },
  {
   "cell_type": "code",
   "execution_count": 24,
   "id": "initial_id",
   "metadata": {
    "ExecuteTime": {
     "end_time": "2025-10-07T03:04:24.419184Z",
     "start_time": "2025-10-07T03:04:24.412425Z"
    },
    "collapsed": true
   },
   "outputs": [],
   "source": [
    "import os\n",
    "\n",
    "import pandas as pd\n",
    "from dotenv import load_dotenv\n",
    "import psycopg2\n",
    "from psycopg2.extras import execute_values\n",
    "from pyarrow.compute import top_k_unstable\n",
    "from sentence_transformers import SentenceTransformer\n",
    "from huggingface_hub import login\n",
    "import json\n",
    "import pprint\n",
    "\n",
    "from RAG.retrieval_agent import RetrievalAgent"
   ]
  },
  {
   "cell_type": "code",
   "execution_count": 25,
   "id": "7a0da2df516e9d5f",
   "metadata": {
    "ExecuteTime": {
     "end_time": "2025-10-07T03:04:25.299595Z",
     "start_time": "2025-10-07T03:04:25.291634Z"
    }
   },
   "outputs": [],
   "source": [
    "with open(\"../test_cases/knowledge_base.json\") as f:\n",
    "    knowledge_base = json.load(f)\n",
    "    stm_data = knowledge_base[\"STM_data\"]\n",
    "    ltm_data = knowledge_base[\"LTM_data\"]\n",
    "    hcm_data = knowledge_base[\"HCM_data\"]\n",
    "\n",
    "stm_data_doc_ids_mapping = {stm['content']:stm['document_id'] for stm in stm_data}\n",
    "ltm_data_doc_ids_mapping = {ltm_document['value']: ltm_document['document_id'] for ltm_document in ltm_data}\n",
    "hcm_data_doc_ids_mapping = {hcm_record['description']: hcm_record['document_id'] for hcm_record in hcm_data}\n",
    "\n",
    "consolidated_mapping = {\n",
    "    'stm': stm_data_doc_ids_mapping,\n",
    "    'ltm': ltm_data_doc_ids_mapping,\n",
    "    'hcm': hcm_data_doc_ids_mapping\n",
    "}\n",
    "with open(\"../test_cases/doc_mapping.json\", \"w\") as f:\n",
    "    json.dump(consolidated_mapping, f, indent=4)"
   ]
  },
  {
   "cell_type": "markdown",
   "id": "5b95aad7559eba91",
   "metadata": {},
   "source": [
    "### Test with the rag_test_cases.json file"
   ]
  },
  {
   "cell_type": "code",
   "execution_count": 26,
   "id": "83d52a7a95d8f63b",
   "metadata": {
    "ExecuteTime": {
     "end_time": "2025-10-07T03:05:27.460066Z",
     "start_time": "2025-10-07T03:05:20.960109Z"
    }
   },
   "outputs": [
    {
     "name": "stderr",
     "output_type": "stream",
     "text": [
      "INFO:root:Loading embedding model: google/embeddinggemma-300m\n",
      "INFO:sentence_transformers.SentenceTransformer:Use pytorch device_name: cpu\n",
      "INFO:sentence_transformers.SentenceTransformer:Load pretrained SentenceTransformer: google/embeddinggemma-300m\n",
      "INFO:sentence_transformers.SentenceTransformer:14 prompts are loaded, with the keys: ['query', 'document', 'BitextMining', 'Clustering', 'Classification', 'InstructionRetrieval', 'MultilabelClassification', 'PairClassification', 'Reranking', 'Retrieval', 'Retrieval-query', 'Retrieval-document', 'STS', 'Summarization']\n",
      "INFO:root:embedding model loaded successfully: google/embeddinggemma-300m\n"
     ]
    }
   ],
   "source": [
    "test_elderly_id = \"87654321-4321-4321-4321-019876543210\"\n",
    "retrieval_agent = RetrievalAgent(test_elderly_id)"
   ]
  },
  {
   "cell_type": "markdown",
   "id": "dfd079ee76e03ef6",
   "metadata": {},
   "source": [
    "### Perform evaluation for single test memory store retrival\n"
   ]
  },
  {
   "cell_type": "code",
   "execution_count": 27,
   "id": "1699a304e70374ac",
   "metadata": {
    "ExecuteTime": {
     "end_time": "2025-10-07T03:48:36.044212Z",
     "start_time": "2025-10-07T03:48:34.063832Z"
    }
   },
   "outputs": [
    {
     "name": "stdout",
     "output_type": "stream",
     "text": [
      "Test Case 1: LTM_1\n",
      "Query: Who is your daughter-in-law?\n",
      "Retrieving from ltm...\n"
     ]
    },
    {
     "name": "stderr",
     "output_type": "stream",
     "text": [
      "Batches: 100%|██████████| 1/1 [00:00<00:00,  6.51it/s]\n"
     ]
    },
    {
     "name": "stdout",
     "output_type": "stream",
     "text": [
      "Test Case 2: LTM_2\n",
      "Query: Who usually joins me for birthday celebrations?\n",
      "Retrieving from ltm...\n"
     ]
    },
    {
     "name": "stderr",
     "output_type": "stream",
     "text": [
      "Batches: 100%|██████████| 1/1 [00:00<00:00, 11.65it/s]\n"
     ]
    },
    {
     "name": "stdout",
     "output_type": "stream",
     "text": [
      "Test Case 3: HCM_1\n",
      "Query: What medications do I take every morning?\n",
      "Retrieving from hcm...\n"
     ]
    },
    {
     "name": "stderr",
     "output_type": "stream",
     "text": [
      "Batches: 100%|██████████| 1/1 [00:00<00:00,  7.43it/s]"
     ]
    },
    {
     "name": "stdout",
     "output_type": "stream",
     "text": [
      "Test Case 4: STM_1"
     ]
    },
    {
     "name": "stderr",
     "output_type": "stream",
     "text": [
      "\n"
     ]
    },
    {
     "name": "stdout",
     "output_type": "stream",
     "text": [
      "\n",
      "Query: What should I have for dinner later?\n",
      "Retrieving from stm...\n"
     ]
    },
    {
     "name": "stderr",
     "output_type": "stream",
     "text": [
      "Batches: 100%|██████████| 1/1 [00:00<00:00,  7.70it/s]"
     ]
    },
    {
     "name": "stdout",
     "output_type": "stream",
     "text": [
      "Test Case 5: STM_2\n",
      "Query: What was I supposed to do in the morning?\n",
      "Retrieving from stm...\n"
     ]
    },
    {
     "name": "stderr",
     "output_type": "stream",
     "text": [
      "\n",
      "Batches: 100%|██████████| 1/1 [00:00<00:00,  7.50it/s]\n"
     ]
    },
    {
     "name": "stdout",
     "output_type": "stream",
     "text": [
      "Test Case 6: STM_3\n",
      "Query: When was the health talk again?\n",
      "Retrieving from stm...\n"
     ]
    },
    {
     "name": "stderr",
     "output_type": "stream",
     "text": [
      "Batches: 100%|██████████| 1/1 [00:00<00:00,  5.44it/s]\n"
     ]
    },
    {
     "name": "stdout",
     "output_type": "stream",
     "text": [
      "Test Case 7: Temporal_1\n",
      "Query: What should I eat now?\n",
      "Retrieving from stm...\n"
     ]
    },
    {
     "name": "stderr",
     "output_type": "stream",
     "text": [
      "Batches: 100%|██████████| 1/1 [00:00<00:00,  7.26it/s]\n"
     ]
    },
    {
     "name": "stdout",
     "output_type": "stream",
     "text": [
      "Test Case 8: MultiMem_1\n",
      "Query: Should I bring someone for my morning walk tomorrow?\n",
      "Retrieving from ltm...\n"
     ]
    },
    {
     "name": "stderr",
     "output_type": "stream",
     "text": [
      "Batches: 100%|██████████| 1/1 [00:00<00:00,  6.90it/s]"
     ]
    },
    {
     "name": "stdout",
     "output_type": "stream",
     "text": [
      "Test Case 9: MultiMem_2"
     ]
    },
    {
     "name": "stderr",
     "output_type": "stream",
     "text": [
      "\n"
     ]
    },
    {
     "name": "stdout",
     "output_type": "stream",
     "text": [
      "\n",
      "Query: Can I still play badminton?\n",
      "Skipping multi memory store retrieval test case\n",
      "Test Case 10: MultiMem_3\n",
      "Query: What’s my usual breakfast?\n",
      "Retrieving from ltm...\n"
     ]
    },
    {
     "name": "stderr",
     "output_type": "stream",
     "text": [
      "Batches: 100%|██████████| 1/1 [00:00<00:00,  9.36it/s]\n"
     ]
    },
    {
     "name": "stdout",
     "output_type": "stream",
     "text": [
      "Test Case 11: MultiMem_4\n",
      "Query: Can I drink coffee with my medicines?\n",
      "Skipping multi memory store retrieval test case\n",
      "Test Case 12: LTM_3\n",
      "Query: Who is my grandson?\n",
      "Retrieving from ltm...\n"
     ]
    },
    {
     "name": "stderr",
     "output_type": "stream",
     "text": [
      "Batches: 100%|██████████| 1/1 [00:00<00:00,  9.44it/s]\n"
     ]
    },
    {
     "name": "stdout",
     "output_type": "stream",
     "text": [
      "Test Case 13: STM_3\n",
      "Query: Who did I meet yesterday at the bakery?\n",
      "Retrieving from stm...\n"
     ]
    },
    {
     "name": "stderr",
     "output_type": "stream",
     "text": [
      "Batches: 100%|██████████| 1/1 [00:00<00:00,  4.75it/s]\n"
     ]
    },
    {
     "name": "stdout",
     "output_type": "stream",
     "text": [
      "Test Case 14: HCM_2\n",
      "Query: What health conditions do I currently have?\n",
      "Retrieving from hcm...\n"
     ]
    },
    {
     "name": "stderr",
     "output_type": "stream",
     "text": [
      "Batches: 100%|██████████| 1/1 [00:00<00:00,  7.40it/s]\n"
     ]
    },
    {
     "name": "stdout",
     "output_type": "stream",
     "text": [
      "Test Case 15: MultiMem_5\n",
      "Query: Who do I usually meet for my morning walks?\n",
      "Skipping multi memory store retrieval test case\n",
      "Test Case 16: MultiMem_6\n",
      "Query: Should I attend the health talk next week?\n",
      "Skipping multi memory store retrieval test case\n",
      "Test Case 17: Temporal_2\n",
      "Query: What did I plan to buy tomorrow morning?\n",
      "Retrieving from stm...\n"
     ]
    },
    {
     "name": "stderr",
     "output_type": "stream",
     "text": [
      "Batches: 100%|██████████| 1/1 [00:00<00:00,  7.41it/s]\n"
     ]
    },
    {
     "name": "stdout",
     "output_type": "stream",
     "text": [
      "Test Case 18: CrossMem_1\n",
      "Query: What hobbies do I enjoy that keep me healthy?\n",
      "Skipping multi memory store retrieval test case\n",
      "Test Case 19: CrossMem_2\n",
      "Query: What did I say about my grandson’s school project?\n",
      "Skipping multi memory store retrieval test case\n",
      "Test Case 20: MultiMem_7\n",
      "Query: Do I still enjoy gardening despite my knee surgery?\n",
      "Skipping multi memory store retrieval test case\n",
      "Test Case 21: STM_4\n",
      "Query: What did I enjoy listening to yesterday evening?\n",
      "Retrieving from stm...\n"
     ]
    },
    {
     "name": "stderr",
     "output_type": "stream",
     "text": [
      "Batches: 100%|██████████| 1/1 [00:00<00:00,  8.53it/s]\n"
     ]
    }
   ],
   "source": [
    "with open(\"../test_cases/augmented_agentic_rag_test_cases.json\", \"r\") as f:\n",
    "    test_cases = json.load(f)\n",
    "\n",
    "user_query_list = []\n",
    "results_lst = []\n",
    "expected_retrievals_lst = []\n",
    "test_case_id_lst = []\n",
    "retrieval_type_lst= []\n",
    "for idx, test_case in enumerate(test_cases):\n",
    "    print(f\"Test Case {idx+1}: {test_case['id']}\")\n",
    "    test_case_id_lst.append(test_case['id'])\n",
    "    user_query = test_case[\"conversation\"][0][\"user_query\"]\n",
    "    user_query_list.append(user_query)\n",
    "    print(\"Query:\", user_query)\n",
    "    expected_retrievals = test_case.get(\"expected_retrieval\", {})\n",
    "    if len(expected_retrievals) > 1:\n",
    "        test_case_id_lst.pop()  # remove last appended test case id\n",
    "        user_query_list.pop()\n",
    "        print(\"Skipping multi memory store retrieval test case\")\n",
    "        continue\n",
    "    assert len(expected_retrievals) == 1, \"This cell supports single memory store retrieval\"\n",
    "    for key, value in expected_retrievals.items():\n",
    "        retrieval_type_lst.append(key)\n",
    "        if key == \"ltm\":\n",
    "            print(\"Retrieving from ltm...\")\n",
    "            retrieved_ltm = retrieval_agent.retrieve_similar_ltm(user_query)\n",
    "            expected_retrievals_lst.append(value)\n",
    "            results_lst.append(retrieved_ltm)\n",
    "        elif key == \"stm\":\n",
    "            print(\"Retrieving from stm...\")\n",
    "            retrieved_stm = retrieval_agent.retrieve_similar_stm(user_query)\n",
    "            expected_retrievals_lst.append(value)\n",
    "            results_lst.append(retrieved_stm)\n",
    "        elif key == \"hcm\":\n",
    "            print(\"Retrieving from hcm...\")\n",
    "            retrieved_hcm = retrieval_agent.retrieve_similar_health(user_query)\n",
    "            expected_retrievals_lst.append(value)\n",
    "            results_lst.append(retrieved_hcm)\n",
    "        else:\n",
    "            print(f\"Unknown retrieval type: {key}\")\n"
   ]
  },
  {
   "cell_type": "code",
   "execution_count": 28,
   "id": "35c3f2da0a8e0c5d",
   "metadata": {
    "ExecuteTime": {
     "end_time": "2025-10-07T03:48:46.108407Z",
     "start_time": "2025-10-07T03:48:46.104565Z"
    }
   },
   "outputs": [],
   "source": [
    "all_results = {\n",
    "    \"test_case_id\" : test_case_id_lst,\n",
    "    \"retrieval_type\" : retrieval_type_lst,\n",
    "    \"user_query\" : user_query_list,\n",
    "    \"expected_retrievals\" : expected_retrievals_lst,\n",
    "    \"results\" : results_lst\n",
    "}\n",
    "\n",
    "all_results = pd.DataFrame(all_results)\n"
   ]
  },
  {
   "cell_type": "code",
   "execution_count": 29,
   "id": "816a4130aa024c82",
   "metadata": {
    "ExecuteTime": {
     "end_time": "2025-10-07T03:48:58.126863Z",
     "start_time": "2025-10-07T03:48:58.116600Z"
    }
   },
   "outputs": [],
   "source": [
    "def reattach_doc_id(row):\n",
    "    with open(\"../test_cases/doc_mapping.json\", \"r\") as f:\n",
    "        doc_mapping = json.load(f)\n",
    "    retrieval_type = row[\"retrieval_type\"]\n",
    "    results_list = row[\"results\"]\n",
    "    if retrieval_type == \"ltm\":\n",
    "        for result in results_list:\n",
    "            result['document_id'] = doc_mapping['ltm'].get(result['value'], None)\n",
    "    elif retrieval_type == \"stm\":\n",
    "        for result in results_list:\n",
    "            result['document_id'] = doc_mapping['stm'].get(result['content'], None)\n",
    "    elif retrieval_type == \"hcm\":\n",
    "        for result in results_list:\n",
    "            result['document_id'] = doc_mapping['hcm'].get(result['description'], None)\n",
    "    return results_list\n",
    "\n",
    "all_results['results'] = all_results.apply(reattach_doc_id, axis=1)"
   ]
  },
  {
   "cell_type": "code",
   "execution_count": 30,
   "id": "a97a0bd7a0e33d42",
   "metadata": {
    "ExecuteTime": {
     "end_time": "2025-10-07T03:48:58.723315Z",
     "start_time": "2025-10-07T03:48:58.714954Z"
    }
   },
   "outputs": [],
   "source": [
    "def extract_retrieved_ids(row):\n",
    "    results = row['results']\n",
    "    retrieved_ids = [res.get('document_id', None) for res in results if res.get('document_id', None) is not None]\n",
    "    return retrieved_ids\n",
    "\n",
    "def extract_reference_ids(row):\n",
    "    expected_retrievals = row['expected_retrievals']\n",
    "    reference_ids = [ref.get('document_id', None) for ref in expected_retrievals if ref.get('document_id', None) is not None]\n",
    "    return reference_ids\n",
    "\n",
    "all_results['retrieved_ids'] = all_results.apply(extract_retrieved_ids, axis=1)\n",
    "all_results['reference_ids'] = all_results.apply(extract_reference_ids, axis=1)\n"
   ]
  },
  {
   "cell_type": "markdown",
   "id": "bb7dc65d33c6f075",
   "metadata": {},
   "source": [
    "### Compute context precision and context recall\n",
    "\n",
    "#### Context Precision (ID BASED)\n",
    "\n",
    "    Context Precision = (Number of retrieved_Context IDs found in reference Context IDs) / (Total number of retrieved context IDs)\n",
    "\n",
    "#### Context Recall (ID BASED):\n",
    "    Context Recall = (Number of reference context IDs found in retrieved context IDs) / (Total number of reference context IDs)\n",
    "\n",
    "\n",
    "Referencing RAGAS evaluation template:\n",
    "https://docs.ragas.io/en/stable/concepts/metrics/available_metrics/context_recall/\n",
    "https://docs.ragas.io/en/stable/concepts/metrics/available_metrics/context_precision/"
   ]
  },
  {
   "cell_type": "code",
   "execution_count": 31,
   "id": "9b65301e545e8547",
   "metadata": {
    "ExecuteTime": {
     "end_time": "2025-10-07T03:49:00.842929Z",
     "start_time": "2025-10-07T03:49:00.808655Z"
    }
   },
   "outputs": [
    {
     "data": {
      "text/html": [
       "<div>\n",
       "<style scoped>\n",
       "    .dataframe tbody tr th:only-of-type {\n",
       "        vertical-align: middle;\n",
       "    }\n",
       "\n",
       "    .dataframe tbody tr th {\n",
       "        vertical-align: top;\n",
       "    }\n",
       "\n",
       "    .dataframe thead th {\n",
       "        text-align: right;\n",
       "    }\n",
       "</style>\n",
       "<table border=\"1\" class=\"dataframe\">\n",
       "  <thead>\n",
       "    <tr style=\"text-align: right;\">\n",
       "      <th></th>\n",
       "      <th>test_case_id</th>\n",
       "      <th>retrieval_type</th>\n",
       "      <th>user_query</th>\n",
       "      <th>expected_retrievals</th>\n",
       "      <th>results</th>\n",
       "      <th>retrieved_ids</th>\n",
       "      <th>reference_ids</th>\n",
       "      <th>context_precision</th>\n",
       "      <th>context_recall</th>\n",
       "      <th>num_retrieved</th>\n",
       "    </tr>\n",
       "  </thead>\n",
       "  <tbody>\n",
       "    <tr>\n",
       "      <th>0</th>\n",
       "      <td>LTM_1</td>\n",
       "      <td>ltm</td>\n",
       "      <td>Who is your daughter-in-law?</td>\n",
       "      <td>[{'document_id': 'LTM001', 'key': 'Daughter-in...</td>\n",
       "      <td>[{'category': 'family', 'key': 'Ganesh Menon D...</td>\n",
       "      <td>[LTM_002, LTM_012, LTM_001, LTM_005, LTM_007]</td>\n",
       "      <td>[LTM001]</td>\n",
       "      <td>0.0</td>\n",
       "      <td>0.0</td>\n",
       "      <td>5</td>\n",
       "    </tr>\n",
       "    <tr>\n",
       "      <th>1</th>\n",
       "      <td>LTM_2</td>\n",
       "      <td>ltm</td>\n",
       "      <td>Who usually joins me for birthday celebrations?</td>\n",
       "      <td>[{'document_id': 'LTM005', 'key': 'family_rela...</td>\n",
       "      <td>[{'category': 'family', 'key': 'family_relatio...</td>\n",
       "      <td>[LTM_005, LTM_001, LTM_012, LTM_013, LTM_007]</td>\n",
       "      <td>[LTM005]</td>\n",
       "      <td>0.0</td>\n",
       "      <td>0.0</td>\n",
       "      <td>5</td>\n",
       "    </tr>\n",
       "    <tr>\n",
       "      <th>2</th>\n",
       "      <td>HCM_1</td>\n",
       "      <td>hcm</td>\n",
       "      <td>What medications do I take every morning?</td>\n",
       "      <td>[{'document_id': 'HCM_001', 'type': 'medicatio...</td>\n",
       "      <td>[{'record_type': 'medication', 'description': ...</td>\n",
       "      <td>[HCM_001, HCM_002, HCM_004, HCM_003, HCM_005]</td>\n",
       "      <td>[HCM_001, HCM_002]</td>\n",
       "      <td>0.4</td>\n",
       "      <td>1.0</td>\n",
       "      <td>5</td>\n",
       "    </tr>\n",
       "    <tr>\n",
       "      <th>3</th>\n",
       "      <td>STM_1</td>\n",
       "      <td>stm</td>\n",
       "      <td>What should I have for dinner later?</td>\n",
       "      <td>[{'document_id': 'STM014', 'timestamp': '2025-...</td>\n",
       "      <td>[{'content': 'I want to eat salad for lunch to...</td>\n",
       "      <td>[STM_032, STM_009, STM_021, STM_046, STM_020]</td>\n",
       "      <td>[STM014]</td>\n",
       "      <td>0.0</td>\n",
       "      <td>0.0</td>\n",
       "      <td>5</td>\n",
       "    </tr>\n",
       "    <tr>\n",
       "      <th>4</th>\n",
       "      <td>STM_2</td>\n",
       "      <td>stm</td>\n",
       "      <td>What was I supposed to do in the morning?</td>\n",
       "      <td>[{'document_id': 'STM_011', 'timestamp': '2025...</td>\n",
       "      <td>[{'content': 'I made toast and eggs for breakf...</td>\n",
       "      <td>[STM_007, STM_001, STM_015, STM_047, STM_049]</td>\n",
       "      <td>[STM_011]</td>\n",
       "      <td>0.0</td>\n",
       "      <td>0.0</td>\n",
       "      <td>5</td>\n",
       "    </tr>\n",
       "    <tr>\n",
       "      <th>5</th>\n",
       "      <td>STM_3</td>\n",
       "      <td>stm</td>\n",
       "      <td>When was the health talk again?</td>\n",
       "      <td>[{'document_id': 'STM_052', 'timestamp': '2025...</td>\n",
       "      <td>[{'content': 'I heard there will be a health t...</td>\n",
       "      <td>[STM_052, STM_001, STM_037, STM_016, STM_023]</td>\n",
       "      <td>[STM_052]</td>\n",
       "      <td>0.2</td>\n",
       "      <td>1.0</td>\n",
       "      <td>5</td>\n",
       "    </tr>\n",
       "    <tr>\n",
       "      <th>6</th>\n",
       "      <td>Temporal_1</td>\n",
       "      <td>stm</td>\n",
       "      <td>What should I eat now?</td>\n",
       "      <td>[{'document_id': 'STM_010', 'timestamp': '2025...</td>\n",
       "      <td>[{'content': 'I want to eat salad for lunch to...</td>\n",
       "      <td>[STM_032, STM_009, STM_046, STM_001, STM_051]</td>\n",
       "      <td>[STM_010, STM_014, STM_003]</td>\n",
       "      <td>0.0</td>\n",
       "      <td>0.0</td>\n",
       "      <td>5</td>\n",
       "    </tr>\n",
       "    <tr>\n",
       "      <th>7</th>\n",
       "      <td>MultiMem_1</td>\n",
       "      <td>ltm</td>\n",
       "      <td>Should I bring someone for my morning walk tom...</td>\n",
       "      <td>[{'document_id': 'LTM_004', 'category': 'lifes...</td>\n",
       "      <td>[{'category': 'lifestyle', 'key': 'routine', '...</td>\n",
       "      <td>[LTM_009, LTM_004, LTM_014, LTM_008, LTM_007]</td>\n",
       "      <td>[LTM_004, LTM_003]</td>\n",
       "      <td>0.2</td>\n",
       "      <td>0.5</td>\n",
       "      <td>5</td>\n",
       "    </tr>\n",
       "    <tr>\n",
       "      <th>8</th>\n",
       "      <td>MultiMem_3</td>\n",
       "      <td>ltm</td>\n",
       "      <td>What’s my usual breakfast?</td>\n",
       "      <td>[{'document_id': 'LTM_008', 'category': 'lifes...</td>\n",
       "      <td>[{'category': 'lifestyle', 'key': 'routine', '...</td>\n",
       "      <td>[LTM_008, LTM_004, LTM_014, LTM_001, LTM_012]</td>\n",
       "      <td>[LTM_008]</td>\n",
       "      <td>0.2</td>\n",
       "      <td>1.0</td>\n",
       "      <td>5</td>\n",
       "    </tr>\n",
       "    <tr>\n",
       "      <th>9</th>\n",
       "      <td>LTM_3</td>\n",
       "      <td>ltm</td>\n",
       "      <td>Who is my grandson?</td>\n",
       "      <td>[{'document_id': 'LTM_011', 'category': 'famil...</td>\n",
       "      <td>[{'category': 'family', 'key': 'Ganesh Menon D...</td>\n",
       "      <td>[LTM_002, LTM_001, LTM_012, LTM_005, LTM_007]</td>\n",
       "      <td>[LTM_011]</td>\n",
       "      <td>0.0</td>\n",
       "      <td>0.0</td>\n",
       "      <td>5</td>\n",
       "    </tr>\n",
       "    <tr>\n",
       "      <th>10</th>\n",
       "      <td>STM_3</td>\n",
       "      <td>stm</td>\n",
       "      <td>Who did I meet yesterday at the bakery?</td>\n",
       "      <td>[{'document_id': 'STM_012', 'timestamp': '2025...</td>\n",
       "      <td>[{'content': 'I met Mrs Tan while buying bread...</td>\n",
       "      <td>[STM_012, STM_048, STM_027, STM_001, STM_013]</td>\n",
       "      <td>[STM_012]</td>\n",
       "      <td>0.2</td>\n",
       "      <td>1.0</td>\n",
       "      <td>5</td>\n",
       "    </tr>\n",
       "    <tr>\n",
       "      <th>11</th>\n",
       "      <td>HCM_2</td>\n",
       "      <td>hcm</td>\n",
       "      <td>What health conditions do I currently have?</td>\n",
       "      <td>[{'document_id': 'HCM_003', 'type': 'condition...</td>\n",
       "      <td>[{'record_type': 'condition', 'description': '...</td>\n",
       "      <td>[HCM_004, HCM_003, HCM_005, HCM_006, HCM_002]</td>\n",
       "      <td>[HCM_003, HCM_004]</td>\n",
       "      <td>0.4</td>\n",
       "      <td>1.0</td>\n",
       "      <td>5</td>\n",
       "    </tr>\n",
       "    <tr>\n",
       "      <th>12</th>\n",
       "      <td>Temporal_2</td>\n",
       "      <td>stm</td>\n",
       "      <td>What did I plan to buy tomorrow morning?</td>\n",
       "      <td>[{'document_id': 'STM_036', 'timestamp': '2025...</td>\n",
       "      <td>[{'content': 'I need to buy milk and eggs tomo...</td>\n",
       "      <td>[STM_036, STM_001, STM_007, STM_047, STM_055]</td>\n",
       "      <td>[STM_036]</td>\n",
       "      <td>0.2</td>\n",
       "      <td>1.0</td>\n",
       "      <td>5</td>\n",
       "    </tr>\n",
       "    <tr>\n",
       "      <th>13</th>\n",
       "      <td>STM_4</td>\n",
       "      <td>stm</td>\n",
       "      <td>What did I enjoy listening to yesterday evening?</td>\n",
       "      <td>[{'document_id': 'STM_044', 'timestamp': '2025...</td>\n",
       "      <td>[{'content': 'I enjoyed listening to some old ...</td>\n",
       "      <td>[STM_044, STM_024, STM_056, STM_007, STM_001]</td>\n",
       "      <td>[STM_044]</td>\n",
       "      <td>0.2</td>\n",
       "      <td>1.0</td>\n",
       "      <td>5</td>\n",
       "    </tr>\n",
       "  </tbody>\n",
       "</table>\n",
       "</div>"
      ],
      "text/plain": [
       "   test_case_id retrieval_type  \\\n",
       "0         LTM_1            ltm   \n",
       "1         LTM_2            ltm   \n",
       "2         HCM_1            hcm   \n",
       "3         STM_1            stm   \n",
       "4         STM_2            stm   \n",
       "5         STM_3            stm   \n",
       "6    Temporal_1            stm   \n",
       "7    MultiMem_1            ltm   \n",
       "8    MultiMem_3            ltm   \n",
       "9         LTM_3            ltm   \n",
       "10        STM_3            stm   \n",
       "11        HCM_2            hcm   \n",
       "12   Temporal_2            stm   \n",
       "13        STM_4            stm   \n",
       "\n",
       "                                           user_query  \\\n",
       "0                        Who is your daughter-in-law?   \n",
       "1     Who usually joins me for birthday celebrations?   \n",
       "2           What medications do I take every morning?   \n",
       "3                What should I have for dinner later?   \n",
       "4           What was I supposed to do in the morning?   \n",
       "5                     When was the health talk again?   \n",
       "6                              What should I eat now?   \n",
       "7   Should I bring someone for my morning walk tom...   \n",
       "8                          What’s my usual breakfast?   \n",
       "9                                 Who is my grandson?   \n",
       "10            Who did I meet yesterday at the bakery?   \n",
       "11        What health conditions do I currently have?   \n",
       "12           What did I plan to buy tomorrow morning?   \n",
       "13   What did I enjoy listening to yesterday evening?   \n",
       "\n",
       "                                  expected_retrievals  \\\n",
       "0   [{'document_id': 'LTM001', 'key': 'Daughter-in...   \n",
       "1   [{'document_id': 'LTM005', 'key': 'family_rela...   \n",
       "2   [{'document_id': 'HCM_001', 'type': 'medicatio...   \n",
       "3   [{'document_id': 'STM014', 'timestamp': '2025-...   \n",
       "4   [{'document_id': 'STM_011', 'timestamp': '2025...   \n",
       "5   [{'document_id': 'STM_052', 'timestamp': '2025...   \n",
       "6   [{'document_id': 'STM_010', 'timestamp': '2025...   \n",
       "7   [{'document_id': 'LTM_004', 'category': 'lifes...   \n",
       "8   [{'document_id': 'LTM_008', 'category': 'lifes...   \n",
       "9   [{'document_id': 'LTM_011', 'category': 'famil...   \n",
       "10  [{'document_id': 'STM_012', 'timestamp': '2025...   \n",
       "11  [{'document_id': 'HCM_003', 'type': 'condition...   \n",
       "12  [{'document_id': 'STM_036', 'timestamp': '2025...   \n",
       "13  [{'document_id': 'STM_044', 'timestamp': '2025...   \n",
       "\n",
       "                                              results  \\\n",
       "0   [{'category': 'family', 'key': 'Ganesh Menon D...   \n",
       "1   [{'category': 'family', 'key': 'family_relatio...   \n",
       "2   [{'record_type': 'medication', 'description': ...   \n",
       "3   [{'content': 'I want to eat salad for lunch to...   \n",
       "4   [{'content': 'I made toast and eggs for breakf...   \n",
       "5   [{'content': 'I heard there will be a health t...   \n",
       "6   [{'content': 'I want to eat salad for lunch to...   \n",
       "7   [{'category': 'lifestyle', 'key': 'routine', '...   \n",
       "8   [{'category': 'lifestyle', 'key': 'routine', '...   \n",
       "9   [{'category': 'family', 'key': 'Ganesh Menon D...   \n",
       "10  [{'content': 'I met Mrs Tan while buying bread...   \n",
       "11  [{'record_type': 'condition', 'description': '...   \n",
       "12  [{'content': 'I need to buy milk and eggs tomo...   \n",
       "13  [{'content': 'I enjoyed listening to some old ...   \n",
       "\n",
       "                                    retrieved_ids  \\\n",
       "0   [LTM_002, LTM_012, LTM_001, LTM_005, LTM_007]   \n",
       "1   [LTM_005, LTM_001, LTM_012, LTM_013, LTM_007]   \n",
       "2   [HCM_001, HCM_002, HCM_004, HCM_003, HCM_005]   \n",
       "3   [STM_032, STM_009, STM_021, STM_046, STM_020]   \n",
       "4   [STM_007, STM_001, STM_015, STM_047, STM_049]   \n",
       "5   [STM_052, STM_001, STM_037, STM_016, STM_023]   \n",
       "6   [STM_032, STM_009, STM_046, STM_001, STM_051]   \n",
       "7   [LTM_009, LTM_004, LTM_014, LTM_008, LTM_007]   \n",
       "8   [LTM_008, LTM_004, LTM_014, LTM_001, LTM_012]   \n",
       "9   [LTM_002, LTM_001, LTM_012, LTM_005, LTM_007]   \n",
       "10  [STM_012, STM_048, STM_027, STM_001, STM_013]   \n",
       "11  [HCM_004, HCM_003, HCM_005, HCM_006, HCM_002]   \n",
       "12  [STM_036, STM_001, STM_007, STM_047, STM_055]   \n",
       "13  [STM_044, STM_024, STM_056, STM_007, STM_001]   \n",
       "\n",
       "                  reference_ids  context_precision  context_recall  \\\n",
       "0                      [LTM001]                0.0             0.0   \n",
       "1                      [LTM005]                0.0             0.0   \n",
       "2            [HCM_001, HCM_002]                0.4             1.0   \n",
       "3                      [STM014]                0.0             0.0   \n",
       "4                     [STM_011]                0.0             0.0   \n",
       "5                     [STM_052]                0.2             1.0   \n",
       "6   [STM_010, STM_014, STM_003]                0.0             0.0   \n",
       "7            [LTM_004, LTM_003]                0.2             0.5   \n",
       "8                     [LTM_008]                0.2             1.0   \n",
       "9                     [LTM_011]                0.0             0.0   \n",
       "10                    [STM_012]                0.2             1.0   \n",
       "11           [HCM_003, HCM_004]                0.4             1.0   \n",
       "12                    [STM_036]                0.2             1.0   \n",
       "13                    [STM_044]                0.2             1.0   \n",
       "\n",
       "    num_retrieved  \n",
       "0               5  \n",
       "1               5  \n",
       "2               5  \n",
       "3               5  \n",
       "4               5  \n",
       "5               5  \n",
       "6               5  \n",
       "7               5  \n",
       "8               5  \n",
       "9               5  \n",
       "10              5  \n",
       "11              5  \n",
       "12              5  \n",
       "13              5  "
      ]
     },
     "metadata": {},
     "output_type": "display_data"
    }
   ],
   "source": [
    "### Calculate Context Precision and Context Recall\n",
    "\n",
    "def calculate_context_precision(row):\n",
    "    retrieved_ids = set(row['retrieved_ids'])\n",
    "    reference_ids = set(row['reference_ids'])\n",
    "    if not retrieved_ids:\n",
    "        return 0.0\n",
    "    true_positives = len(retrieved_ids.intersection(reference_ids))\n",
    "    precision = true_positives / len(retrieved_ids)\n",
    "    return precision\n",
    "\n",
    "def calculate_context_recall(row):\n",
    "    retrieved_ids = set(row['retrieved_ids'])\n",
    "    reference_ids = set(row['reference_ids'])\n",
    "    if not reference_ids:\n",
    "        return 0.0\n",
    "    true_positives = len(retrieved_ids.intersection(reference_ids))\n",
    "    recall = true_positives / len(reference_ids)\n",
    "    return recall\n",
    "\n",
    "all_results['context_precision'] = all_results.apply(calculate_context_precision, axis=1)\n",
    "all_results['context_recall'] = all_results.apply(calculate_context_recall, axis=1)\n",
    "all_results['num_retrieved'] = all_results['retrieved_ids'].apply(lambda x: len(x) if x else 0)\n",
    "\n",
    "\n",
    "display(all_results)"
   ]
  },
  {
   "cell_type": "markdown",
   "id": "7d8bae8d8da11a02",
   "metadata": {},
   "source": [
    "#### Calculate average context precision and context recall"
   ]
  },
  {
   "cell_type": "code",
   "execution_count": 32,
   "id": "3bd6c1345d50b1db",
   "metadata": {
    "ExecuteTime": {
     "end_time": "2025-10-07T03:49:04.052352Z",
     "start_time": "2025-10-07T03:49:04.048237Z"
    }
   },
   "outputs": [
    {
     "name": "stdout",
     "output_type": "stream",
     "text": [
      "Average context precision: 0.14285714285714285\n",
      "Average context recall: 0.5357142857142857\n"
     ]
    }
   ],
   "source": [
    "average_context_precision = all_results['context_precision'].mean()\n",
    "average_context_recall = all_results['context_recall'].mean()\n",
    "\n",
    "print(f\"Average context precision: {average_context_precision}\")\n",
    "print(f\"Average context recall: {average_context_recall}\")"
   ]
  }
 ],
 "metadata": {
  "kernelspec": {
   "display_name": "rag_venv",
   "language": "python",
   "name": "python3"
  },
  "language_info": {
   "codemirror_mode": {
    "name": "ipython",
    "version": 3
   },
   "file_extension": ".py",
   "mimetype": "text/x-python",
   "name": "python",
   "nbconvert_exporter": "python",
   "pygments_lexer": "ipython3",
   "version": "3.12.4"
  }
 },
 "nbformat": 4,
 "nbformat_minor": 5
}
