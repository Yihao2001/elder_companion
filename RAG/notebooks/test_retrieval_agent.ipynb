{
 "cells": [
  {
   "cell_type": "code",
   "id": "initial_id",
   "metadata": {
    "collapsed": true,
    "ExecuteTime": {
     "end_time": "2025-09-27T03:37:22.377440Z",
     "start_time": "2025-09-27T03:37:04.493023Z"
    }
   },
   "source": [
    "from RAG.retrieval_agent import RetrievalAgent\n",
    "\n",
    "retrieval_agent = RetrievalAgent(elderly_id=\"12345678-1234-1234-1234-012345678910\")"
   ],
   "outputs": [
    {
     "name": "stderr",
     "output_type": "stream",
     "text": [
      "INFO:root:Loading embedding model: google/embeddinggemma-300m\n",
      "INFO:sentence_transformers.SentenceTransformer:Use pytorch device_name: cpu\n",
      "INFO:sentence_transformers.SentenceTransformer:Load pretrained SentenceTransformer: google/embeddinggemma-300m\n",
      "INFO:sentence_transformers.SentenceTransformer:14 prompts are loaded, with the keys: ['query', 'document', 'BitextMining', 'Clustering', 'Classification', 'InstructionRetrieval', 'MultilabelClassification', 'PairClassification', 'Reranking', 'Retrieval', 'Retrieval-query', 'Retrieval-document', 'STS', 'Summarization']\n",
      "INFO:root:embedding model loaded successfully: google/embeddinggemma-300m\n"
     ]
    }
   ],
   "execution_count": 2
  },
  {
   "metadata": {
    "ExecuteTime": {
     "end_time": "2025-09-27T03:37:45.487481Z",
     "start_time": "2025-09-27T03:37:24.949728Z"
    }
   },
   "cell_type": "code",
   "source": [
    "result = retrieval_agent.process(\"What are my medical conditions?\")\n",
    "print(\"Success:\", result[\"success\"])\n",
    "print(\"Final Answer:\", result[\"final_answer\"])\n",
    "print(\"Messages Count:\", result[\"messages_count\"])"
   ],
   "id": "1a9983a9b5798b11",
   "outputs": [
    {
     "data": {
      "text/plain": [
       "Batches:   0%|          | 0/1 [00:00<?, ?it/s]"
      ],
      "application/vnd.jupyter.widget-view+json": {
       "version_major": 2,
       "version_minor": 0,
       "model_id": "a2de2f71a3ea41c6889d078ba0952bf1"
      }
     },
     "metadata": {},
     "output_type": "display_data"
    },
    {
     "name": "stdout",
     "output_type": "stream",
     "text": [
      "Success: True\n",
      "Final Answer: \n",
      "            ## System:\n",
      "            You are Susan, a Non-Ageist Elder Companion Friend — you are warm, respectful, and emotionally intelligent presence designed to provide gentle support and joyful connection to older adults. You will use simple language with easy vocabulary and non excessively long sentences. Be patience, humorous, curiosity, and deep respect. You are not a caregiver or clinician, but a true friend: attentive, affirming, and always on their side.\n",
      "\n",
      "            ## Guide\n",
      "            - Speak with gentle clarity, using natural, conversational language. Avoid infantilizing phrases or over-explaining. Assume competence and wisdom. Use humor when appropriate, and always ask before offering help. \n",
      "            - You do not give medical advice or make decisions for the user. \n",
      "            - You listen, encourage, and empower — never patronize or presume.\n",
      "\n",
      "            ## User Information and Profile Context:\n",
      "            none\n",
      "\n",
      "            ## User Healthcare Information:\n",
      "            Type: condition, Description: Diabetes mellitus, Date: None, Similarity: 0.9627\n",
      "Type: medication, Description: Glipizide tablets, to be taken before meals, Date: None, Similarity: 0.6756\n",
      "\n",
      "            ## Past Conversational information / History\n",
      "            none\n",
      "            \n",
      "Messages Count: 5\n"
     ]
    }
   ],
   "execution_count": 3
  }
 ],
 "metadata": {
  "kernelspec": {
   "display_name": "Python 3",
   "language": "python",
   "name": "python3"
  },
  "language_info": {
   "codemirror_mode": {
    "name": "ipython",
    "version": 2
   },
   "file_extension": ".py",
   "mimetype": "text/x-python",
   "name": "python",
   "nbconvert_exporter": "python",
   "pygments_lexer": "ipython2",
   "version": "2.7.6"
  }
 },
 "nbformat": 4,
 "nbformat_minor": 5
}
