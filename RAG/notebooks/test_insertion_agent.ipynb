{
 "cells": [
  {
   "cell_type": "code",
   "id": "initial_id",
   "metadata": {
    "collapsed": true,
    "ExecuteTime": {
     "end_time": "2025-09-27T04:02:45.584042Z",
     "start_time": "2025-09-27T04:02:30.258385Z"
    }
   },
   "source": [
    "import requests\n",
    "from RAG.insertion_agent import InsertionAgent\n",
    "\n",
    "insertion_agent = InsertionAgent(elderly_id=\"12345678-1234-1234-1234-012345678910\")\n",
    "\n"
   ],
   "outputs": [
    {
     "name": "stderr",
     "output_type": "stream",
     "text": [
      "INFO:root:Loading embedding model: google/embeddinggemma-300m\n",
      "INFO:sentence_transformers.SentenceTransformer:Use pytorch device_name: cpu\n",
      "INFO:sentence_transformers.SentenceTransformer:Load pretrained SentenceTransformer: google/embeddinggemma-300m\n",
      "INFO:sentence_transformers.SentenceTransformer:14 prompts are loaded, with the keys: ['query', 'document', 'BitextMining', 'Clustering', 'Classification', 'InstructionRetrieval', 'MultilabelClassification', 'PairClassification', 'Reranking', 'Retrieval', 'Retrieval-query', 'Retrieval-document', 'STS', 'Summarization']\n",
      "INFO:root:embedding model loaded successfully: google/embeddinggemma-300m\n"
     ]
    }
   ],
   "execution_count": 1
  },
  {
   "metadata": {},
   "cell_type": "markdown",
   "source": "### Test STM insertion",
   "id": "dfddab4970d295eb"
  },
  {
   "metadata": {
    "ExecuteTime": {
     "end_time": "2025-09-26T09:48:14.389083Z",
     "start_time": "2025-09-26T09:48:12.904856Z"
    }
   },
   "cell_type": "code",
   "source": "insertion_agent.insert_short_term(\"I want to cook ABC soup tomorrow night.\")",
   "id": "fd978ea0c56a1d3f",
   "outputs": [
    {
     "data": {
      "text/plain": [
       "Batches:   0%|          | 0/1 [00:00<?, ?it/s]"
      ],
      "application/vnd.jupyter.widget-view+json": {
       "version_major": 2,
       "version_minor": 0,
       "model_id": "a75ad002381742cca7b06e87aece1db0"
      }
     },
     "metadata": {},
     "output_type": "display_data"
    },
    {
     "data": {
      "text/plain": [
       "{'success': True,\n",
       " 'message': 'Short-term memory stored successfully',\n",
       " 'record_id': '80b07d5c-168f-4e81-abac-a5a6c00d0196',\n",
       " 'created_at': '2025-09-26T09:48:13.084877',\n",
       " 'embedding_provided': True}"
      ]
     },
     "execution_count": 3,
     "metadata": {},
     "output_type": "execute_result"
    }
   ],
   "execution_count": 3
  },
  {
   "metadata": {
    "ExecuteTime": {
     "end_time": "2025-09-27T03:33:21.827482Z",
     "start_time": "2025-09-27T03:33:20.543326Z"
    }
   },
   "cell_type": "code",
   "source": [
    "insertion_agent.insert_long_term(category=\"lifestyle\",\n",
    "                                 key=\"hobbies\",\n",
    "                                 value=\"Playing chess\"\n",
    "                                 )"
   ],
   "id": "3f9cbe8c94846440",
   "outputs": [
    {
     "data": {
      "text/plain": [
       "Batches:   0%|          | 0/1 [00:00<?, ?it/s]"
      ],
      "application/vnd.jupyter.widget-view+json": {
       "version_major": 2,
       "version_minor": 0,
       "model_id": "5ca7ab8558c84879bd38cbc1396a3daf"
      }
     },
     "metadata": {},
     "output_type": "display_data"
    },
    {
     "data": {
      "text/plain": [
       "{'success': True,\n",
       " 'message': 'Long-term memory stored successfully',\n",
       " 'record_id': 'fe163438-b185-42f9-b357-b185839a3a5e',\n",
       " 'last_updated': '2025-09-27T03:33:22.581330',\n",
       " 'embedding_provided': True}"
      ]
     },
     "execution_count": 2,
     "metadata": {},
     "output_type": "execute_result"
    }
   ],
   "execution_count": 2
  },
  {
   "metadata": {
    "ExecuteTime": {
     "end_time": "2025-09-27T04:02:50.643240Z",
     "start_time": "2025-09-27T04:02:50.272388Z"
    }
   },
   "cell_type": "code",
   "source": [
    "insertion_agent.manual_insert_short_term(\n",
    "    \"I am going to play pickleball with Ah Seng this weekend, I am very excited about it.\",\n",
    "    timestamp=\"2024-09-27 13:56:32\",\n",
    ")"
   ],
   "id": "d3820d8386705dd1",
   "outputs": [
    {
     "data": {
      "text/plain": [
       "Batches:   0%|          | 0/1 [00:00<?, ?it/s]"
      ],
      "application/vnd.jupyter.widget-view+json": {
       "version_major": 2,
       "version_minor": 0,
       "model_id": "e9b4ca7eba6a4ea5836fcc7816fc7c9e"
      }
     },
     "metadata": {},
     "output_type": "display_data"
    },
    {
     "data": {
      "text/plain": [
       "{'success': True,\n",
       " 'message': 'Short-term memory stored successfully',\n",
       " 'record_id': '643cce79-df8b-4383-800d-2c8d120ff798',\n",
       " 'created_at': '2024-09-27T13:56:32',\n",
       " 'embedding_provided': True}"
      ]
     },
     "execution_count": 2,
     "metadata": {},
     "output_type": "execute_result"
    }
   ],
   "execution_count": 2
  }
 ],
 "metadata": {
  "kernelspec": {
   "display_name": "Python 3",
   "language": "python",
   "name": "python3"
  },
  "language_info": {
   "codemirror_mode": {
    "name": "ipython",
    "version": 2
   },
   "file_extension": ".py",
   "mimetype": "text/x-python",
   "name": "python",
   "nbconvert_exporter": "python",
   "pygments_lexer": "ipython2",
   "version": "2.7.6"
  }
 },
 "nbformat": 4,
 "nbformat_minor": 5
}
