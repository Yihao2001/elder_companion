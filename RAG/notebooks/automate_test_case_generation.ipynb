{
 "cells": [
  {
   "cell_type": "code",
   "id": "initial_id",
   "metadata": {
    "collapsed": true,
    "ExecuteTime": {
     "end_time": "2025-10-12T07:09:29.679459Z",
     "start_time": "2025-10-12T07:09:18.760053Z"
    }
   },
   "source": [
    "import json\n",
    "import os\n",
    "from dotenv import load_dotenv\n",
    "from openai import OpenAI\n",
    "from pprint import pprint\n",
    "import pandas as pd\n",
    "import re"
   ],
   "outputs": [],
   "execution_count": 1
  },
  {
   "metadata": {
    "ExecuteTime": {
     "end_time": "2025-10-12T07:09:32.399586Z",
     "start_time": "2025-10-12T07:09:31.376440Z"
    }
   },
   "cell_type": "code",
   "source": [
    "load_dotenv()\n",
    "OPENAI_API_KEY = os.getenv(\"OPENAI_API_KEY\")\n",
    "openai_client = OpenAI(api_key=OPENAI_API_KEY)"
   ],
   "id": "aa3b147c116f6458",
   "outputs": [],
   "execution_count": 2
  },
  {
   "metadata": {
    "ExecuteTime": {
     "end_time": "2025-10-12T07:10:55.274858Z",
     "start_time": "2025-10-12T07:10:55.257802Z"
    }
   },
   "cell_type": "code",
   "source": [
    "with open(\"../test_cases/111025_augmented_kb.json\", \"r\") as f:\n",
    "    knowledge_base = json.load(f)\n",
    "    stm_data = knowledge_base[\"STM_data\"]\n",
    "    ltm_data = knowledge_base[\"LTM_data\"]\n",
    "    hcm_data = knowledge_base[\"HCM_data\"]\n",
    "    test_profile = knowledge_base[\"test_elderly_profile\"]\n",
    "\n",
    "\n",
    "sample_stm = stm_data[:5]\n",
    "sample_ltm = ltm_data[:5]\n",
    "sample_hcm = hcm_data[:5]\n",
    "\n",
    "print(\"\\n Sample LTM \\n\")\n",
    "pprint(sample_stm)\n",
    "print(\"\\n Sample LTM \\n\")\n",
    "pprint(sample_ltm)\n",
    "print(\"\\n Sample LTM \\n\")\n",
    "pprint(sample_hcm)\n",
    "print(\"\\n Test Profile \\n\")\n",
    "pprint(test_profile)"
   ],
   "id": "271f822d144ca393",
   "outputs": [
    {
     "name": "stdout",
     "output_type": "stream",
     "text": [
      "\n",
      " Sample LTM \n",
      "\n",
      "[{'content': 'I bought fresh fish from the wet market today; the seller was '\n",
      "             'very friendly and offered a small discount.',\n",
      "  'document_id': 'STM_001',\n",
      "  'timestamp': '2024-05-23T08:15:00Z'},\n",
      " {'content': 'I took the MRT to Orchard Road and asked a young man about the '\n",
      "             'best route to get there.',\n",
      "  'document_id': 'STM_002',\n",
      "  'timestamp': '2024-05-23T10:30:00Z'},\n",
      " {'content': 'I joined the tai chi session at the community centre; it felt '\n",
      "             'relaxing to move gently with others.',\n",
      "  'document_id': 'STM_003',\n",
      "  'timestamp': '2024-05-23T16:00:00Z'},\n",
      " {'content': 'Walked to the nearby park and enjoyed some sunshine while '\n",
      "             'chatting with a fellow walker.',\n",
      "  'document_id': 'STM_004',\n",
      "  'timestamp': '2024-05-24T10:00:00Z'},\n",
      " {'content': 'Had kopi and soft-boiled eggs at the coffee shop; the kopi was '\n",
      "             'just the way I like it, strong and sweet.',\n",
      "  'document_id': 'STM_005',\n",
      "  'timestamp': '2024-05-24T07:45:00Z'}]\n",
      "\n",
      " Sample LTM \n",
      "\n",
      "[{'category': 'family',\n",
      "  'document_id': 'LTM_001',\n",
      "  'key': 'Husband',\n",
      "  'value': 'Rajinder Singh'},\n",
      " {'category': 'family',\n",
      "  'document_id': 'LTM_002',\n",
      "  'key': 'Eldest son',\n",
      "  'value': 'Harjit Singh'},\n",
      " {'category': 'family',\n",
      "  'document_id': 'LTM_003',\n",
      "  'key': 'Youngest daughter',\n",
      "  'value': 'Simran Kaur'},\n",
      " {'category': 'family',\n",
      "  'document_id': 'LTM_004',\n",
      "  'key': 'Grandchildren',\n",
      "  'value': 'Two grandchildren, loves to babysit on weekends'},\n",
      " {'category': 'lifestyle',\n",
      "  'document_id': 'LTM_005',\n",
      "  'key': 'Morning routine',\n",
      "  'value': 'Enjoys morning walks at Dhoby Ghaut Park with neighbours at 7 am'}]\n",
      "\n",
      " Sample LTM \n",
      "\n",
      "[{'date': '2019-03-15',\n",
      "  'description': 'Diagnosed with hypertension, currently controlled with '\n",
      "                 'medication.',\n",
      "  'document_id': 'HCM_001',\n",
      "  'type': 'condition'},\n",
      " {'date': 'None',\n",
      "  'description': 'Takes Amlodipine 5mg once daily for blood pressure '\n",
      "                 'management.',\n",
      "  'document_id': 'HCM_002',\n",
      "  'type': 'medication'},\n",
      " {'date': '2021-07-20',\n",
      "  'description': 'Mild osteoarthritis diagnosed in knees, advised light '\n",
      "                 'exercise.',\n",
      "  'document_id': 'HCM_003',\n",
      "  'type': 'condition'},\n",
      " {'date': '2022-11-05',\n",
      "  'description': 'Underwent cataract surgery on right eye, successful '\n",
      "                 'recovery.',\n",
      "  'document_id': 'HCM_004',\n",
      "  'type': 'procedure'},\n",
      " {'date': 'None',\n",
      "  'description': 'Prescribed Glucosamine supplements for joint health.',\n",
      "  'document_id': 'HCM_005',\n",
      "  'type': 'medication'}]\n",
      "\n",
      " Test Profile \n",
      "\n",
      "{'address': '38 Dhoby Ghaut Road, Singapore 123456',\n",
      " 'date_of_birth': '1965-01-01',\n",
      " 'dialect_group': 'Sikh',\n",
      " 'gender': 'Female',\n",
      " 'marital_status': 'Married',\n",
      " 'name': 'Dhoby Ghaut Shruti',\n",
      " 'nationality': 'Singaporean'}\n"
     ]
    }
   ],
   "execution_count": 4
  },
  {
   "metadata": {
    "ExecuteTime": {
     "end_time": "2025-10-12T07:17:11.751832Z",
     "start_time": "2025-10-12T07:17:11.675891Z"
    }
   },
   "cell_type": "code",
   "source": [
    "def find_related_entries(kb):\n",
    "    related_groups = []\n",
    "    for stm in kb[\"STM_data\"]:\n",
    "        for ltm in kb[\"LTM_data\"]:\n",
    "            if any(word.lower() in stm[\"content\"].lower() for word in ltm[\"value\"].split()):\n",
    "                related_groups.append({\"stm\": stm, \"ltm\": ltm})\n",
    "    return related_groups\n",
    "\n",
    "related_groups = find_related_entries(knowledge_base)"
   ],
   "id": "419d5a6f4951dc0c",
   "outputs": [],
   "execution_count": 7
  },
  {
   "metadata": {
    "ExecuteTime": {
     "end_time": "2025-10-12T07:28:34.293400Z",
     "start_time": "2025-10-12T07:26:58.893579Z"
    }
   },
   "cell_type": "code",
   "source": [
    "from RAG.utils.embedder import Embedder\n",
    "from sentence_transformers import SentenceTransformer, util\n",
    "\n",
    "embedder = Embedder()\n",
    "\n",
    "stm_embeddings = [embedder.embed(x['content']) for x in knowledge_base['STM_data']]\n",
    "ltm_embeddings = [embedder.embed(x['value']) for x in knowledge_base['LTM_data']]"
   ],
   "id": "2ebf718f941fb515",
   "outputs": [
    {
     "name": "stderr",
     "output_type": "stream",
     "text": [
      "INFO:root:Loading embedding model: google/embeddinggemma-300m\n",
      "INFO:sentence_transformers.SentenceTransformer:Use pytorch device_name: cpu\n",
      "INFO:sentence_transformers.SentenceTransformer:Load pretrained SentenceTransformer: google/embeddinggemma-300m\n",
      "INFO:sentence_transformers.SentenceTransformer:14 prompts are loaded, with the keys: ['query', 'document', 'BitextMining', 'Clustering', 'Classification', 'InstructionRetrieval', 'MultilabelClassification', 'PairClassification', 'Reranking', 'Retrieval', 'Retrieval-query', 'Retrieval-document', 'STS', 'Summarization']\n",
      "INFO:root:embedding model loaded successfully: google/embeddinggemma-300m\n"
     ]
    },
    {
     "data": {
      "text/plain": [
       "Batches:   0%|          | 0/1 [00:00<?, ?it/s]"
      ],
      "application/vnd.jupyter.widget-view+json": {
       "version_major": 2,
       "version_minor": 0,
       "model_id": "78dbaf61bacb47bdb892d1b0df0b6ffe"
      }
     },
     "metadata": {},
     "output_type": "display_data"
    },
    {
     "data": {
      "text/plain": [
       "Batches:   0%|          | 0/1 [00:00<?, ?it/s]"
      ],
      "application/vnd.jupyter.widget-view+json": {
       "version_major": 2,
       "version_minor": 0,
       "model_id": "9fa072ec97654862aac293b9f988b97b"
      }
     },
     "metadata": {},
     "output_type": "display_data"
    },
    {
     "data": {
      "text/plain": [
       "Batches:   0%|          | 0/1 [00:00<?, ?it/s]"
      ],
      "application/vnd.jupyter.widget-view+json": {
       "version_major": 2,
       "version_minor": 0,
       "model_id": "d4b62dd8439b48309999c8613b6fb0ca"
      }
     },
     "metadata": {},
     "output_type": "display_data"
    },
    {
     "data": {
      "text/plain": [
       "Batches:   0%|          | 0/1 [00:00<?, ?it/s]"
      ],
      "application/vnd.jupyter.widget-view+json": {
       "version_major": 2,
       "version_minor": 0,
       "model_id": "874be351a5db42fcb6f6f31af591b705"
      }
     },
     "metadata": {},
     "output_type": "display_data"
    },
    {
     "data": {
      "text/plain": [
       "Batches:   0%|          | 0/1 [00:00<?, ?it/s]"
      ],
      "application/vnd.jupyter.widget-view+json": {
       "version_major": 2,
       "version_minor": 0,
       "model_id": "76f8ba89dd59489a893ea9493f48c4b7"
      }
     },
     "metadata": {},
     "output_type": "display_data"
    },
    {
     "data": {
      "text/plain": [
       "Batches:   0%|          | 0/1 [00:00<?, ?it/s]"
      ],
      "application/vnd.jupyter.widget-view+json": {
       "version_major": 2,
       "version_minor": 0,
       "model_id": "6d7603484b384fbfba2702c1056cab5e"
      }
     },
     "metadata": {},
     "output_type": "display_data"
    },
    {
     "data": {
      "text/plain": [
       "Batches:   0%|          | 0/1 [00:00<?, ?it/s]"
      ],
      "application/vnd.jupyter.widget-view+json": {
       "version_major": 2,
       "version_minor": 0,
       "model_id": "f96c423afb914f88af086ba1d71cab54"
      }
     },
     "metadata": {},
     "output_type": "display_data"
    },
    {
     "data": {
      "text/plain": [
       "Batches:   0%|          | 0/1 [00:00<?, ?it/s]"
      ],
      "application/vnd.jupyter.widget-view+json": {
       "version_major": 2,
       "version_minor": 0,
       "model_id": "dccec0888ea248259e12ea64b3e630b7"
      }
     },
     "metadata": {},
     "output_type": "display_data"
    },
    {
     "data": {
      "text/plain": [
       "Batches:   0%|          | 0/1 [00:00<?, ?it/s]"
      ],
      "application/vnd.jupyter.widget-view+json": {
       "version_major": 2,
       "version_minor": 0,
       "model_id": "502242acc53a4d41a5bbff12b58f9f15"
      }
     },
     "metadata": {},
     "output_type": "display_data"
    },
    {
     "data": {
      "text/plain": [
       "Batches:   0%|          | 0/1 [00:00<?, ?it/s]"
      ],
      "application/vnd.jupyter.widget-view+json": {
       "version_major": 2,
       "version_minor": 0,
       "model_id": "800b29347cdf40fdb5e5c966238a4297"
      }
     },
     "metadata": {},
     "output_type": "display_data"
    },
    {
     "data": {
      "text/plain": [
       "Batches:   0%|          | 0/1 [00:00<?, ?it/s]"
      ],
      "application/vnd.jupyter.widget-view+json": {
       "version_major": 2,
       "version_minor": 0,
       "model_id": "7961bbb7b810481c892de9197bb5b84c"
      }
     },
     "metadata": {},
     "output_type": "display_data"
    },
    {
     "data": {
      "text/plain": [
       "Batches:   0%|          | 0/1 [00:00<?, ?it/s]"
      ],
      "application/vnd.jupyter.widget-view+json": {
       "version_major": 2,
       "version_minor": 0,
       "model_id": "de3176d0509b47a8bc44fe04612f624f"
      }
     },
     "metadata": {},
     "output_type": "display_data"
    },
    {
     "data": {
      "text/plain": [
       "Batches:   0%|          | 0/1 [00:00<?, ?it/s]"
      ],
      "application/vnd.jupyter.widget-view+json": {
       "version_major": 2,
       "version_minor": 0,
       "model_id": "bdaafe293b0c46d6b13bfcd79975c741"
      }
     },
     "metadata": {},
     "output_type": "display_data"
    },
    {
     "data": {
      "text/plain": [
       "Batches:   0%|          | 0/1 [00:00<?, ?it/s]"
      ],
      "application/vnd.jupyter.widget-view+json": {
       "version_major": 2,
       "version_minor": 0,
       "model_id": "0223d69034b34732a49bd20af9a0bc47"
      }
     },
     "metadata": {},
     "output_type": "display_data"
    },
    {
     "data": {
      "text/plain": [
       "Batches:   0%|          | 0/1 [00:00<?, ?it/s]"
      ],
      "application/vnd.jupyter.widget-view+json": {
       "version_major": 2,
       "version_minor": 0,
       "model_id": "ec244b8f129340eb95960e9107daaf17"
      }
     },
     "metadata": {},
     "output_type": "display_data"
    },
    {
     "data": {
      "text/plain": [
       "Batches:   0%|          | 0/1 [00:00<?, ?it/s]"
      ],
      "application/vnd.jupyter.widget-view+json": {
       "version_major": 2,
       "version_minor": 0,
       "model_id": "9b895648515c4a17ae51b2f96309aae2"
      }
     },
     "metadata": {},
     "output_type": "display_data"
    },
    {
     "data": {
      "text/plain": [
       "Batches:   0%|          | 0/1 [00:00<?, ?it/s]"
      ],
      "application/vnd.jupyter.widget-view+json": {
       "version_major": 2,
       "version_minor": 0,
       "model_id": "1a2b948d58b3487e8656438414f3b89b"
      }
     },
     "metadata": {},
     "output_type": "display_data"
    },
    {
     "data": {
      "text/plain": [
       "Batches:   0%|          | 0/1 [00:00<?, ?it/s]"
      ],
      "application/vnd.jupyter.widget-view+json": {
       "version_major": 2,
       "version_minor": 0,
       "model_id": "d6cc6cfceb7f4134bd08395e7ac898a1"
      }
     },
     "metadata": {},
     "output_type": "display_data"
    },
    {
     "data": {
      "text/plain": [
       "Batches:   0%|          | 0/1 [00:00<?, ?it/s]"
      ],
      "application/vnd.jupyter.widget-view+json": {
       "version_major": 2,
       "version_minor": 0,
       "model_id": "06bce52954724b92909d75fa31b478e1"
      }
     },
     "metadata": {},
     "output_type": "display_data"
    },
    {
     "data": {
      "text/plain": [
       "Batches:   0%|          | 0/1 [00:00<?, ?it/s]"
      ],
      "application/vnd.jupyter.widget-view+json": {
       "version_major": 2,
       "version_minor": 0,
       "model_id": "ff9b279e7dbd4aa79446f208bbc22ac7"
      }
     },
     "metadata": {},
     "output_type": "display_data"
    },
    {
     "data": {
      "text/plain": [
       "Batches:   0%|          | 0/1 [00:00<?, ?it/s]"
      ],
      "application/vnd.jupyter.widget-view+json": {
       "version_major": 2,
       "version_minor": 0,
       "model_id": "0ae80229b54d4a3db046824e0e66eddc"
      }
     },
     "metadata": {},
     "output_type": "display_data"
    },
    {
     "data": {
      "text/plain": [
       "Batches:   0%|          | 0/1 [00:00<?, ?it/s]"
      ],
      "application/vnd.jupyter.widget-view+json": {
       "version_major": 2,
       "version_minor": 0,
       "model_id": "a7d57a0d110e4edbaecf3a342dff4d8a"
      }
     },
     "metadata": {},
     "output_type": "display_data"
    },
    {
     "data": {
      "text/plain": [
       "Batches:   0%|          | 0/1 [00:00<?, ?it/s]"
      ],
      "application/vnd.jupyter.widget-view+json": {
       "version_major": 2,
       "version_minor": 0,
       "model_id": "196d9680467b453ca8b9847faddc083d"
      }
     },
     "metadata": {},
     "output_type": "display_data"
    },
    {
     "data": {
      "text/plain": [
       "Batches:   0%|          | 0/1 [00:00<?, ?it/s]"
      ],
      "application/vnd.jupyter.widget-view+json": {
       "version_major": 2,
       "version_minor": 0,
       "model_id": "0b5a23fd227f4406b9a3af8ededd68e8"
      }
     },
     "metadata": {},
     "output_type": "display_data"
    },
    {
     "data": {
      "text/plain": [
       "Batches:   0%|          | 0/1 [00:00<?, ?it/s]"
      ],
      "application/vnd.jupyter.widget-view+json": {
       "version_major": 2,
       "version_minor": 0,
       "model_id": "3aedd59eace94b64b6d50070cb7278c9"
      }
     },
     "metadata": {},
     "output_type": "display_data"
    },
    {
     "data": {
      "text/plain": [
       "Batches:   0%|          | 0/1 [00:00<?, ?it/s]"
      ],
      "application/vnd.jupyter.widget-view+json": {
       "version_major": 2,
       "version_minor": 0,
       "model_id": "48ca7852e5194c7684c41505d06daf53"
      }
     },
     "metadata": {},
     "output_type": "display_data"
    },
    {
     "data": {
      "text/plain": [
       "Batches:   0%|          | 0/1 [00:00<?, ?it/s]"
      ],
      "application/vnd.jupyter.widget-view+json": {
       "version_major": 2,
       "version_minor": 0,
       "model_id": "7db520867168474b93f3e24376df2f16"
      }
     },
     "metadata": {},
     "output_type": "display_data"
    },
    {
     "data": {
      "text/plain": [
       "Batches:   0%|          | 0/1 [00:00<?, ?it/s]"
      ],
      "application/vnd.jupyter.widget-view+json": {
       "version_major": 2,
       "version_minor": 0,
       "model_id": "727fede69fab49deae74e5746bec4b3b"
      }
     },
     "metadata": {},
     "output_type": "display_data"
    },
    {
     "data": {
      "text/plain": [
       "Batches:   0%|          | 0/1 [00:00<?, ?it/s]"
      ],
      "application/vnd.jupyter.widget-view+json": {
       "version_major": 2,
       "version_minor": 0,
       "model_id": "b551f813356a434e9e73e58501f81ca4"
      }
     },
     "metadata": {},
     "output_type": "display_data"
    },
    {
     "data": {
      "text/plain": [
       "Batches:   0%|          | 0/1 [00:00<?, ?it/s]"
      ],
      "application/vnd.jupyter.widget-view+json": {
       "version_major": 2,
       "version_minor": 0,
       "model_id": "8d957e91d3514d41b40595a5121c19f0"
      }
     },
     "metadata": {},
     "output_type": "display_data"
    },
    {
     "data": {
      "text/plain": [
       "Batches:   0%|          | 0/1 [00:00<?, ?it/s]"
      ],
      "application/vnd.jupyter.widget-view+json": {
       "version_major": 2,
       "version_minor": 0,
       "model_id": "c7575c9670714918ab0e1a0b59d4d2f5"
      }
     },
     "metadata": {},
     "output_type": "display_data"
    },
    {
     "data": {
      "text/plain": [
       "Batches:   0%|          | 0/1 [00:00<?, ?it/s]"
      ],
      "application/vnd.jupyter.widget-view+json": {
       "version_major": 2,
       "version_minor": 0,
       "model_id": "34fe7896cb7e4816b1da8fb14e1ba11b"
      }
     },
     "metadata": {},
     "output_type": "display_data"
    },
    {
     "data": {
      "text/plain": [
       "Batches:   0%|          | 0/1 [00:00<?, ?it/s]"
      ],
      "application/vnd.jupyter.widget-view+json": {
       "version_major": 2,
       "version_minor": 0,
       "model_id": "d0238991590b42e78ee2c92fcf26dadb"
      }
     },
     "metadata": {},
     "output_type": "display_data"
    },
    {
     "data": {
      "text/plain": [
       "Batches:   0%|          | 0/1 [00:00<?, ?it/s]"
      ],
      "application/vnd.jupyter.widget-view+json": {
       "version_major": 2,
       "version_minor": 0,
       "model_id": "3b623b24934a4538afab63e6a00e7f67"
      }
     },
     "metadata": {},
     "output_type": "display_data"
    },
    {
     "data": {
      "text/plain": [
       "Batches:   0%|          | 0/1 [00:00<?, ?it/s]"
      ],
      "application/vnd.jupyter.widget-view+json": {
       "version_major": 2,
       "version_minor": 0,
       "model_id": "4464b30ec1374f27b28f1953ae110a9c"
      }
     },
     "metadata": {},
     "output_type": "display_data"
    },
    {
     "data": {
      "text/plain": [
       "Batches:   0%|          | 0/1 [00:00<?, ?it/s]"
      ],
      "application/vnd.jupyter.widget-view+json": {
       "version_major": 2,
       "version_minor": 0,
       "model_id": "62f0cf1f2c2a45109378d0230159950d"
      }
     },
     "metadata": {},
     "output_type": "display_data"
    },
    {
     "data": {
      "text/plain": [
       "Batches:   0%|          | 0/1 [00:00<?, ?it/s]"
      ],
      "application/vnd.jupyter.widget-view+json": {
       "version_major": 2,
       "version_minor": 0,
       "model_id": "07a8c0a9f7a04f1ea7ddcd672736802c"
      }
     },
     "metadata": {},
     "output_type": "display_data"
    },
    {
     "data": {
      "text/plain": [
       "Batches:   0%|          | 0/1 [00:00<?, ?it/s]"
      ],
      "application/vnd.jupyter.widget-view+json": {
       "version_major": 2,
       "version_minor": 0,
       "model_id": "dab213d2a1ff46c885ceb6a068baf6eb"
      }
     },
     "metadata": {},
     "output_type": "display_data"
    },
    {
     "data": {
      "text/plain": [
       "Batches:   0%|          | 0/1 [00:00<?, ?it/s]"
      ],
      "application/vnd.jupyter.widget-view+json": {
       "version_major": 2,
       "version_minor": 0,
       "model_id": "e6352568005e4167a2cbdb09ca3847bd"
      }
     },
     "metadata": {},
     "output_type": "display_data"
    },
    {
     "data": {
      "text/plain": [
       "Batches:   0%|          | 0/1 [00:00<?, ?it/s]"
      ],
      "application/vnd.jupyter.widget-view+json": {
       "version_major": 2,
       "version_minor": 0,
       "model_id": "78934912fdde409daefe77e4dd2c7011"
      }
     },
     "metadata": {},
     "output_type": "display_data"
    },
    {
     "data": {
      "text/plain": [
       "Batches:   0%|          | 0/1 [00:00<?, ?it/s]"
      ],
      "application/vnd.jupyter.widget-view+json": {
       "version_major": 2,
       "version_minor": 0,
       "model_id": "f27c263099b94cd3b06f138f194f7290"
      }
     },
     "metadata": {},
     "output_type": "display_data"
    },
    {
     "data": {
      "text/plain": [
       "Batches:   0%|          | 0/1 [00:00<?, ?it/s]"
      ],
      "application/vnd.jupyter.widget-view+json": {
       "version_major": 2,
       "version_minor": 0,
       "model_id": "59db3d2fcf794e038ebb7c5baf1b2ab3"
      }
     },
     "metadata": {},
     "output_type": "display_data"
    },
    {
     "data": {
      "text/plain": [
       "Batches:   0%|          | 0/1 [00:00<?, ?it/s]"
      ],
      "application/vnd.jupyter.widget-view+json": {
       "version_major": 2,
       "version_minor": 0,
       "model_id": "d89b51f9a1cb4b888994abb64709bb2e"
      }
     },
     "metadata": {},
     "output_type": "display_data"
    },
    {
     "data": {
      "text/plain": [
       "Batches:   0%|          | 0/1 [00:00<?, ?it/s]"
      ],
      "application/vnd.jupyter.widget-view+json": {
       "version_major": 2,
       "version_minor": 0,
       "model_id": "01245869fe0d48c58a6f1365365f514a"
      }
     },
     "metadata": {},
     "output_type": "display_data"
    },
    {
     "data": {
      "text/plain": [
       "Batches:   0%|          | 0/1 [00:00<?, ?it/s]"
      ],
      "application/vnd.jupyter.widget-view+json": {
       "version_major": 2,
       "version_minor": 0,
       "model_id": "5531ecfbc93242f1bea168e8faccb9e8"
      }
     },
     "metadata": {},
     "output_type": "display_data"
    },
    {
     "data": {
      "text/plain": [
       "Batches:   0%|          | 0/1 [00:00<?, ?it/s]"
      ],
      "application/vnd.jupyter.widget-view+json": {
       "version_major": 2,
       "version_minor": 0,
       "model_id": "99f78d2614884d0ebaa2b83116d964d9"
      }
     },
     "metadata": {},
     "output_type": "display_data"
    },
    {
     "data": {
      "text/plain": [
       "Batches:   0%|          | 0/1 [00:00<?, ?it/s]"
      ],
      "application/vnd.jupyter.widget-view+json": {
       "version_major": 2,
       "version_minor": 0,
       "model_id": "cd296552210a4366a8350a60494959b5"
      }
     },
     "metadata": {},
     "output_type": "display_data"
    },
    {
     "data": {
      "text/plain": [
       "Batches:   0%|          | 0/1 [00:00<?, ?it/s]"
      ],
      "application/vnd.jupyter.widget-view+json": {
       "version_major": 2,
       "version_minor": 0,
       "model_id": "70693fe819b4447b8fa87580f5d711ab"
      }
     },
     "metadata": {},
     "output_type": "display_data"
    },
    {
     "data": {
      "text/plain": [
       "Batches:   0%|          | 0/1 [00:00<?, ?it/s]"
      ],
      "application/vnd.jupyter.widget-view+json": {
       "version_major": 2,
       "version_minor": 0,
       "model_id": "b56024336af34424888672c8b887596d"
      }
     },
     "metadata": {},
     "output_type": "display_data"
    },
    {
     "data": {
      "text/plain": [
       "Batches:   0%|          | 0/1 [00:00<?, ?it/s]"
      ],
      "application/vnd.jupyter.widget-view+json": {
       "version_major": 2,
       "version_minor": 0,
       "model_id": "c8ccdb14cf744666b970bad144aa8f4c"
      }
     },
     "metadata": {},
     "output_type": "display_data"
    },
    {
     "data": {
      "text/plain": [
       "Batches:   0%|          | 0/1 [00:00<?, ?it/s]"
      ],
      "application/vnd.jupyter.widget-view+json": {
       "version_major": 2,
       "version_minor": 0,
       "model_id": "a81df94b050d4da5b8f764859d8e9abd"
      }
     },
     "metadata": {},
     "output_type": "display_data"
    },
    {
     "data": {
      "text/plain": [
       "Batches:   0%|          | 0/1 [00:00<?, ?it/s]"
      ],
      "application/vnd.jupyter.widget-view+json": {
       "version_major": 2,
       "version_minor": 0,
       "model_id": "0cb4bb1d8ce042a9929ee870f5dfe64d"
      }
     },
     "metadata": {},
     "output_type": "display_data"
    },
    {
     "data": {
      "text/plain": [
       "Batches:   0%|          | 0/1 [00:00<?, ?it/s]"
      ],
      "application/vnd.jupyter.widget-view+json": {
       "version_major": 2,
       "version_minor": 0,
       "model_id": "ea5b969f11944c6ea972a2ee0cb6be34"
      }
     },
     "metadata": {},
     "output_type": "display_data"
    },
    {
     "data": {
      "text/plain": [
       "Batches:   0%|          | 0/1 [00:00<?, ?it/s]"
      ],
      "application/vnd.jupyter.widget-view+json": {
       "version_major": 2,
       "version_minor": 0,
       "model_id": "0bbe3459e9ac46c1b1ca45b2a94f74ce"
      }
     },
     "metadata": {},
     "output_type": "display_data"
    },
    {
     "data": {
      "text/plain": [
       "Batches:   0%|          | 0/1 [00:00<?, ?it/s]"
      ],
      "application/vnd.jupyter.widget-view+json": {
       "version_major": 2,
       "version_minor": 0,
       "model_id": "10507c9bca77479190b322210d2f6f64"
      }
     },
     "metadata": {},
     "output_type": "display_data"
    },
    {
     "data": {
      "text/plain": [
       "Batches:   0%|          | 0/1 [00:00<?, ?it/s]"
      ],
      "application/vnd.jupyter.widget-view+json": {
       "version_major": 2,
       "version_minor": 0,
       "model_id": "acdcd429cce943a49f2888a4916a417a"
      }
     },
     "metadata": {},
     "output_type": "display_data"
    },
    {
     "data": {
      "text/plain": [
       "Batches:   0%|          | 0/1 [00:00<?, ?it/s]"
      ],
      "application/vnd.jupyter.widget-view+json": {
       "version_major": 2,
       "version_minor": 0,
       "model_id": "4c27fb5bc7e9405f8bd7582eabbe8c66"
      }
     },
     "metadata": {},
     "output_type": "display_data"
    },
    {
     "data": {
      "text/plain": [
       "Batches:   0%|          | 0/1 [00:00<?, ?it/s]"
      ],
      "application/vnd.jupyter.widget-view+json": {
       "version_major": 2,
       "version_minor": 0,
       "model_id": "3c07bd5b935a43f6b78e968056b2c2ae"
      }
     },
     "metadata": {},
     "output_type": "display_data"
    },
    {
     "data": {
      "text/plain": [
       "Batches:   0%|          | 0/1 [00:00<?, ?it/s]"
      ],
      "application/vnd.jupyter.widget-view+json": {
       "version_major": 2,
       "version_minor": 0,
       "model_id": "f69baabeb3b844988438d404bef2d089"
      }
     },
     "metadata": {},
     "output_type": "display_data"
    },
    {
     "data": {
      "text/plain": [
       "Batches:   0%|          | 0/1 [00:00<?, ?it/s]"
      ],
      "application/vnd.jupyter.widget-view+json": {
       "version_major": 2,
       "version_minor": 0,
       "model_id": "ac64632cd9674f30b35333b3101ac58e"
      }
     },
     "metadata": {},
     "output_type": "display_data"
    },
    {
     "data": {
      "text/plain": [
       "Batches:   0%|          | 0/1 [00:00<?, ?it/s]"
      ],
      "application/vnd.jupyter.widget-view+json": {
       "version_major": 2,
       "version_minor": 0,
       "model_id": "cfc894b885af44858e97e35de8c66fd2"
      }
     },
     "metadata": {},
     "output_type": "display_data"
    },
    {
     "data": {
      "text/plain": [
       "Batches:   0%|          | 0/1 [00:00<?, ?it/s]"
      ],
      "application/vnd.jupyter.widget-view+json": {
       "version_major": 2,
       "version_minor": 0,
       "model_id": "a2b39536acfe4c9f869a2cd76543afc9"
      }
     },
     "metadata": {},
     "output_type": "display_data"
    },
    {
     "data": {
      "text/plain": [
       "Batches:   0%|          | 0/1 [00:00<?, ?it/s]"
      ],
      "application/vnd.jupyter.widget-view+json": {
       "version_major": 2,
       "version_minor": 0,
       "model_id": "18b77e00317d478e8b8629b03a7f60cc"
      }
     },
     "metadata": {},
     "output_type": "display_data"
    },
    {
     "data": {
      "text/plain": [
       "Batches:   0%|          | 0/1 [00:00<?, ?it/s]"
      ],
      "application/vnd.jupyter.widget-view+json": {
       "version_major": 2,
       "version_minor": 0,
       "model_id": "4f0f95857fb84a1eb9cd6f0fa875c8d5"
      }
     },
     "metadata": {},
     "output_type": "display_data"
    },
    {
     "data": {
      "text/plain": [
       "Batches:   0%|          | 0/1 [00:00<?, ?it/s]"
      ],
      "application/vnd.jupyter.widget-view+json": {
       "version_major": 2,
       "version_minor": 0,
       "model_id": "b88c06786c274343b7c24a78766fe02c"
      }
     },
     "metadata": {},
     "output_type": "display_data"
    },
    {
     "data": {
      "text/plain": [
       "Batches:   0%|          | 0/1 [00:00<?, ?it/s]"
      ],
      "application/vnd.jupyter.widget-view+json": {
       "version_major": 2,
       "version_minor": 0,
       "model_id": "0af3cdcbba1d4880bebf271c509ab431"
      }
     },
     "metadata": {},
     "output_type": "display_data"
    },
    {
     "data": {
      "text/plain": [
       "Batches:   0%|          | 0/1 [00:00<?, ?it/s]"
      ],
      "application/vnd.jupyter.widget-view+json": {
       "version_major": 2,
       "version_minor": 0,
       "model_id": "3ee960b3ccde4d3db684a83da813eb74"
      }
     },
     "metadata": {},
     "output_type": "display_data"
    },
    {
     "data": {
      "text/plain": [
       "Batches:   0%|          | 0/1 [00:00<?, ?it/s]"
      ],
      "application/vnd.jupyter.widget-view+json": {
       "version_major": 2,
       "version_minor": 0,
       "model_id": "e0815767255448d49d2fb6b45b7cc523"
      }
     },
     "metadata": {},
     "output_type": "display_data"
    },
    {
     "data": {
      "text/plain": [
       "Batches:   0%|          | 0/1 [00:00<?, ?it/s]"
      ],
      "application/vnd.jupyter.widget-view+json": {
       "version_major": 2,
       "version_minor": 0,
       "model_id": "4331dc99d7464349b0ee922d35b2c870"
      }
     },
     "metadata": {},
     "output_type": "display_data"
    },
    {
     "data": {
      "text/plain": [
       "Batches:   0%|          | 0/1 [00:00<?, ?it/s]"
      ],
      "application/vnd.jupyter.widget-view+json": {
       "version_major": 2,
       "version_minor": 0,
       "model_id": "96869057345a4500931cadb3789eb777"
      }
     },
     "metadata": {},
     "output_type": "display_data"
    },
    {
     "data": {
      "text/plain": [
       "Batches:   0%|          | 0/1 [00:00<?, ?it/s]"
      ],
      "application/vnd.jupyter.widget-view+json": {
       "version_major": 2,
       "version_minor": 0,
       "model_id": "c37054f79d104cb781da000432f0df6f"
      }
     },
     "metadata": {},
     "output_type": "display_data"
    },
    {
     "data": {
      "text/plain": [
       "Batches:   0%|          | 0/1 [00:00<?, ?it/s]"
      ],
      "application/vnd.jupyter.widget-view+json": {
       "version_major": 2,
       "version_minor": 0,
       "model_id": "032ea2e0fab4457cb6e2121d61e51fa6"
      }
     },
     "metadata": {},
     "output_type": "display_data"
    },
    {
     "data": {
      "text/plain": [
       "Batches:   0%|          | 0/1 [00:00<?, ?it/s]"
      ],
      "application/vnd.jupyter.widget-view+json": {
       "version_major": 2,
       "version_minor": 0,
       "model_id": "69b15a48cc364df980b05651ee4150f7"
      }
     },
     "metadata": {},
     "output_type": "display_data"
    },
    {
     "data": {
      "text/plain": [
       "Batches:   0%|          | 0/1 [00:00<?, ?it/s]"
      ],
      "application/vnd.jupyter.widget-view+json": {
       "version_major": 2,
       "version_minor": 0,
       "model_id": "72a6f540ac5549828ea1aa7cf688f160"
      }
     },
     "metadata": {},
     "output_type": "display_data"
    },
    {
     "data": {
      "text/plain": [
       "Batches:   0%|          | 0/1 [00:00<?, ?it/s]"
      ],
      "application/vnd.jupyter.widget-view+json": {
       "version_major": 2,
       "version_minor": 0,
       "model_id": "99cd731fa46a47b2ad6cdd9fa886573f"
      }
     },
     "metadata": {},
     "output_type": "display_data"
    },
    {
     "data": {
      "text/plain": [
       "Batches:   0%|          | 0/1 [00:00<?, ?it/s]"
      ],
      "application/vnd.jupyter.widget-view+json": {
       "version_major": 2,
       "version_minor": 0,
       "model_id": "ada0a1be0ea5412ca952899d6e6efb8d"
      }
     },
     "metadata": {},
     "output_type": "display_data"
    },
    {
     "data": {
      "text/plain": [
       "Batches:   0%|          | 0/1 [00:00<?, ?it/s]"
      ],
      "application/vnd.jupyter.widget-view+json": {
       "version_major": 2,
       "version_minor": 0,
       "model_id": "4bdbcb3fb6dd41dfba99ca4a859ae99f"
      }
     },
     "metadata": {},
     "output_type": "display_data"
    },
    {
     "data": {
      "text/plain": [
       "Batches:   0%|          | 0/1 [00:00<?, ?it/s]"
      ],
      "application/vnd.jupyter.widget-view+json": {
       "version_major": 2,
       "version_minor": 0,
       "model_id": "03007ae863394207920b1088423f851a"
      }
     },
     "metadata": {},
     "output_type": "display_data"
    },
    {
     "data": {
      "text/plain": [
       "Batches:   0%|          | 0/1 [00:00<?, ?it/s]"
      ],
      "application/vnd.jupyter.widget-view+json": {
       "version_major": 2,
       "version_minor": 0,
       "model_id": "de26b07cf7e342f79ffba0b1d815f957"
      }
     },
     "metadata": {},
     "output_type": "display_data"
    },
    {
     "data": {
      "text/plain": [
       "Batches:   0%|          | 0/1 [00:00<?, ?it/s]"
      ],
      "application/vnd.jupyter.widget-view+json": {
       "version_major": 2,
       "version_minor": 0,
       "model_id": "3c69909f03f4454e8ff66677bf3d344e"
      }
     },
     "metadata": {},
     "output_type": "display_data"
    },
    {
     "data": {
      "text/plain": [
       "Batches:   0%|          | 0/1 [00:00<?, ?it/s]"
      ],
      "application/vnd.jupyter.widget-view+json": {
       "version_major": 2,
       "version_minor": 0,
       "model_id": "d59e2cc924e24135944c2d376ecd8b6c"
      }
     },
     "metadata": {},
     "output_type": "display_data"
    },
    {
     "data": {
      "text/plain": [
       "Batches:   0%|          | 0/1 [00:00<?, ?it/s]"
      ],
      "application/vnd.jupyter.widget-view+json": {
       "version_major": 2,
       "version_minor": 0,
       "model_id": "5c1fcc3921ae4070a88e1af055930fb0"
      }
     },
     "metadata": {},
     "output_type": "display_data"
    },
    {
     "data": {
      "text/plain": [
       "Batches:   0%|          | 0/1 [00:00<?, ?it/s]"
      ],
      "application/vnd.jupyter.widget-view+json": {
       "version_major": 2,
       "version_minor": 0,
       "model_id": "2857a125c18643a4893a1149a0c696ab"
      }
     },
     "metadata": {},
     "output_type": "display_data"
    },
    {
     "data": {
      "text/plain": [
       "Batches:   0%|          | 0/1 [00:00<?, ?it/s]"
      ],
      "application/vnd.jupyter.widget-view+json": {
       "version_major": 2,
       "version_minor": 0,
       "model_id": "f09a32a58657466db3560ddf27ae2745"
      }
     },
     "metadata": {},
     "output_type": "display_data"
    },
    {
     "data": {
      "text/plain": [
       "Batches:   0%|          | 0/1 [00:00<?, ?it/s]"
      ],
      "application/vnd.jupyter.widget-view+json": {
       "version_major": 2,
       "version_minor": 0,
       "model_id": "1e05ce293cea4b63b805de83dda7e136"
      }
     },
     "metadata": {},
     "output_type": "display_data"
    },
    {
     "data": {
      "text/plain": [
       "Batches:   0%|          | 0/1 [00:00<?, ?it/s]"
      ],
      "application/vnd.jupyter.widget-view+json": {
       "version_major": 2,
       "version_minor": 0,
       "model_id": "63342ddf3ba94b85a7b8a6c89603dc22"
      }
     },
     "metadata": {},
     "output_type": "display_data"
    },
    {
     "data": {
      "text/plain": [
       "Batches:   0%|          | 0/1 [00:00<?, ?it/s]"
      ],
      "application/vnd.jupyter.widget-view+json": {
       "version_major": 2,
       "version_minor": 0,
       "model_id": "feae0c591d1c4ed2aaf5c7fb365aaa9d"
      }
     },
     "metadata": {},
     "output_type": "display_data"
    },
    {
     "data": {
      "text/plain": [
       "Batches:   0%|          | 0/1 [00:00<?, ?it/s]"
      ],
      "application/vnd.jupyter.widget-view+json": {
       "version_major": 2,
       "version_minor": 0,
       "model_id": "fcd71dd403474e48a88ab6e0ac7f4e13"
      }
     },
     "metadata": {},
     "output_type": "display_data"
    },
    {
     "data": {
      "text/plain": [
       "Batches:   0%|          | 0/1 [00:00<?, ?it/s]"
      ],
      "application/vnd.jupyter.widget-view+json": {
       "version_major": 2,
       "version_minor": 0,
       "model_id": "51d7470b1b684581864d8e551dbc272c"
      }
     },
     "metadata": {},
     "output_type": "display_data"
    },
    {
     "data": {
      "text/plain": [
       "Batches:   0%|          | 0/1 [00:00<?, ?it/s]"
      ],
      "application/vnd.jupyter.widget-view+json": {
       "version_major": 2,
       "version_minor": 0,
       "model_id": "7d8da9929d304e8bb0da1cdcbf4fa5d6"
      }
     },
     "metadata": {},
     "output_type": "display_data"
    },
    {
     "data": {
      "text/plain": [
       "Batches:   0%|          | 0/1 [00:00<?, ?it/s]"
      ],
      "application/vnd.jupyter.widget-view+json": {
       "version_major": 2,
       "version_minor": 0,
       "model_id": "7c8eef21c70f48b39ad3207051d2c315"
      }
     },
     "metadata": {},
     "output_type": "display_data"
    },
    {
     "data": {
      "text/plain": [
       "Batches:   0%|          | 0/1 [00:00<?, ?it/s]"
      ],
      "application/vnd.jupyter.widget-view+json": {
       "version_major": 2,
       "version_minor": 0,
       "model_id": "cd0e5ae901a04ebd8ee890c1211b9f68"
      }
     },
     "metadata": {},
     "output_type": "display_data"
    },
    {
     "data": {
      "text/plain": [
       "Batches:   0%|          | 0/1 [00:00<?, ?it/s]"
      ],
      "application/vnd.jupyter.widget-view+json": {
       "version_major": 2,
       "version_minor": 0,
       "model_id": "17e363f8954044619d4ea52f5327033f"
      }
     },
     "metadata": {},
     "output_type": "display_data"
    },
    {
     "data": {
      "text/plain": [
       "Batches:   0%|          | 0/1 [00:00<?, ?it/s]"
      ],
      "application/vnd.jupyter.widget-view+json": {
       "version_major": 2,
       "version_minor": 0,
       "model_id": "a9ac9a4d740b4b6f8981d99ab9c9b2da"
      }
     },
     "metadata": {},
     "output_type": "display_data"
    },
    {
     "data": {
      "text/plain": [
       "Batches:   0%|          | 0/1 [00:00<?, ?it/s]"
      ],
      "application/vnd.jupyter.widget-view+json": {
       "version_major": 2,
       "version_minor": 0,
       "model_id": "966b113f01864e2c8164043f1ab8ad9f"
      }
     },
     "metadata": {},
     "output_type": "display_data"
    },
    {
     "data": {
      "text/plain": [
       "Batches:   0%|          | 0/1 [00:00<?, ?it/s]"
      ],
      "application/vnd.jupyter.widget-view+json": {
       "version_major": 2,
       "version_minor": 0,
       "model_id": "e4f7ca83fd204c769221cb03d4a74bf9"
      }
     },
     "metadata": {},
     "output_type": "display_data"
    },
    {
     "data": {
      "text/plain": [
       "Batches:   0%|          | 0/1 [00:00<?, ?it/s]"
      ],
      "application/vnd.jupyter.widget-view+json": {
       "version_major": 2,
       "version_minor": 0,
       "model_id": "3cbc063517b54e3891f580ca00f8eb56"
      }
     },
     "metadata": {},
     "output_type": "display_data"
    },
    {
     "data": {
      "text/plain": [
       "Batches:   0%|          | 0/1 [00:00<?, ?it/s]"
      ],
      "application/vnd.jupyter.widget-view+json": {
       "version_major": 2,
       "version_minor": 0,
       "model_id": "56a5b198249d45ae997202ddf124171b"
      }
     },
     "metadata": {},
     "output_type": "display_data"
    },
    {
     "data": {
      "text/plain": [
       "Batches:   0%|          | 0/1 [00:00<?, ?it/s]"
      ],
      "application/vnd.jupyter.widget-view+json": {
       "version_major": 2,
       "version_minor": 0,
       "model_id": "955d7395909840a3a841545ccb1552d1"
      }
     },
     "metadata": {},
     "output_type": "display_data"
    },
    {
     "data": {
      "text/plain": [
       "Batches:   0%|          | 0/1 [00:00<?, ?it/s]"
      ],
      "application/vnd.jupyter.widget-view+json": {
       "version_major": 2,
       "version_minor": 0,
       "model_id": "1ae3a49b300b470e8cc5724218a2e825"
      }
     },
     "metadata": {},
     "output_type": "display_data"
    },
    {
     "data": {
      "text/plain": [
       "Batches:   0%|          | 0/1 [00:00<?, ?it/s]"
      ],
      "application/vnd.jupyter.widget-view+json": {
       "version_major": 2,
       "version_minor": 0,
       "model_id": "652122d04a5a4169b27bf84be2040b4c"
      }
     },
     "metadata": {},
     "output_type": "display_data"
    },
    {
     "data": {
      "text/plain": [
       "Batches:   0%|          | 0/1 [00:00<?, ?it/s]"
      ],
      "application/vnd.jupyter.widget-view+json": {
       "version_major": 2,
       "version_minor": 0,
       "model_id": "70dffe619f2a4a6385cbcb090dfb5510"
      }
     },
     "metadata": {},
     "output_type": "display_data"
    },
    {
     "data": {
      "text/plain": [
       "Batches:   0%|          | 0/1 [00:00<?, ?it/s]"
      ],
      "application/vnd.jupyter.widget-view+json": {
       "version_major": 2,
       "version_minor": 0,
       "model_id": "9a3fc0fe67504b9ca0ada317b82114fd"
      }
     },
     "metadata": {},
     "output_type": "display_data"
    },
    {
     "data": {
      "text/plain": [
       "Batches:   0%|          | 0/1 [00:00<?, ?it/s]"
      ],
      "application/vnd.jupyter.widget-view+json": {
       "version_major": 2,
       "version_minor": 0,
       "model_id": "880355e9b03f41e5ac017b3758e2e3c9"
      }
     },
     "metadata": {},
     "output_type": "display_data"
    },
    {
     "data": {
      "text/plain": [
       "Batches:   0%|          | 0/1 [00:00<?, ?it/s]"
      ],
      "application/vnd.jupyter.widget-view+json": {
       "version_major": 2,
       "version_minor": 0,
       "model_id": "d9a30b4f4c524d2295b8d46b546bf344"
      }
     },
     "metadata": {},
     "output_type": "display_data"
    },
    {
     "data": {
      "text/plain": [
       "Batches:   0%|          | 0/1 [00:00<?, ?it/s]"
      ],
      "application/vnd.jupyter.widget-view+json": {
       "version_major": 2,
       "version_minor": 0,
       "model_id": "034f1ab4876a47e58d7a13d38f0ffca0"
      }
     },
     "metadata": {},
     "output_type": "display_data"
    },
    {
     "data": {
      "text/plain": [
       "Batches:   0%|          | 0/1 [00:00<?, ?it/s]"
      ],
      "application/vnd.jupyter.widget-view+json": {
       "version_major": 2,
       "version_minor": 0,
       "model_id": "858edcbc63ba473d94f9d4a2aad5b37e"
      }
     },
     "metadata": {},
     "output_type": "display_data"
    },
    {
     "data": {
      "text/plain": [
       "Batches:   0%|          | 0/1 [00:00<?, ?it/s]"
      ],
      "application/vnd.jupyter.widget-view+json": {
       "version_major": 2,
       "version_minor": 0,
       "model_id": "d1a8415db456413ea071d7cd6ad44c35"
      }
     },
     "metadata": {},
     "output_type": "display_data"
    },
    {
     "data": {
      "text/plain": [
       "Batches:   0%|          | 0/1 [00:00<?, ?it/s]"
      ],
      "application/vnd.jupyter.widget-view+json": {
       "version_major": 2,
       "version_minor": 0,
       "model_id": "2de451e4bc384721aa0afefa0939d7b8"
      }
     },
     "metadata": {},
     "output_type": "display_data"
    },
    {
     "data": {
      "text/plain": [
       "Batches:   0%|          | 0/1 [00:00<?, ?it/s]"
      ],
      "application/vnd.jupyter.widget-view+json": {
       "version_major": 2,
       "version_minor": 0,
       "model_id": "4ecd3bc4824a4a27ae6c5d3b8120f881"
      }
     },
     "metadata": {},
     "output_type": "display_data"
    },
    {
     "data": {
      "text/plain": [
       "Batches:   0%|          | 0/1 [00:00<?, ?it/s]"
      ],
      "application/vnd.jupyter.widget-view+json": {
       "version_major": 2,
       "version_minor": 0,
       "model_id": "7ef61e266a3a414aa4a9b5b16fdf072d"
      }
     },
     "metadata": {},
     "output_type": "display_data"
    },
    {
     "data": {
      "text/plain": [
       "Batches:   0%|          | 0/1 [00:00<?, ?it/s]"
      ],
      "application/vnd.jupyter.widget-view+json": {
       "version_major": 2,
       "version_minor": 0,
       "model_id": "f65f0600d6294efd96761954fc851901"
      }
     },
     "metadata": {},
     "output_type": "display_data"
    },
    {
     "data": {
      "text/plain": [
       "Batches:   0%|          | 0/1 [00:00<?, ?it/s]"
      ],
      "application/vnd.jupyter.widget-view+json": {
       "version_major": 2,
       "version_minor": 0,
       "model_id": "66397f9684bf480f9bfbc5b808b210c2"
      }
     },
     "metadata": {},
     "output_type": "display_data"
    },
    {
     "data": {
      "text/plain": [
       "Batches:   0%|          | 0/1 [00:00<?, ?it/s]"
      ],
      "application/vnd.jupyter.widget-view+json": {
       "version_major": 2,
       "version_minor": 0,
       "model_id": "d6d188f3edd645a2b939afc2c891a1b1"
      }
     },
     "metadata": {},
     "output_type": "display_data"
    },
    {
     "data": {
      "text/plain": [
       "Batches:   0%|          | 0/1 [00:00<?, ?it/s]"
      ],
      "application/vnd.jupyter.widget-view+json": {
       "version_major": 2,
       "version_minor": 0,
       "model_id": "9c12b021e2fb40e7b69e5455980702b1"
      }
     },
     "metadata": {},
     "output_type": "display_data"
    },
    {
     "data": {
      "text/plain": [
       "Batches:   0%|          | 0/1 [00:00<?, ?it/s]"
      ],
      "application/vnd.jupyter.widget-view+json": {
       "version_major": 2,
       "version_minor": 0,
       "model_id": "1661d6ae1c8449609dbf674a5dcc7c26"
      }
     },
     "metadata": {},
     "output_type": "display_data"
    },
    {
     "data": {
      "text/plain": [
       "Batches:   0%|          | 0/1 [00:00<?, ?it/s]"
      ],
      "application/vnd.jupyter.widget-view+json": {
       "version_major": 2,
       "version_minor": 0,
       "model_id": "5f9de84b39184d1e9fe70726f5099ed4"
      }
     },
     "metadata": {},
     "output_type": "display_data"
    },
    {
     "data": {
      "text/plain": [
       "Batches:   0%|          | 0/1 [00:00<?, ?it/s]"
      ],
      "application/vnd.jupyter.widget-view+json": {
       "version_major": 2,
       "version_minor": 0,
       "model_id": "4abac7e9cad642689ba01cbc7cb3e190"
      }
     },
     "metadata": {},
     "output_type": "display_data"
    },
    {
     "data": {
      "text/plain": [
       "Batches:   0%|          | 0/1 [00:00<?, ?it/s]"
      ],
      "application/vnd.jupyter.widget-view+json": {
       "version_major": 2,
       "version_minor": 0,
       "model_id": "09a78cca97384e00932296a74ad6bce6"
      }
     },
     "metadata": {},
     "output_type": "display_data"
    },
    {
     "data": {
      "text/plain": [
       "Batches:   0%|          | 0/1 [00:00<?, ?it/s]"
      ],
      "application/vnd.jupyter.widget-view+json": {
       "version_major": 2,
       "version_minor": 0,
       "model_id": "854329d257e84620b786640701d8b442"
      }
     },
     "metadata": {},
     "output_type": "display_data"
    },
    {
     "data": {
      "text/plain": [
       "Batches:   0%|          | 0/1 [00:00<?, ?it/s]"
      ],
      "application/vnd.jupyter.widget-view+json": {
       "version_major": 2,
       "version_minor": 0,
       "model_id": "4d14405d23914c289ee603e0321ac66e"
      }
     },
     "metadata": {},
     "output_type": "display_data"
    },
    {
     "data": {
      "text/plain": [
       "Batches:   0%|          | 0/1 [00:00<?, ?it/s]"
      ],
      "application/vnd.jupyter.widget-view+json": {
       "version_major": 2,
       "version_minor": 0,
       "model_id": "14b53446edb24c5785a5deb0740d2d0d"
      }
     },
     "metadata": {},
     "output_type": "display_data"
    },
    {
     "data": {
      "text/plain": [
       "Batches:   0%|          | 0/1 [00:00<?, ?it/s]"
      ],
      "application/vnd.jupyter.widget-view+json": {
       "version_major": 2,
       "version_minor": 0,
       "model_id": "d67fee88313440058a5bbebd3f65c9d0"
      }
     },
     "metadata": {},
     "output_type": "display_data"
    },
    {
     "data": {
      "text/plain": [
       "Batches:   0%|          | 0/1 [00:00<?, ?it/s]"
      ],
      "application/vnd.jupyter.widget-view+json": {
       "version_major": 2,
       "version_minor": 0,
       "model_id": "90cf5e4043344c3f93fdba0a2cc46680"
      }
     },
     "metadata": {},
     "output_type": "display_data"
    },
    {
     "data": {
      "text/plain": [
       "Batches:   0%|          | 0/1 [00:00<?, ?it/s]"
      ],
      "application/vnd.jupyter.widget-view+json": {
       "version_major": 2,
       "version_minor": 0,
       "model_id": "d7aa19a7f711462cbb701437e36d5be3"
      }
     },
     "metadata": {},
     "output_type": "display_data"
    },
    {
     "data": {
      "text/plain": [
       "Batches:   0%|          | 0/1 [00:00<?, ?it/s]"
      ],
      "application/vnd.jupyter.widget-view+json": {
       "version_major": 2,
       "version_minor": 0,
       "model_id": "bdc6605add6543caa9245e1869c8834a"
      }
     },
     "metadata": {},
     "output_type": "display_data"
    },
    {
     "data": {
      "text/plain": [
       "Batches:   0%|          | 0/1 [00:00<?, ?it/s]"
      ],
      "application/vnd.jupyter.widget-view+json": {
       "version_major": 2,
       "version_minor": 0,
       "model_id": "daa0290e7d2c450a8e51dd350d510548"
      }
     },
     "metadata": {},
     "output_type": "display_data"
    },
    {
     "data": {
      "text/plain": [
       "Batches:   0%|          | 0/1 [00:00<?, ?it/s]"
      ],
      "application/vnd.jupyter.widget-view+json": {
       "version_major": 2,
       "version_minor": 0,
       "model_id": "b3a33e49ab7d4cd496c20d362a8db0ac"
      }
     },
     "metadata": {},
     "output_type": "display_data"
    },
    {
     "data": {
      "text/plain": [
       "Batches:   0%|          | 0/1 [00:00<?, ?it/s]"
      ],
      "application/vnd.jupyter.widget-view+json": {
       "version_major": 2,
       "version_minor": 0,
       "model_id": "ee4c6d7f4dab432e82880dd342c314c6"
      }
     },
     "metadata": {},
     "output_type": "display_data"
    },
    {
     "data": {
      "text/plain": [
       "Batches:   0%|          | 0/1 [00:00<?, ?it/s]"
      ],
      "application/vnd.jupyter.widget-view+json": {
       "version_major": 2,
       "version_minor": 0,
       "model_id": "a2b1e02595874d08a266b5a5ce1ef805"
      }
     },
     "metadata": {},
     "output_type": "display_data"
    },
    {
     "data": {
      "text/plain": [
       "Batches:   0%|          | 0/1 [00:00<?, ?it/s]"
      ],
      "application/vnd.jupyter.widget-view+json": {
       "version_major": 2,
       "version_minor": 0,
       "model_id": "8addda96bda54a93801e27c32e307c10"
      }
     },
     "metadata": {},
     "output_type": "display_data"
    },
    {
     "data": {
      "text/plain": [
       "Batches:   0%|          | 0/1 [00:00<?, ?it/s]"
      ],
      "application/vnd.jupyter.widget-view+json": {
       "version_major": 2,
       "version_minor": 0,
       "model_id": "1cd41328a669463ea1cf7639329c274e"
      }
     },
     "metadata": {},
     "output_type": "display_data"
    },
    {
     "data": {
      "text/plain": [
       "Batches:   0%|          | 0/1 [00:00<?, ?it/s]"
      ],
      "application/vnd.jupyter.widget-view+json": {
       "version_major": 2,
       "version_minor": 0,
       "model_id": "b92a55a4b4d04e6ea99a66106ba79291"
      }
     },
     "metadata": {},
     "output_type": "display_data"
    },
    {
     "data": {
      "text/plain": [
       "Batches:   0%|          | 0/1 [00:00<?, ?it/s]"
      ],
      "application/vnd.jupyter.widget-view+json": {
       "version_major": 2,
       "version_minor": 0,
       "model_id": "6aebb7f5341a4c16b5046074a5cc9ea9"
      }
     },
     "metadata": {},
     "output_type": "display_data"
    },
    {
     "data": {
      "text/plain": [
       "Batches:   0%|          | 0/1 [00:00<?, ?it/s]"
      ],
      "application/vnd.jupyter.widget-view+json": {
       "version_major": 2,
       "version_minor": 0,
       "model_id": "3b72fd122edf4a18b9d3ae405dc861cf"
      }
     },
     "metadata": {},
     "output_type": "display_data"
    },
    {
     "data": {
      "text/plain": [
       "Batches:   0%|          | 0/1 [00:00<?, ?it/s]"
      ],
      "application/vnd.jupyter.widget-view+json": {
       "version_major": 2,
       "version_minor": 0,
       "model_id": "72b0959c0e6043a5b584fb5cdc6adbb4"
      }
     },
     "metadata": {},
     "output_type": "display_data"
    },
    {
     "data": {
      "text/plain": [
       "Batches:   0%|          | 0/1 [00:00<?, ?it/s]"
      ],
      "application/vnd.jupyter.widget-view+json": {
       "version_major": 2,
       "version_minor": 0,
       "model_id": "2646a499706b4cde9b393d2a1b4df9f0"
      }
     },
     "metadata": {},
     "output_type": "display_data"
    },
    {
     "data": {
      "text/plain": [
       "Batches:   0%|          | 0/1 [00:00<?, ?it/s]"
      ],
      "application/vnd.jupyter.widget-view+json": {
       "version_major": 2,
       "version_minor": 0,
       "model_id": "b12c11349aaf4d67b963f9508c97e1d9"
      }
     },
     "metadata": {},
     "output_type": "display_data"
    },
    {
     "data": {
      "text/plain": [
       "Batches:   0%|          | 0/1 [00:00<?, ?it/s]"
      ],
      "application/vnd.jupyter.widget-view+json": {
       "version_major": 2,
       "version_minor": 0,
       "model_id": "8aa64f774f6140ef960eda573df033d3"
      }
     },
     "metadata": {},
     "output_type": "display_data"
    },
    {
     "data": {
      "text/plain": [
       "Batches:   0%|          | 0/1 [00:00<?, ?it/s]"
      ],
      "application/vnd.jupyter.widget-view+json": {
       "version_major": 2,
       "version_minor": 0,
       "model_id": "7b250032e9d9447cbd2c7e1c03c01aff"
      }
     },
     "metadata": {},
     "output_type": "display_data"
    },
    {
     "data": {
      "text/plain": [
       "Batches:   0%|          | 0/1 [00:00<?, ?it/s]"
      ],
      "application/vnd.jupyter.widget-view+json": {
       "version_major": 2,
       "version_minor": 0,
       "model_id": "237c2f876f274847af44b681cbb8d738"
      }
     },
     "metadata": {},
     "output_type": "display_data"
    },
    {
     "data": {
      "text/plain": [
       "Batches:   0%|          | 0/1 [00:00<?, ?it/s]"
      ],
      "application/vnd.jupyter.widget-view+json": {
       "version_major": 2,
       "version_minor": 0,
       "model_id": "e79070e51e414014b6ffbc7b11fcaa70"
      }
     },
     "metadata": {},
     "output_type": "display_data"
    },
    {
     "data": {
      "text/plain": [
       "Batches:   0%|          | 0/1 [00:00<?, ?it/s]"
      ],
      "application/vnd.jupyter.widget-view+json": {
       "version_major": 2,
       "version_minor": 0,
       "model_id": "457c6b5b377b4502a34a01c5aeb23153"
      }
     },
     "metadata": {},
     "output_type": "display_data"
    },
    {
     "data": {
      "text/plain": [
       "Batches:   0%|          | 0/1 [00:00<?, ?it/s]"
      ],
      "application/vnd.jupyter.widget-view+json": {
       "version_major": 2,
       "version_minor": 0,
       "model_id": "f963b74515d54bcc86471259c81e5bc9"
      }
     },
     "metadata": {},
     "output_type": "display_data"
    },
    {
     "data": {
      "text/plain": [
       "Batches:   0%|          | 0/1 [00:00<?, ?it/s]"
      ],
      "application/vnd.jupyter.widget-view+json": {
       "version_major": 2,
       "version_minor": 0,
       "model_id": "fb27d09bf60d449aa597482a53dd429e"
      }
     },
     "metadata": {},
     "output_type": "display_data"
    },
    {
     "data": {
      "text/plain": [
       "Batches:   0%|          | 0/1 [00:00<?, ?it/s]"
      ],
      "application/vnd.jupyter.widget-view+json": {
       "version_major": 2,
       "version_minor": 0,
       "model_id": "6434a29341a642d59831b6dba8aa4e72"
      }
     },
     "metadata": {},
     "output_type": "display_data"
    },
    {
     "data": {
      "text/plain": [
       "Batches:   0%|          | 0/1 [00:00<?, ?it/s]"
      ],
      "application/vnd.jupyter.widget-view+json": {
       "version_major": 2,
       "version_minor": 0,
       "model_id": "1c56b711ff2b41bb9ab91ace375c6412"
      }
     },
     "metadata": {},
     "output_type": "display_data"
    },
    {
     "data": {
      "text/plain": [
       "Batches:   0%|          | 0/1 [00:00<?, ?it/s]"
      ],
      "application/vnd.jupyter.widget-view+json": {
       "version_major": 2,
       "version_minor": 0,
       "model_id": "442573daf7f04c8fbfef1ab99c898c2e"
      }
     },
     "metadata": {},
     "output_type": "display_data"
    },
    {
     "data": {
      "text/plain": [
       "Batches:   0%|          | 0/1 [00:00<?, ?it/s]"
      ],
      "application/vnd.jupyter.widget-view+json": {
       "version_major": 2,
       "version_minor": 0,
       "model_id": "d43365f8cf1a43ef8fe3ec6ba3747130"
      }
     },
     "metadata": {},
     "output_type": "display_data"
    },
    {
     "data": {
      "text/plain": [
       "Batches:   0%|          | 0/1 [00:00<?, ?it/s]"
      ],
      "application/vnd.jupyter.widget-view+json": {
       "version_major": 2,
       "version_minor": 0,
       "model_id": "a318b016ce6c4e759e1dbcfaab8b4199"
      }
     },
     "metadata": {},
     "output_type": "display_data"
    },
    {
     "data": {
      "text/plain": [
       "Batches:   0%|          | 0/1 [00:00<?, ?it/s]"
      ],
      "application/vnd.jupyter.widget-view+json": {
       "version_major": 2,
       "version_minor": 0,
       "model_id": "43c42f2103194d089f9acb1c64fdb93c"
      }
     },
     "metadata": {},
     "output_type": "display_data"
    },
    {
     "data": {
      "text/plain": [
       "Batches:   0%|          | 0/1 [00:00<?, ?it/s]"
      ],
      "application/vnd.jupyter.widget-view+json": {
       "version_major": 2,
       "version_minor": 0,
       "model_id": "8945deda6fed4811951f65227ab2d0d3"
      }
     },
     "metadata": {},
     "output_type": "display_data"
    },
    {
     "data": {
      "text/plain": [
       "Batches:   0%|          | 0/1 [00:00<?, ?it/s]"
      ],
      "application/vnd.jupyter.widget-view+json": {
       "version_major": 2,
       "version_minor": 0,
       "model_id": "187ae21e47c04072b6938b3c5ea769d2"
      }
     },
     "metadata": {},
     "output_type": "display_data"
    },
    {
     "data": {
      "text/plain": [
       "Batches:   0%|          | 0/1 [00:00<?, ?it/s]"
      ],
      "application/vnd.jupyter.widget-view+json": {
       "version_major": 2,
       "version_minor": 0,
       "model_id": "a18f4b69794c4cda9f014dc2ba06a688"
      }
     },
     "metadata": {},
     "output_type": "display_data"
    },
    {
     "data": {
      "text/plain": [
       "Batches:   0%|          | 0/1 [00:00<?, ?it/s]"
      ],
      "application/vnd.jupyter.widget-view+json": {
       "version_major": 2,
       "version_minor": 0,
       "model_id": "d45d3311cbee4b6e9a846f22b79d7864"
      }
     },
     "metadata": {},
     "output_type": "display_data"
    },
    {
     "data": {
      "text/plain": [
       "Batches:   0%|          | 0/1 [00:00<?, ?it/s]"
      ],
      "application/vnd.jupyter.widget-view+json": {
       "version_major": 2,
       "version_minor": 0,
       "model_id": "c11bb5f3a3644866afb0a9ce9cc68988"
      }
     },
     "metadata": {},
     "output_type": "display_data"
    },
    {
     "data": {
      "text/plain": [
       "Batches:   0%|          | 0/1 [00:00<?, ?it/s]"
      ],
      "application/vnd.jupyter.widget-view+json": {
       "version_major": 2,
       "version_minor": 0,
       "model_id": "59d3dd981f064d65b886782b19422054"
      }
     },
     "metadata": {},
     "output_type": "display_data"
    },
    {
     "data": {
      "text/plain": [
       "Batches:   0%|          | 0/1 [00:00<?, ?it/s]"
      ],
      "application/vnd.jupyter.widget-view+json": {
       "version_major": 2,
       "version_minor": 0,
       "model_id": "bfbcf88b3cda45bbb154c779017c0f10"
      }
     },
     "metadata": {},
     "output_type": "display_data"
    },
    {
     "data": {
      "text/plain": [
       "Batches:   0%|          | 0/1 [00:00<?, ?it/s]"
      ],
      "application/vnd.jupyter.widget-view+json": {
       "version_major": 2,
       "version_minor": 0,
       "model_id": "a5e6ed55fb1d41829a24fc418c73b88e"
      }
     },
     "metadata": {},
     "output_type": "display_data"
    },
    {
     "data": {
      "text/plain": [
       "Batches:   0%|          | 0/1 [00:00<?, ?it/s]"
      ],
      "application/vnd.jupyter.widget-view+json": {
       "version_major": 2,
       "version_minor": 0,
       "model_id": "5195ef71a78540d6bccd71a4da0b6f34"
      }
     },
     "metadata": {},
     "output_type": "display_data"
    },
    {
     "data": {
      "text/plain": [
       "Batches:   0%|          | 0/1 [00:00<?, ?it/s]"
      ],
      "application/vnd.jupyter.widget-view+json": {
       "version_major": 2,
       "version_minor": 0,
       "model_id": "741eb4a748cf4672a4940ca9084215d2"
      }
     },
     "metadata": {},
     "output_type": "display_data"
    },
    {
     "data": {
      "text/plain": [
       "Batches:   0%|          | 0/1 [00:00<?, ?it/s]"
      ],
      "application/vnd.jupyter.widget-view+json": {
       "version_major": 2,
       "version_minor": 0,
       "model_id": "853f47821fff4b84818a1ffe1b4f8917"
      }
     },
     "metadata": {},
     "output_type": "display_data"
    },
    {
     "data": {
      "text/plain": [
       "Batches:   0%|          | 0/1 [00:00<?, ?it/s]"
      ],
      "application/vnd.jupyter.widget-view+json": {
       "version_major": 2,
       "version_minor": 0,
       "model_id": "bd11e0981d04463a935e5c279460ed35"
      }
     },
     "metadata": {},
     "output_type": "display_data"
    },
    {
     "data": {
      "text/plain": [
       "Batches:   0%|          | 0/1 [00:00<?, ?it/s]"
      ],
      "application/vnd.jupyter.widget-view+json": {
       "version_major": 2,
       "version_minor": 0,
       "model_id": "748223642f574506a09cfdc03ef002f7"
      }
     },
     "metadata": {},
     "output_type": "display_data"
    },
    {
     "data": {
      "text/plain": [
       "Batches:   0%|          | 0/1 [00:00<?, ?it/s]"
      ],
      "application/vnd.jupyter.widget-view+json": {
       "version_major": 2,
       "version_minor": 0,
       "model_id": "7b673a88773b4e539446835b0a8eedc0"
      }
     },
     "metadata": {},
     "output_type": "display_data"
    },
    {
     "data": {
      "text/plain": [
       "Batches:   0%|          | 0/1 [00:00<?, ?it/s]"
      ],
      "application/vnd.jupyter.widget-view+json": {
       "version_major": 2,
       "version_minor": 0,
       "model_id": "2b50f299223d472fb34cbdb4c2a4a8c1"
      }
     },
     "metadata": {},
     "output_type": "display_data"
    },
    {
     "data": {
      "text/plain": [
       "Batches:   0%|          | 0/1 [00:00<?, ?it/s]"
      ],
      "application/vnd.jupyter.widget-view+json": {
       "version_major": 2,
       "version_minor": 0,
       "model_id": "d37a9c9e3a2e49dcb23e88e4eec056e1"
      }
     },
     "metadata": {},
     "output_type": "display_data"
    },
    {
     "data": {
      "text/plain": [
       "Batches:   0%|          | 0/1 [00:00<?, ?it/s]"
      ],
      "application/vnd.jupyter.widget-view+json": {
       "version_major": 2,
       "version_minor": 0,
       "model_id": "2741f1ff792a4267bd7ebc4a88fa6bf8"
      }
     },
     "metadata": {},
     "output_type": "display_data"
    },
    {
     "data": {
      "text/plain": [
       "Batches:   0%|          | 0/1 [00:00<?, ?it/s]"
      ],
      "application/vnd.jupyter.widget-view+json": {
       "version_major": 2,
       "version_minor": 0,
       "model_id": "d770b18509794fe58700c539fb70ef4c"
      }
     },
     "metadata": {},
     "output_type": "display_data"
    },
    {
     "data": {
      "text/plain": [
       "Batches:   0%|          | 0/1 [00:00<?, ?it/s]"
      ],
      "application/vnd.jupyter.widget-view+json": {
       "version_major": 2,
       "version_minor": 0,
       "model_id": "71d324df7c0a41568f31755105cb53fd"
      }
     },
     "metadata": {},
     "output_type": "display_data"
    },
    {
     "data": {
      "text/plain": [
       "Batches:   0%|          | 0/1 [00:00<?, ?it/s]"
      ],
      "application/vnd.jupyter.widget-view+json": {
       "version_major": 2,
       "version_minor": 0,
       "model_id": "690f9239345f4d32b26c7feb81dc8b67"
      }
     },
     "metadata": {},
     "output_type": "display_data"
    },
    {
     "data": {
      "text/plain": [
       "Batches:   0%|          | 0/1 [00:00<?, ?it/s]"
      ],
      "application/vnd.jupyter.widget-view+json": {
       "version_major": 2,
       "version_minor": 0,
       "model_id": "0a5277fe4f054e91bbf647c539b63d9d"
      }
     },
     "metadata": {},
     "output_type": "display_data"
    },
    {
     "data": {
      "text/plain": [
       "Batches:   0%|          | 0/1 [00:00<?, ?it/s]"
      ],
      "application/vnd.jupyter.widget-view+json": {
       "version_major": 2,
       "version_minor": 0,
       "model_id": "b6d8ba02443a4ec6b2cf1b2e16979ace"
      }
     },
     "metadata": {},
     "output_type": "display_data"
    },
    {
     "data": {
      "text/plain": [
       "Batches:   0%|          | 0/1 [00:00<?, ?it/s]"
      ],
      "application/vnd.jupyter.widget-view+json": {
       "version_major": 2,
       "version_minor": 0,
       "model_id": "3c93eb41f6e64bb2a9a725ede44d2d9f"
      }
     },
     "metadata": {},
     "output_type": "display_data"
    },
    {
     "data": {
      "text/plain": [
       "Batches:   0%|          | 0/1 [00:00<?, ?it/s]"
      ],
      "application/vnd.jupyter.widget-view+json": {
       "version_major": 2,
       "version_minor": 0,
       "model_id": "babf3fa28be241afb566c408b3be2c7d"
      }
     },
     "metadata": {},
     "output_type": "display_data"
    },
    {
     "data": {
      "text/plain": [
       "Batches:   0%|          | 0/1 [00:00<?, ?it/s]"
      ],
      "application/vnd.jupyter.widget-view+json": {
       "version_major": 2,
       "version_minor": 0,
       "model_id": "73cf59b1072a47bfa5fa589cb495d100"
      }
     },
     "metadata": {},
     "output_type": "display_data"
    },
    {
     "data": {
      "text/plain": [
       "Batches:   0%|          | 0/1 [00:00<?, ?it/s]"
      ],
      "application/vnd.jupyter.widget-view+json": {
       "version_major": 2,
       "version_minor": 0,
       "model_id": "7c7603871102492aa975996879acca32"
      }
     },
     "metadata": {},
     "output_type": "display_data"
    },
    {
     "data": {
      "text/plain": [
       "Batches:   0%|          | 0/1 [00:00<?, ?it/s]"
      ],
      "application/vnd.jupyter.widget-view+json": {
       "version_major": 2,
       "version_minor": 0,
       "model_id": "7797cd54e70c402abde3f99bc33248f6"
      }
     },
     "metadata": {},
     "output_type": "display_data"
    },
    {
     "data": {
      "text/plain": [
       "Batches:   0%|          | 0/1 [00:00<?, ?it/s]"
      ],
      "application/vnd.jupyter.widget-view+json": {
       "version_major": 2,
       "version_minor": 0,
       "model_id": "22ffefe429d74ed3a1bc3501dac3fada"
      }
     },
     "metadata": {},
     "output_type": "display_data"
    },
    {
     "data": {
      "text/plain": [
       "Batches:   0%|          | 0/1 [00:00<?, ?it/s]"
      ],
      "application/vnd.jupyter.widget-view+json": {
       "version_major": 2,
       "version_minor": 0,
       "model_id": "24d56e1a142d4c2eb041aefceb8b3edf"
      }
     },
     "metadata": {},
     "output_type": "display_data"
    },
    {
     "data": {
      "text/plain": [
       "Batches:   0%|          | 0/1 [00:00<?, ?it/s]"
      ],
      "application/vnd.jupyter.widget-view+json": {
       "version_major": 2,
       "version_minor": 0,
       "model_id": "975b09df101e440db062614856e03bc9"
      }
     },
     "metadata": {},
     "output_type": "display_data"
    },
    {
     "data": {
      "text/plain": [
       "Batches:   0%|          | 0/1 [00:00<?, ?it/s]"
      ],
      "application/vnd.jupyter.widget-view+json": {
       "version_major": 2,
       "version_minor": 0,
       "model_id": "0fc9e764e2404675ae8e0355cd38c803"
      }
     },
     "metadata": {},
     "output_type": "display_data"
    },
    {
     "data": {
      "text/plain": [
       "Batches:   0%|          | 0/1 [00:00<?, ?it/s]"
      ],
      "application/vnd.jupyter.widget-view+json": {
       "version_major": 2,
       "version_minor": 0,
       "model_id": "51150502d7a24a15a4a3e5fb56dfd34e"
      }
     },
     "metadata": {},
     "output_type": "display_data"
    },
    {
     "data": {
      "text/plain": [
       "Batches:   0%|          | 0/1 [00:00<?, ?it/s]"
      ],
      "application/vnd.jupyter.widget-view+json": {
       "version_major": 2,
       "version_minor": 0,
       "model_id": "788b6d18f60d46379d93c27f1a9411c9"
      }
     },
     "metadata": {},
     "output_type": "display_data"
    },
    {
     "data": {
      "text/plain": [
       "Batches:   0%|          | 0/1 [00:00<?, ?it/s]"
      ],
      "application/vnd.jupyter.widget-view+json": {
       "version_major": 2,
       "version_minor": 0,
       "model_id": "5d77892d4aa44026a98b8ae39f8918be"
      }
     },
     "metadata": {},
     "output_type": "display_data"
    },
    {
     "data": {
      "text/plain": [
       "Batches:   0%|          | 0/1 [00:00<?, ?it/s]"
      ],
      "application/vnd.jupyter.widget-view+json": {
       "version_major": 2,
       "version_minor": 0,
       "model_id": "eae3ef26b635488eab5b6d6a46a869db"
      }
     },
     "metadata": {},
     "output_type": "display_data"
    },
    {
     "data": {
      "text/plain": [
       "Batches:   0%|          | 0/1 [00:00<?, ?it/s]"
      ],
      "application/vnd.jupyter.widget-view+json": {
       "version_major": 2,
       "version_minor": 0,
       "model_id": "01fcef1e8ec5424ca10a7961c74f8914"
      }
     },
     "metadata": {},
     "output_type": "display_data"
    },
    {
     "data": {
      "text/plain": [
       "Batches:   0%|          | 0/1 [00:00<?, ?it/s]"
      ],
      "application/vnd.jupyter.widget-view+json": {
       "version_major": 2,
       "version_minor": 0,
       "model_id": "5353050b1c454f37915a11110cd6cad4"
      }
     },
     "metadata": {},
     "output_type": "display_data"
    },
    {
     "data": {
      "text/plain": [
       "Batches:   0%|          | 0/1 [00:00<?, ?it/s]"
      ],
      "application/vnd.jupyter.widget-view+json": {
       "version_major": 2,
       "version_minor": 0,
       "model_id": "dadc5973f6284e3b8918d2d6b1919a94"
      }
     },
     "metadata": {},
     "output_type": "display_data"
    },
    {
     "data": {
      "text/plain": [
       "Batches:   0%|          | 0/1 [00:00<?, ?it/s]"
      ],
      "application/vnd.jupyter.widget-view+json": {
       "version_major": 2,
       "version_minor": 0,
       "model_id": "e2694c76edbb4589903948d07aba1493"
      }
     },
     "metadata": {},
     "output_type": "display_data"
    },
    {
     "data": {
      "text/plain": [
       "Batches:   0%|          | 0/1 [00:00<?, ?it/s]"
      ],
      "application/vnd.jupyter.widget-view+json": {
       "version_major": 2,
       "version_minor": 0,
       "model_id": "e39fcb2f785c4f25a84e8d16a757e256"
      }
     },
     "metadata": {},
     "output_type": "display_data"
    },
    {
     "data": {
      "text/plain": [
       "Batches:   0%|          | 0/1 [00:00<?, ?it/s]"
      ],
      "application/vnd.jupyter.widget-view+json": {
       "version_major": 2,
       "version_minor": 0,
       "model_id": "1ec6544a6a2248bca72efb64a3398528"
      }
     },
     "metadata": {},
     "output_type": "display_data"
    },
    {
     "data": {
      "text/plain": [
       "Batches:   0%|          | 0/1 [00:00<?, ?it/s]"
      ],
      "application/vnd.jupyter.widget-view+json": {
       "version_major": 2,
       "version_minor": 0,
       "model_id": "862beb07edd84e9fba0a2a8fc1ee1dda"
      }
     },
     "metadata": {},
     "output_type": "display_data"
    },
    {
     "data": {
      "text/plain": [
       "Batches:   0%|          | 0/1 [00:00<?, ?it/s]"
      ],
      "application/vnd.jupyter.widget-view+json": {
       "version_major": 2,
       "version_minor": 0,
       "model_id": "29c52d317859417b8479617a15ed8828"
      }
     },
     "metadata": {},
     "output_type": "display_data"
    },
    {
     "data": {
      "text/plain": [
       "Batches:   0%|          | 0/1 [00:00<?, ?it/s]"
      ],
      "application/vnd.jupyter.widget-view+json": {
       "version_major": 2,
       "version_minor": 0,
       "model_id": "95821284e0d94504a3ca04a4cc028742"
      }
     },
     "metadata": {},
     "output_type": "display_data"
    },
    {
     "data": {
      "text/plain": [
       "Batches:   0%|          | 0/1 [00:00<?, ?it/s]"
      ],
      "application/vnd.jupyter.widget-view+json": {
       "version_major": 2,
       "version_minor": 0,
       "model_id": "a84f45219f954fa1bc795a6ce17b0183"
      }
     },
     "metadata": {},
     "output_type": "display_data"
    },
    {
     "data": {
      "text/plain": [
       "Batches:   0%|          | 0/1 [00:00<?, ?it/s]"
      ],
      "application/vnd.jupyter.widget-view+json": {
       "version_major": 2,
       "version_minor": 0,
       "model_id": "85e362f876b147d384a48f8a78f5ae60"
      }
     },
     "metadata": {},
     "output_type": "display_data"
    },
    {
     "data": {
      "text/plain": [
       "Batches:   0%|          | 0/1 [00:00<?, ?it/s]"
      ],
      "application/vnd.jupyter.widget-view+json": {
       "version_major": 2,
       "version_minor": 0,
       "model_id": "8c93c426846245c699f4da0c97cfb395"
      }
     },
     "metadata": {},
     "output_type": "display_data"
    },
    {
     "data": {
      "text/plain": [
       "Batches:   0%|          | 0/1 [00:00<?, ?it/s]"
      ],
      "application/vnd.jupyter.widget-view+json": {
       "version_major": 2,
       "version_minor": 0,
       "model_id": "b0390cec2f114d52839be66e30b3c743"
      }
     },
     "metadata": {},
     "output_type": "display_data"
    },
    {
     "data": {
      "text/plain": [
       "Batches:   0%|          | 0/1 [00:00<?, ?it/s]"
      ],
      "application/vnd.jupyter.widget-view+json": {
       "version_major": 2,
       "version_minor": 0,
       "model_id": "14d0bc3ae9104b50a4ea2e3e74702e6d"
      }
     },
     "metadata": {},
     "output_type": "display_data"
    },
    {
     "data": {
      "text/plain": [
       "Batches:   0%|          | 0/1 [00:00<?, ?it/s]"
      ],
      "application/vnd.jupyter.widget-view+json": {
       "version_major": 2,
       "version_minor": 0,
       "model_id": "244916ca358341548a0b8204dced0cb7"
      }
     },
     "metadata": {},
     "output_type": "display_data"
    },
    {
     "data": {
      "text/plain": [
       "Batches:   0%|          | 0/1 [00:00<?, ?it/s]"
      ],
      "application/vnd.jupyter.widget-view+json": {
       "version_major": 2,
       "version_minor": 0,
       "model_id": "93adfe7152e9424ba21d410aef8b5e51"
      }
     },
     "metadata": {},
     "output_type": "display_data"
    },
    {
     "data": {
      "text/plain": [
       "Batches:   0%|          | 0/1 [00:00<?, ?it/s]"
      ],
      "application/vnd.jupyter.widget-view+json": {
       "version_major": 2,
       "version_minor": 0,
       "model_id": "ef58fb35a8354417a76149c21de26372"
      }
     },
     "metadata": {},
     "output_type": "display_data"
    },
    {
     "data": {
      "text/plain": [
       "Batches:   0%|          | 0/1 [00:00<?, ?it/s]"
      ],
      "application/vnd.jupyter.widget-view+json": {
       "version_major": 2,
       "version_minor": 0,
       "model_id": "4e97907fd74343b0a221c9117e9864c0"
      }
     },
     "metadata": {},
     "output_type": "display_data"
    },
    {
     "data": {
      "text/plain": [
       "Batches:   0%|          | 0/1 [00:00<?, ?it/s]"
      ],
      "application/vnd.jupyter.widget-view+json": {
       "version_major": 2,
       "version_minor": 0,
       "model_id": "35ec0db0558a455587ff8f0adf01c199"
      }
     },
     "metadata": {},
     "output_type": "display_data"
    },
    {
     "data": {
      "text/plain": [
       "Batches:   0%|          | 0/1 [00:00<?, ?it/s]"
      ],
      "application/vnd.jupyter.widget-view+json": {
       "version_major": 2,
       "version_minor": 0,
       "model_id": "b5ff108f04ff4387ae3eb8d8fcea4b84"
      }
     },
     "metadata": {},
     "output_type": "display_data"
    },
    {
     "data": {
      "text/plain": [
       "Batches:   0%|          | 0/1 [00:00<?, ?it/s]"
      ],
      "application/vnd.jupyter.widget-view+json": {
       "version_major": 2,
       "version_minor": 0,
       "model_id": "99b7d61f0c17455bbb73602fc8bcc482"
      }
     },
     "metadata": {},
     "output_type": "display_data"
    },
    {
     "data": {
      "text/plain": [
       "Batches:   0%|          | 0/1 [00:00<?, ?it/s]"
      ],
      "application/vnd.jupyter.widget-view+json": {
       "version_major": 2,
       "version_minor": 0,
       "model_id": "7948244a78af44c1850731e07c2b43ae"
      }
     },
     "metadata": {},
     "output_type": "display_data"
    },
    {
     "data": {
      "text/plain": [
       "Batches:   0%|          | 0/1 [00:00<?, ?it/s]"
      ],
      "application/vnd.jupyter.widget-view+json": {
       "version_major": 2,
       "version_minor": 0,
       "model_id": "c94306ba310644d19776462102253187"
      }
     },
     "metadata": {},
     "output_type": "display_data"
    },
    {
     "data": {
      "text/plain": [
       "Batches:   0%|          | 0/1 [00:00<?, ?it/s]"
      ],
      "application/vnd.jupyter.widget-view+json": {
       "version_major": 2,
       "version_minor": 0,
       "model_id": "c6d3f2fac5a346e88ae41241fef81ebd"
      }
     },
     "metadata": {},
     "output_type": "display_data"
    },
    {
     "data": {
      "text/plain": [
       "Batches:   0%|          | 0/1 [00:00<?, ?it/s]"
      ],
      "application/vnd.jupyter.widget-view+json": {
       "version_major": 2,
       "version_minor": 0,
       "model_id": "88bfa9fa0f3c4af8a1c71ffb12b874ee"
      }
     },
     "metadata": {},
     "output_type": "display_data"
    },
    {
     "data": {
      "text/plain": [
       "Batches:   0%|          | 0/1 [00:00<?, ?it/s]"
      ],
      "application/vnd.jupyter.widget-view+json": {
       "version_major": 2,
       "version_minor": 0,
       "model_id": "150e451214b14ddc9c7cfd455ebc5f11"
      }
     },
     "metadata": {},
     "output_type": "display_data"
    },
    {
     "data": {
      "text/plain": [
       "Batches:   0%|          | 0/1 [00:00<?, ?it/s]"
      ],
      "application/vnd.jupyter.widget-view+json": {
       "version_major": 2,
       "version_minor": 0,
       "model_id": "a8969b9531c34bbf9b4e4f4531335b14"
      }
     },
     "metadata": {},
     "output_type": "display_data"
    },
    {
     "data": {
      "text/plain": [
       "Batches:   0%|          | 0/1 [00:00<?, ?it/s]"
      ],
      "application/vnd.jupyter.widget-view+json": {
       "version_major": 2,
       "version_minor": 0,
       "model_id": "06490f7265f040e7a010be932eca4e9f"
      }
     },
     "metadata": {},
     "output_type": "display_data"
    },
    {
     "data": {
      "text/plain": [
       "Batches:   0%|          | 0/1 [00:00<?, ?it/s]"
      ],
      "application/vnd.jupyter.widget-view+json": {
       "version_major": 2,
       "version_minor": 0,
       "model_id": "dddbe06e775f4efa9984650a3b82b2be"
      }
     },
     "metadata": {},
     "output_type": "display_data"
    },
    {
     "data": {
      "text/plain": [
       "Batches:   0%|          | 0/1 [00:00<?, ?it/s]"
      ],
      "application/vnd.jupyter.widget-view+json": {
       "version_major": 2,
       "version_minor": 0,
       "model_id": "163ab112c849401d8e672f6160616877"
      }
     },
     "metadata": {},
     "output_type": "display_data"
    },
    {
     "data": {
      "text/plain": [
       "Batches:   0%|          | 0/1 [00:00<?, ?it/s]"
      ],
      "application/vnd.jupyter.widget-view+json": {
       "version_major": 2,
       "version_minor": 0,
       "model_id": "f184ed5339b244a0a7992bd4c80aab1d"
      }
     },
     "metadata": {},
     "output_type": "display_data"
    },
    {
     "data": {
      "text/plain": [
       "Batches:   0%|          | 0/1 [00:00<?, ?it/s]"
      ],
      "application/vnd.jupyter.widget-view+json": {
       "version_major": 2,
       "version_minor": 0,
       "model_id": "91ab154bca774184bacd3417d1ddf335"
      }
     },
     "metadata": {},
     "output_type": "display_data"
    },
    {
     "data": {
      "text/plain": [
       "Batches:   0%|          | 0/1 [00:00<?, ?it/s]"
      ],
      "application/vnd.jupyter.widget-view+json": {
       "version_major": 2,
       "version_minor": 0,
       "model_id": "2066daaa9984441eb74084412ce07118"
      }
     },
     "metadata": {},
     "output_type": "display_data"
    },
    {
     "data": {
      "text/plain": [
       "Batches:   0%|          | 0/1 [00:00<?, ?it/s]"
      ],
      "application/vnd.jupyter.widget-view+json": {
       "version_major": 2,
       "version_minor": 0,
       "model_id": "f1a656bde045480baa97024f7542e276"
      }
     },
     "metadata": {},
     "output_type": "display_data"
    },
    {
     "data": {
      "text/plain": [
       "Batches:   0%|          | 0/1 [00:00<?, ?it/s]"
      ],
      "application/vnd.jupyter.widget-view+json": {
       "version_major": 2,
       "version_minor": 0,
       "model_id": "b01381d6dca84d05b8b3ef0e52f1c6c4"
      }
     },
     "metadata": {},
     "output_type": "display_data"
    },
    {
     "data": {
      "text/plain": [
       "Batches:   0%|          | 0/1 [00:00<?, ?it/s]"
      ],
      "application/vnd.jupyter.widget-view+json": {
       "version_major": 2,
       "version_minor": 0,
       "model_id": "08de0786d53344babfc36457b698e484"
      }
     },
     "metadata": {},
     "output_type": "display_data"
    },
    {
     "data": {
      "text/plain": [
       "Batches:   0%|          | 0/1 [00:00<?, ?it/s]"
      ],
      "application/vnd.jupyter.widget-view+json": {
       "version_major": 2,
       "version_minor": 0,
       "model_id": "d120049a03c74d7c9a153169b191adf6"
      }
     },
     "metadata": {},
     "output_type": "display_data"
    },
    {
     "data": {
      "text/plain": [
       "Batches:   0%|          | 0/1 [00:00<?, ?it/s]"
      ],
      "application/vnd.jupyter.widget-view+json": {
       "version_major": 2,
       "version_minor": 0,
       "model_id": "f25766d670264b2aabca25b065ba2e48"
      }
     },
     "metadata": {},
     "output_type": "display_data"
    },
    {
     "data": {
      "text/plain": [
       "Batches:   0%|          | 0/1 [00:00<?, ?it/s]"
      ],
      "application/vnd.jupyter.widget-view+json": {
       "version_major": 2,
       "version_minor": 0,
       "model_id": "02108672326c4ea0a62c6483694de4b2"
      }
     },
     "metadata": {},
     "output_type": "display_data"
    },
    {
     "data": {
      "text/plain": [
       "Batches:   0%|          | 0/1 [00:00<?, ?it/s]"
      ],
      "application/vnd.jupyter.widget-view+json": {
       "version_major": 2,
       "version_minor": 0,
       "model_id": "421d6fd0b61b460690d90722e68ff070"
      }
     },
     "metadata": {},
     "output_type": "display_data"
    },
    {
     "data": {
      "text/plain": [
       "Batches:   0%|          | 0/1 [00:00<?, ?it/s]"
      ],
      "application/vnd.jupyter.widget-view+json": {
       "version_major": 2,
       "version_minor": 0,
       "model_id": "f56e1534a5d649d0a5ba01013bd4a392"
      }
     },
     "metadata": {},
     "output_type": "display_data"
    },
    {
     "data": {
      "text/plain": [
       "Batches:   0%|          | 0/1 [00:00<?, ?it/s]"
      ],
      "application/vnd.jupyter.widget-view+json": {
       "version_major": 2,
       "version_minor": 0,
       "model_id": "27348a42aefe48a2bee9ceca6768562b"
      }
     },
     "metadata": {},
     "output_type": "display_data"
    },
    {
     "data": {
      "text/plain": [
       "Batches:   0%|          | 0/1 [00:00<?, ?it/s]"
      ],
      "application/vnd.jupyter.widget-view+json": {
       "version_major": 2,
       "version_minor": 0,
       "model_id": "ba41d3f8cd0a48aeaf80e88faee778d5"
      }
     },
     "metadata": {},
     "output_type": "display_data"
    },
    {
     "data": {
      "text/plain": [
       "Batches:   0%|          | 0/1 [00:00<?, ?it/s]"
      ],
      "application/vnd.jupyter.widget-view+json": {
       "version_major": 2,
       "version_minor": 0,
       "model_id": "b5f691f66361487db713839664e50f69"
      }
     },
     "metadata": {},
     "output_type": "display_data"
    },
    {
     "data": {
      "text/plain": [
       "Batches:   0%|          | 0/1 [00:00<?, ?it/s]"
      ],
      "application/vnd.jupyter.widget-view+json": {
       "version_major": 2,
       "version_minor": 0,
       "model_id": "b0565cd75921409b84422e4fbe7f9dbb"
      }
     },
     "metadata": {},
     "output_type": "display_data"
    },
    {
     "data": {
      "text/plain": [
       "Batches:   0%|          | 0/1 [00:00<?, ?it/s]"
      ],
      "application/vnd.jupyter.widget-view+json": {
       "version_major": 2,
       "version_minor": 0,
       "model_id": "2d18304dbb054c9a9be426634a5ba893"
      }
     },
     "metadata": {},
     "output_type": "display_data"
    },
    {
     "data": {
      "text/plain": [
       "Batches:   0%|          | 0/1 [00:00<?, ?it/s]"
      ],
      "application/vnd.jupyter.widget-view+json": {
       "version_major": 2,
       "version_minor": 0,
       "model_id": "402dd734b63045a9832a11805c7b01a2"
      }
     },
     "metadata": {},
     "output_type": "display_data"
    },
    {
     "data": {
      "text/plain": [
       "Batches:   0%|          | 0/1 [00:00<?, ?it/s]"
      ],
      "application/vnd.jupyter.widget-view+json": {
       "version_major": 2,
       "version_minor": 0,
       "model_id": "cd043dadb8d04950b6bd8d501d4a7397"
      }
     },
     "metadata": {},
     "output_type": "display_data"
    },
    {
     "data": {
      "text/plain": [
       "Batches:   0%|          | 0/1 [00:00<?, ?it/s]"
      ],
      "application/vnd.jupyter.widget-view+json": {
       "version_major": 2,
       "version_minor": 0,
       "model_id": "07f3acebbc7048719fea2005fc1fc40d"
      }
     },
     "metadata": {},
     "output_type": "display_data"
    },
    {
     "data": {
      "text/plain": [
       "Batches:   0%|          | 0/1 [00:00<?, ?it/s]"
      ],
      "application/vnd.jupyter.widget-view+json": {
       "version_major": 2,
       "version_minor": 0,
       "model_id": "a9cd4e0ebb9640aaadd640437da956f5"
      }
     },
     "metadata": {},
     "output_type": "display_data"
    },
    {
     "data": {
      "text/plain": [
       "Batches:   0%|          | 0/1 [00:00<?, ?it/s]"
      ],
      "application/vnd.jupyter.widget-view+json": {
       "version_major": 2,
       "version_minor": 0,
       "model_id": "9d346cf1215647c28b43971f73e150e7"
      }
     },
     "metadata": {},
     "output_type": "display_data"
    },
    {
     "data": {
      "text/plain": [
       "Batches:   0%|          | 0/1 [00:00<?, ?it/s]"
      ],
      "application/vnd.jupyter.widget-view+json": {
       "version_major": 2,
       "version_minor": 0,
       "model_id": "7d88147e2fff4debb19410d4006ab0de"
      }
     },
     "metadata": {},
     "output_type": "display_data"
    },
    {
     "data": {
      "text/plain": [
       "Batches:   0%|          | 0/1 [00:00<?, ?it/s]"
      ],
      "application/vnd.jupyter.widget-view+json": {
       "version_major": 2,
       "version_minor": 0,
       "model_id": "3b962fac3c0e42acb14cc0ea6f0b7d85"
      }
     },
     "metadata": {},
     "output_type": "display_data"
    },
    {
     "data": {
      "text/plain": [
       "Batches:   0%|          | 0/1 [00:00<?, ?it/s]"
      ],
      "application/vnd.jupyter.widget-view+json": {
       "version_major": 2,
       "version_minor": 0,
       "model_id": "e91f83e16f144ee48b9b611d013be4e2"
      }
     },
     "metadata": {},
     "output_type": "display_data"
    },
    {
     "data": {
      "text/plain": [
       "Batches:   0%|          | 0/1 [00:00<?, ?it/s]"
      ],
      "application/vnd.jupyter.widget-view+json": {
       "version_major": 2,
       "version_minor": 0,
       "model_id": "56561677f5024301af475b9ffe81973a"
      }
     },
     "metadata": {},
     "output_type": "display_data"
    },
    {
     "data": {
      "text/plain": [
       "Batches:   0%|          | 0/1 [00:00<?, ?it/s]"
      ],
      "application/vnd.jupyter.widget-view+json": {
       "version_major": 2,
       "version_minor": 0,
       "model_id": "f9dacee3a8c7413e96734454504c9c5b"
      }
     },
     "metadata": {},
     "output_type": "display_data"
    },
    {
     "data": {
      "text/plain": [
       "Batches:   0%|          | 0/1 [00:00<?, ?it/s]"
      ],
      "application/vnd.jupyter.widget-view+json": {
       "version_major": 2,
       "version_minor": 0,
       "model_id": "23eaae99b1d24e869d92fddb5917eb35"
      }
     },
     "metadata": {},
     "output_type": "display_data"
    },
    {
     "data": {
      "text/plain": [
       "Batches:   0%|          | 0/1 [00:00<?, ?it/s]"
      ],
      "application/vnd.jupyter.widget-view+json": {
       "version_major": 2,
       "version_minor": 0,
       "model_id": "e9e2a14c572f404c9c68ed3a0afef921"
      }
     },
     "metadata": {},
     "output_type": "display_data"
    },
    {
     "data": {
      "text/plain": [
       "Batches:   0%|          | 0/1 [00:00<?, ?it/s]"
      ],
      "application/vnd.jupyter.widget-view+json": {
       "version_major": 2,
       "version_minor": 0,
       "model_id": "60aa5453dc4145e1baccac937023da91"
      }
     },
     "metadata": {},
     "output_type": "display_data"
    },
    {
     "data": {
      "text/plain": [
       "Batches:   0%|          | 0/1 [00:00<?, ?it/s]"
      ],
      "application/vnd.jupyter.widget-view+json": {
       "version_major": 2,
       "version_minor": 0,
       "model_id": "a1080a38a61d4eb1a2f7ede84b3ecf6e"
      }
     },
     "metadata": {},
     "output_type": "display_data"
    },
    {
     "data": {
      "text/plain": [
       "Batches:   0%|          | 0/1 [00:00<?, ?it/s]"
      ],
      "application/vnd.jupyter.widget-view+json": {
       "version_major": 2,
       "version_minor": 0,
       "model_id": "2999337d3a2b4f7488e9fd13b7dc842b"
      }
     },
     "metadata": {},
     "output_type": "display_data"
    },
    {
     "data": {
      "text/plain": [
       "Batches:   0%|          | 0/1 [00:00<?, ?it/s]"
      ],
      "application/vnd.jupyter.widget-view+json": {
       "version_major": 2,
       "version_minor": 0,
       "model_id": "d32931667adc4464a9fdc4566491a25f"
      }
     },
     "metadata": {},
     "output_type": "display_data"
    },
    {
     "data": {
      "text/plain": [
       "Batches:   0%|          | 0/1 [00:00<?, ?it/s]"
      ],
      "application/vnd.jupyter.widget-view+json": {
       "version_major": 2,
       "version_minor": 0,
       "model_id": "8bbe2bc8d28e411396205b7d386218b2"
      }
     },
     "metadata": {},
     "output_type": "display_data"
    },
    {
     "data": {
      "text/plain": [
       "Batches:   0%|          | 0/1 [00:00<?, ?it/s]"
      ],
      "application/vnd.jupyter.widget-view+json": {
       "version_major": 2,
       "version_minor": 0,
       "model_id": "a628f14d26024fb7ac3a05a182bac121"
      }
     },
     "metadata": {},
     "output_type": "display_data"
    },
    {
     "data": {
      "text/plain": [
       "Batches:   0%|          | 0/1 [00:00<?, ?it/s]"
      ],
      "application/vnd.jupyter.widget-view+json": {
       "version_major": 2,
       "version_minor": 0,
       "model_id": "6315828dd2444b5584050eda107b750a"
      }
     },
     "metadata": {},
     "output_type": "display_data"
    },
    {
     "data": {
      "text/plain": [
       "Batches:   0%|          | 0/1 [00:00<?, ?it/s]"
      ],
      "application/vnd.jupyter.widget-view+json": {
       "version_major": 2,
       "version_minor": 0,
       "model_id": "98ef7d0a06b84113b8cef5d68cc5b8a6"
      }
     },
     "metadata": {},
     "output_type": "display_data"
    },
    {
     "data": {
      "text/plain": [
       "Batches:   0%|          | 0/1 [00:00<?, ?it/s]"
      ],
      "application/vnd.jupyter.widget-view+json": {
       "version_major": 2,
       "version_minor": 0,
       "model_id": "f31e8b2d26d94dc0974c0ca1f4a3db7c"
      }
     },
     "metadata": {},
     "output_type": "display_data"
    },
    {
     "data": {
      "text/plain": [
       "Batches:   0%|          | 0/1 [00:00<?, ?it/s]"
      ],
      "application/vnd.jupyter.widget-view+json": {
       "version_major": 2,
       "version_minor": 0,
       "model_id": "3fb7d09d288142dbacd00caa5901504c"
      }
     },
     "metadata": {},
     "output_type": "display_data"
    },
    {
     "data": {
      "text/plain": [
       "Batches:   0%|          | 0/1 [00:00<?, ?it/s]"
      ],
      "application/vnd.jupyter.widget-view+json": {
       "version_major": 2,
       "version_minor": 0,
       "model_id": "95c57cf7740f4db78baf855141ff0e58"
      }
     },
     "metadata": {},
     "output_type": "display_data"
    },
    {
     "data": {
      "text/plain": [
       "Batches:   0%|          | 0/1 [00:00<?, ?it/s]"
      ],
      "application/vnd.jupyter.widget-view+json": {
       "version_major": 2,
       "version_minor": 0,
       "model_id": "52392db5ad19477fa0da50d459ee370a"
      }
     },
     "metadata": {},
     "output_type": "display_data"
    },
    {
     "data": {
      "text/plain": [
       "Batches:   0%|          | 0/1 [00:00<?, ?it/s]"
      ],
      "application/vnd.jupyter.widget-view+json": {
       "version_major": 2,
       "version_minor": 0,
       "model_id": "48bbf5c333d54d1b9522dadbe58dce91"
      }
     },
     "metadata": {},
     "output_type": "display_data"
    },
    {
     "data": {
      "text/plain": [
       "Batches:   0%|          | 0/1 [00:00<?, ?it/s]"
      ],
      "application/vnd.jupyter.widget-view+json": {
       "version_major": 2,
       "version_minor": 0,
       "model_id": "bc40d028cd2742d689789e86fdb775be"
      }
     },
     "metadata": {},
     "output_type": "display_data"
    },
    {
     "data": {
      "text/plain": [
       "Batches:   0%|          | 0/1 [00:00<?, ?it/s]"
      ],
      "application/vnd.jupyter.widget-view+json": {
       "version_major": 2,
       "version_minor": 0,
       "model_id": "48689cfb5b894867be9dc988ca2eb222"
      }
     },
     "metadata": {},
     "output_type": "display_data"
    },
    {
     "data": {
      "text/plain": [
       "Batches:   0%|          | 0/1 [00:00<?, ?it/s]"
      ],
      "application/vnd.jupyter.widget-view+json": {
       "version_major": 2,
       "version_minor": 0,
       "model_id": "c71e0b0bfd8b4cd991aa37bda18cafff"
      }
     },
     "metadata": {},
     "output_type": "display_data"
    },
    {
     "data": {
      "text/plain": [
       "Batches:   0%|          | 0/1 [00:00<?, ?it/s]"
      ],
      "application/vnd.jupyter.widget-view+json": {
       "version_major": 2,
       "version_minor": 0,
       "model_id": "28fdcc19ee68430a8f43936cb6d8ee45"
      }
     },
     "metadata": {},
     "output_type": "display_data"
    },
    {
     "data": {
      "text/plain": [
       "Batches:   0%|          | 0/1 [00:00<?, ?it/s]"
      ],
      "application/vnd.jupyter.widget-view+json": {
       "version_major": 2,
       "version_minor": 0,
       "model_id": "ce2b2aa486434e69b069af11ecae264c"
      }
     },
     "metadata": {},
     "output_type": "display_data"
    },
    {
     "data": {
      "text/plain": [
       "Batches:   0%|          | 0/1 [00:00<?, ?it/s]"
      ],
      "application/vnd.jupyter.widget-view+json": {
       "version_major": 2,
       "version_minor": 0,
       "model_id": "d7df5972c0de4e91991e9226e050dcdb"
      }
     },
     "metadata": {},
     "output_type": "display_data"
    },
    {
     "data": {
      "text/plain": [
       "Batches:   0%|          | 0/1 [00:00<?, ?it/s]"
      ],
      "application/vnd.jupyter.widget-view+json": {
       "version_major": 2,
       "version_minor": 0,
       "model_id": "0cad56adfd1c48f1a275a9317c7310c8"
      }
     },
     "metadata": {},
     "output_type": "display_data"
    },
    {
     "data": {
      "text/plain": [
       "Batches:   0%|          | 0/1 [00:00<?, ?it/s]"
      ],
      "application/vnd.jupyter.widget-view+json": {
       "version_major": 2,
       "version_minor": 0,
       "model_id": "265f2a21391649f6a3201f3c9a1b009d"
      }
     },
     "metadata": {},
     "output_type": "display_data"
    },
    {
     "data": {
      "text/plain": [
       "Batches:   0%|          | 0/1 [00:00<?, ?it/s]"
      ],
      "application/vnd.jupyter.widget-view+json": {
       "version_major": 2,
       "version_minor": 0,
       "model_id": "938822f942774beb81b986234013eb2c"
      }
     },
     "metadata": {},
     "output_type": "display_data"
    },
    {
     "data": {
      "text/plain": [
       "Batches:   0%|          | 0/1 [00:00<?, ?it/s]"
      ],
      "application/vnd.jupyter.widget-view+json": {
       "version_major": 2,
       "version_minor": 0,
       "model_id": "285ba5282df2470da190a1612d91c8d5"
      }
     },
     "metadata": {},
     "output_type": "display_data"
    },
    {
     "data": {
      "text/plain": [
       "Batches:   0%|          | 0/1 [00:00<?, ?it/s]"
      ],
      "application/vnd.jupyter.widget-view+json": {
       "version_major": 2,
       "version_minor": 0,
       "model_id": "0e6e475fc89e48dbbc30c6bcd4a5178d"
      }
     },
     "metadata": {},
     "output_type": "display_data"
    },
    {
     "data": {
      "text/plain": [
       "Batches:   0%|          | 0/1 [00:00<?, ?it/s]"
      ],
      "application/vnd.jupyter.widget-view+json": {
       "version_major": 2,
       "version_minor": 0,
       "model_id": "9ba3b5ca2a854f1aa58f990e0cbbee93"
      }
     },
     "metadata": {},
     "output_type": "display_data"
    },
    {
     "data": {
      "text/plain": [
       "Batches:   0%|          | 0/1 [00:00<?, ?it/s]"
      ],
      "application/vnd.jupyter.widget-view+json": {
       "version_major": 2,
       "version_minor": 0,
       "model_id": "befb881c573146e79c67a1f302d94a6c"
      }
     },
     "metadata": {},
     "output_type": "display_data"
    },
    {
     "data": {
      "text/plain": [
       "Batches:   0%|          | 0/1 [00:00<?, ?it/s]"
      ],
      "application/vnd.jupyter.widget-view+json": {
       "version_major": 2,
       "version_minor": 0,
       "model_id": "bc68330d912346a9807be667073c62a6"
      }
     },
     "metadata": {},
     "output_type": "display_data"
    },
    {
     "data": {
      "text/plain": [
       "Batches:   0%|          | 0/1 [00:00<?, ?it/s]"
      ],
      "application/vnd.jupyter.widget-view+json": {
       "version_major": 2,
       "version_minor": 0,
       "model_id": "b5d7851814dd43a2a2625819ac1c5a8c"
      }
     },
     "metadata": {},
     "output_type": "display_data"
    },
    {
     "data": {
      "text/plain": [
       "Batches:   0%|          | 0/1 [00:00<?, ?it/s]"
      ],
      "application/vnd.jupyter.widget-view+json": {
       "version_major": 2,
       "version_minor": 0,
       "model_id": "a61ed0b499b44b3a858a233e5fdf5f14"
      }
     },
     "metadata": {},
     "output_type": "display_data"
    },
    {
     "data": {
      "text/plain": [
       "Batches:   0%|          | 0/1 [00:00<?, ?it/s]"
      ],
      "application/vnd.jupyter.widget-view+json": {
       "version_major": 2,
       "version_minor": 0,
       "model_id": "b3b1a4c62ede40abbf167d75eb41997e"
      }
     },
     "metadata": {},
     "output_type": "display_data"
    },
    {
     "data": {
      "text/plain": [
       "Batches:   0%|          | 0/1 [00:00<?, ?it/s]"
      ],
      "application/vnd.jupyter.widget-view+json": {
       "version_major": 2,
       "version_minor": 0,
       "model_id": "2f04d30198014901bcefb73b809ba3cd"
      }
     },
     "metadata": {},
     "output_type": "display_data"
    },
    {
     "data": {
      "text/plain": [
       "Batches:   0%|          | 0/1 [00:00<?, ?it/s]"
      ],
      "application/vnd.jupyter.widget-view+json": {
       "version_major": 2,
       "version_minor": 0,
       "model_id": "15a992f49ac84dd694616c26a0037710"
      }
     },
     "metadata": {},
     "output_type": "display_data"
    },
    {
     "data": {
      "text/plain": [
       "Batches:   0%|          | 0/1 [00:00<?, ?it/s]"
      ],
      "application/vnd.jupyter.widget-view+json": {
       "version_major": 2,
       "version_minor": 0,
       "model_id": "16ab534b7e3b4fcbb86090e542ef0a1e"
      }
     },
     "metadata": {},
     "output_type": "display_data"
    },
    {
     "data": {
      "text/plain": [
       "Batches:   0%|          | 0/1 [00:00<?, ?it/s]"
      ],
      "application/vnd.jupyter.widget-view+json": {
       "version_major": 2,
       "version_minor": 0,
       "model_id": "6d5dad80a08a4abf89eb99e7535ddb27"
      }
     },
     "metadata": {},
     "output_type": "display_data"
    },
    {
     "data": {
      "text/plain": [
       "Batches:   0%|          | 0/1 [00:00<?, ?it/s]"
      ],
      "application/vnd.jupyter.widget-view+json": {
       "version_major": 2,
       "version_minor": 0,
       "model_id": "aff35598f0fa45ec94c5a6dd01d9f979"
      }
     },
     "metadata": {},
     "output_type": "display_data"
    },
    {
     "data": {
      "text/plain": [
       "Batches:   0%|          | 0/1 [00:00<?, ?it/s]"
      ],
      "application/vnd.jupyter.widget-view+json": {
       "version_major": 2,
       "version_minor": 0,
       "model_id": "b23d2a41ee154b1198a3aed5da3ad96d"
      }
     },
     "metadata": {},
     "output_type": "display_data"
    },
    {
     "data": {
      "text/plain": [
       "Batches:   0%|          | 0/1 [00:00<?, ?it/s]"
      ],
      "application/vnd.jupyter.widget-view+json": {
       "version_major": 2,
       "version_minor": 0,
       "model_id": "ad79c9332341468e8818843bd5082a94"
      }
     },
     "metadata": {},
     "output_type": "display_data"
    },
    {
     "data": {
      "text/plain": [
       "Batches:   0%|          | 0/1 [00:00<?, ?it/s]"
      ],
      "application/vnd.jupyter.widget-view+json": {
       "version_major": 2,
       "version_minor": 0,
       "model_id": "70c4153c0bcf45ec8a071a74518e5f29"
      }
     },
     "metadata": {},
     "output_type": "display_data"
    },
    {
     "data": {
      "text/plain": [
       "Batches:   0%|          | 0/1 [00:00<?, ?it/s]"
      ],
      "application/vnd.jupyter.widget-view+json": {
       "version_major": 2,
       "version_minor": 0,
       "model_id": "d8f9b5191bc64991be46c1a30544b405"
      }
     },
     "metadata": {},
     "output_type": "display_data"
    },
    {
     "data": {
      "text/plain": [
       "Batches:   0%|          | 0/1 [00:00<?, ?it/s]"
      ],
      "application/vnd.jupyter.widget-view+json": {
       "version_major": 2,
       "version_minor": 0,
       "model_id": "364259dfb30d49bdb724db0cafe7ee5b"
      }
     },
     "metadata": {},
     "output_type": "display_data"
    },
    {
     "data": {
      "text/plain": [
       "Batches:   0%|          | 0/1 [00:00<?, ?it/s]"
      ],
      "application/vnd.jupyter.widget-view+json": {
       "version_major": 2,
       "version_minor": 0,
       "model_id": "c7c2f986f31b4f559c9bf1faffa5b817"
      }
     },
     "metadata": {},
     "output_type": "display_data"
    },
    {
     "data": {
      "text/plain": [
       "Batches:   0%|          | 0/1 [00:00<?, ?it/s]"
      ],
      "application/vnd.jupyter.widget-view+json": {
       "version_major": 2,
       "version_minor": 0,
       "model_id": "d8386e1f718d42feb79570b5aeea1f90"
      }
     },
     "metadata": {},
     "output_type": "display_data"
    },
    {
     "data": {
      "text/plain": [
       "Batches:   0%|          | 0/1 [00:00<?, ?it/s]"
      ],
      "application/vnd.jupyter.widget-view+json": {
       "version_major": 2,
       "version_minor": 0,
       "model_id": "52718757f664406491dc03db93fd4f5c"
      }
     },
     "metadata": {},
     "output_type": "display_data"
    },
    {
     "data": {
      "text/plain": [
       "Batches:   0%|          | 0/1 [00:00<?, ?it/s]"
      ],
      "application/vnd.jupyter.widget-view+json": {
       "version_major": 2,
       "version_minor": 0,
       "model_id": "863a1c7bb83a4d97bea18968eabdb192"
      }
     },
     "metadata": {},
     "output_type": "display_data"
    },
    {
     "data": {
      "text/plain": [
       "Batches:   0%|          | 0/1 [00:00<?, ?it/s]"
      ],
      "application/vnd.jupyter.widget-view+json": {
       "version_major": 2,
       "version_minor": 0,
       "model_id": "ce95d36a46494d83ae3ff34b6f2964e2"
      }
     },
     "metadata": {},
     "output_type": "display_data"
    },
    {
     "data": {
      "text/plain": [
       "Batches:   0%|          | 0/1 [00:00<?, ?it/s]"
      ],
      "application/vnd.jupyter.widget-view+json": {
       "version_major": 2,
       "version_minor": 0,
       "model_id": "5ea1845f5f0848a19ffd95a1a520bfb1"
      }
     },
     "metadata": {},
     "output_type": "display_data"
    },
    {
     "data": {
      "text/plain": [
       "Batches:   0%|          | 0/1 [00:00<?, ?it/s]"
      ],
      "application/vnd.jupyter.widget-view+json": {
       "version_major": 2,
       "version_minor": 0,
       "model_id": "d6e776bc6d5847dcb547494cbfab619c"
      }
     },
     "metadata": {},
     "output_type": "display_data"
    },
    {
     "data": {
      "text/plain": [
       "Batches:   0%|          | 0/1 [00:00<?, ?it/s]"
      ],
      "application/vnd.jupyter.widget-view+json": {
       "version_major": 2,
       "version_minor": 0,
       "model_id": "d36e1e286f7b4b59b42ec8a4a8b66083"
      }
     },
     "metadata": {},
     "output_type": "display_data"
    },
    {
     "data": {
      "text/plain": [
       "Batches:   0%|          | 0/1 [00:00<?, ?it/s]"
      ],
      "application/vnd.jupyter.widget-view+json": {
       "version_major": 2,
       "version_minor": 0,
       "model_id": "8ec9885e400f4b258bbefcae08787178"
      }
     },
     "metadata": {},
     "output_type": "display_data"
    },
    {
     "data": {
      "text/plain": [
       "Batches:   0%|          | 0/1 [00:00<?, ?it/s]"
      ],
      "application/vnd.jupyter.widget-view+json": {
       "version_major": 2,
       "version_minor": 0,
       "model_id": "e226f5f489664b738fc090cd535bd6cc"
      }
     },
     "metadata": {},
     "output_type": "display_data"
    },
    {
     "data": {
      "text/plain": [
       "Batches:   0%|          | 0/1 [00:00<?, ?it/s]"
      ],
      "application/vnd.jupyter.widget-view+json": {
       "version_major": 2,
       "version_minor": 0,
       "model_id": "87a1f91f961442909c18ce660faf376b"
      }
     },
     "metadata": {},
     "output_type": "display_data"
    },
    {
     "data": {
      "text/plain": [
       "Batches:   0%|          | 0/1 [00:00<?, ?it/s]"
      ],
      "application/vnd.jupyter.widget-view+json": {
       "version_major": 2,
       "version_minor": 0,
       "model_id": "9ccbb95c81254a58ac8c9f2bb15ee35b"
      }
     },
     "metadata": {},
     "output_type": "display_data"
    },
    {
     "data": {
      "text/plain": [
       "Batches:   0%|          | 0/1 [00:00<?, ?it/s]"
      ],
      "application/vnd.jupyter.widget-view+json": {
       "version_major": 2,
       "version_minor": 0,
       "model_id": "6d5e4476fd55477fa603c76c6ad7311c"
      }
     },
     "metadata": {},
     "output_type": "display_data"
    },
    {
     "data": {
      "text/plain": [
       "Batches:   0%|          | 0/1 [00:00<?, ?it/s]"
      ],
      "application/vnd.jupyter.widget-view+json": {
       "version_major": 2,
       "version_minor": 0,
       "model_id": "89123ab8bdb44195bcee6ece152ca076"
      }
     },
     "metadata": {},
     "output_type": "display_data"
    },
    {
     "data": {
      "text/plain": [
       "Batches:   0%|          | 0/1 [00:00<?, ?it/s]"
      ],
      "application/vnd.jupyter.widget-view+json": {
       "version_major": 2,
       "version_minor": 0,
       "model_id": "30c48637fdd148e0834a32ebcc9aa47f"
      }
     },
     "metadata": {},
     "output_type": "display_data"
    },
    {
     "data": {
      "text/plain": [
       "Batches:   0%|          | 0/1 [00:00<?, ?it/s]"
      ],
      "application/vnd.jupyter.widget-view+json": {
       "version_major": 2,
       "version_minor": 0,
       "model_id": "85d0eeadc24049cd8831a87296736524"
      }
     },
     "metadata": {},
     "output_type": "display_data"
    },
    {
     "data": {
      "text/plain": [
       "Batches:   0%|          | 0/1 [00:00<?, ?it/s]"
      ],
      "application/vnd.jupyter.widget-view+json": {
       "version_major": 2,
       "version_minor": 0,
       "model_id": "d9b5651cf8964442b503a6faaaa782af"
      }
     },
     "metadata": {},
     "output_type": "display_data"
    },
    {
     "data": {
      "text/plain": [
       "Batches:   0%|          | 0/1 [00:00<?, ?it/s]"
      ],
      "application/vnd.jupyter.widget-view+json": {
       "version_major": 2,
       "version_minor": 0,
       "model_id": "3a0da79be14942878cab2e0020822eee"
      }
     },
     "metadata": {},
     "output_type": "display_data"
    },
    {
     "data": {
      "text/plain": [
       "Batches:   0%|          | 0/1 [00:00<?, ?it/s]"
      ],
      "application/vnd.jupyter.widget-view+json": {
       "version_major": 2,
       "version_minor": 0,
       "model_id": "a2ed399579e94aca9e220f2fefb8166e"
      }
     },
     "metadata": {},
     "output_type": "display_data"
    },
    {
     "data": {
      "text/plain": [
       "Batches:   0%|          | 0/1 [00:00<?, ?it/s]"
      ],
      "application/vnd.jupyter.widget-view+json": {
       "version_major": 2,
       "version_minor": 0,
       "model_id": "05ad15021414413a9c1222ade8ed3a6f"
      }
     },
     "metadata": {},
     "output_type": "display_data"
    },
    {
     "data": {
      "text/plain": [
       "Batches:   0%|          | 0/1 [00:00<?, ?it/s]"
      ],
      "application/vnd.jupyter.widget-view+json": {
       "version_major": 2,
       "version_minor": 0,
       "model_id": "67427d4cf4574bdb8b903a9b952f4458"
      }
     },
     "metadata": {},
     "output_type": "display_data"
    },
    {
     "data": {
      "text/plain": [
       "Batches:   0%|          | 0/1 [00:00<?, ?it/s]"
      ],
      "application/vnd.jupyter.widget-view+json": {
       "version_major": 2,
       "version_minor": 0,
       "model_id": "56aa7d3be84141418c1dfcd2d16cee21"
      }
     },
     "metadata": {},
     "output_type": "display_data"
    },
    {
     "data": {
      "text/plain": [
       "Batches:   0%|          | 0/1 [00:00<?, ?it/s]"
      ],
      "application/vnd.jupyter.widget-view+json": {
       "version_major": 2,
       "version_minor": 0,
       "model_id": "d035881a41c0419fb088809aafc24e48"
      }
     },
     "metadata": {},
     "output_type": "display_data"
    },
    {
     "data": {
      "text/plain": [
       "Batches:   0%|          | 0/1 [00:00<?, ?it/s]"
      ],
      "application/vnd.jupyter.widget-view+json": {
       "version_major": 2,
       "version_minor": 0,
       "model_id": "6ed317f4c9024581a04c6df0be070e08"
      }
     },
     "metadata": {},
     "output_type": "display_data"
    },
    {
     "data": {
      "text/plain": [
       "Batches:   0%|          | 0/1 [00:00<?, ?it/s]"
      ],
      "application/vnd.jupyter.widget-view+json": {
       "version_major": 2,
       "version_minor": 0,
       "model_id": "566a29e1b6fd4389bca530dbb7a0fc62"
      }
     },
     "metadata": {},
     "output_type": "display_data"
    },
    {
     "data": {
      "text/plain": [
       "Batches:   0%|          | 0/1 [00:00<?, ?it/s]"
      ],
      "application/vnd.jupyter.widget-view+json": {
       "version_major": 2,
       "version_minor": 0,
       "model_id": "5ecea5d573cb4ceb98883d7b05d4c869"
      }
     },
     "metadata": {},
     "output_type": "display_data"
    },
    {
     "data": {
      "text/plain": [
       "Batches:   0%|          | 0/1 [00:00<?, ?it/s]"
      ],
      "application/vnd.jupyter.widget-view+json": {
       "version_major": 2,
       "version_minor": 0,
       "model_id": "6c26ceb4386b4cb5be66695b5c30bd56"
      }
     },
     "metadata": {},
     "output_type": "display_data"
    },
    {
     "data": {
      "text/plain": [
       "Batches:   0%|          | 0/1 [00:00<?, ?it/s]"
      ],
      "application/vnd.jupyter.widget-view+json": {
       "version_major": 2,
       "version_minor": 0,
       "model_id": "9019371806764e43b07d4cd49227f07a"
      }
     },
     "metadata": {},
     "output_type": "display_data"
    },
    {
     "data": {
      "text/plain": [
       "Batches:   0%|          | 0/1 [00:00<?, ?it/s]"
      ],
      "application/vnd.jupyter.widget-view+json": {
       "version_major": 2,
       "version_minor": 0,
       "model_id": "3ad3892e8d874b89975334a283e111ac"
      }
     },
     "metadata": {},
     "output_type": "display_data"
    },
    {
     "data": {
      "text/plain": [
       "Batches:   0%|          | 0/1 [00:00<?, ?it/s]"
      ],
      "application/vnd.jupyter.widget-view+json": {
       "version_major": 2,
       "version_minor": 0,
       "model_id": "e3093403f93343298e873d692ec3af35"
      }
     },
     "metadata": {},
     "output_type": "display_data"
    },
    {
     "data": {
      "text/plain": [
       "Batches:   0%|          | 0/1 [00:00<?, ?it/s]"
      ],
      "application/vnd.jupyter.widget-view+json": {
       "version_major": 2,
       "version_minor": 0,
       "model_id": "e5e1d50d5545496893004dcd98498ce4"
      }
     },
     "metadata": {},
     "output_type": "display_data"
    },
    {
     "data": {
      "text/plain": [
       "Batches:   0%|          | 0/1 [00:00<?, ?it/s]"
      ],
      "application/vnd.jupyter.widget-view+json": {
       "version_major": 2,
       "version_minor": 0,
       "model_id": "5ea7b00764424270b9b80db36b939fe5"
      }
     },
     "metadata": {},
     "output_type": "display_data"
    },
    {
     "data": {
      "text/plain": [
       "Batches:   0%|          | 0/1 [00:00<?, ?it/s]"
      ],
      "application/vnd.jupyter.widget-view+json": {
       "version_major": 2,
       "version_minor": 0,
       "model_id": "fb3cae4510c84170947e1129c10d4af1"
      }
     },
     "metadata": {},
     "output_type": "display_data"
    },
    {
     "data": {
      "text/plain": [
       "Batches:   0%|          | 0/1 [00:00<?, ?it/s]"
      ],
      "application/vnd.jupyter.widget-view+json": {
       "version_major": 2,
       "version_minor": 0,
       "model_id": "50a4fa22227241ce87bd661ace110dae"
      }
     },
     "metadata": {},
     "output_type": "display_data"
    },
    {
     "data": {
      "text/plain": [
       "Batches:   0%|          | 0/1 [00:00<?, ?it/s]"
      ],
      "application/vnd.jupyter.widget-view+json": {
       "version_major": 2,
       "version_minor": 0,
       "model_id": "31c7a23a05c747e181b7c40762f60c37"
      }
     },
     "metadata": {},
     "output_type": "display_data"
    },
    {
     "data": {
      "text/plain": [
       "Batches:   0%|          | 0/1 [00:00<?, ?it/s]"
      ],
      "application/vnd.jupyter.widget-view+json": {
       "version_major": 2,
       "version_minor": 0,
       "model_id": "dc6c221f659f4a8792f9cb7239dca729"
      }
     },
     "metadata": {},
     "output_type": "display_data"
    },
    {
     "data": {
      "text/plain": [
       "Batches:   0%|          | 0/1 [00:00<?, ?it/s]"
      ],
      "application/vnd.jupyter.widget-view+json": {
       "version_major": 2,
       "version_minor": 0,
       "model_id": "79ded3ac14414f4892327a578549121e"
      }
     },
     "metadata": {},
     "output_type": "display_data"
    },
    {
     "data": {
      "text/plain": [
       "Batches:   0%|          | 0/1 [00:00<?, ?it/s]"
      ],
      "application/vnd.jupyter.widget-view+json": {
       "version_major": 2,
       "version_minor": 0,
       "model_id": "9bc7d03cc1f543008aa6cd57c6eb9a5a"
      }
     },
     "metadata": {},
     "output_type": "display_data"
    },
    {
     "data": {
      "text/plain": [
       "Batches:   0%|          | 0/1 [00:00<?, ?it/s]"
      ],
      "application/vnd.jupyter.widget-view+json": {
       "version_major": 2,
       "version_minor": 0,
       "model_id": "ca5fc444cdd945f694c8355c9e45318f"
      }
     },
     "metadata": {},
     "output_type": "display_data"
    },
    {
     "data": {
      "text/plain": [
       "Batches:   0%|          | 0/1 [00:00<?, ?it/s]"
      ],
      "application/vnd.jupyter.widget-view+json": {
       "version_major": 2,
       "version_minor": 0,
       "model_id": "20aaff7920f3459f9b8c3d285a7df97d"
      }
     },
     "metadata": {},
     "output_type": "display_data"
    },
    {
     "data": {
      "text/plain": [
       "Batches:   0%|          | 0/1 [00:00<?, ?it/s]"
      ],
      "application/vnd.jupyter.widget-view+json": {
       "version_major": 2,
       "version_minor": 0,
       "model_id": "56b9c0f281c04aecb002fb1582b57c49"
      }
     },
     "metadata": {},
     "output_type": "display_data"
    },
    {
     "data": {
      "text/plain": [
       "Batches:   0%|          | 0/1 [00:00<?, ?it/s]"
      ],
      "application/vnd.jupyter.widget-view+json": {
       "version_major": 2,
       "version_minor": 0,
       "model_id": "4fda10a4370842b7bd8ee44d9b65c157"
      }
     },
     "metadata": {},
     "output_type": "display_data"
    },
    {
     "data": {
      "text/plain": [
       "Batches:   0%|          | 0/1 [00:00<?, ?it/s]"
      ],
      "application/vnd.jupyter.widget-view+json": {
       "version_major": 2,
       "version_minor": 0,
       "model_id": "37c0f2cce5a0459c9b5c98118a587b49"
      }
     },
     "metadata": {},
     "output_type": "display_data"
    },
    {
     "data": {
      "text/plain": [
       "Batches:   0%|          | 0/1 [00:00<?, ?it/s]"
      ],
      "application/vnd.jupyter.widget-view+json": {
       "version_major": 2,
       "version_minor": 0,
       "model_id": "768225fae07f49cab84c96cc516c16d6"
      }
     },
     "metadata": {},
     "output_type": "display_data"
    },
    {
     "data": {
      "text/plain": [
       "Batches:   0%|          | 0/1 [00:00<?, ?it/s]"
      ],
      "application/vnd.jupyter.widget-view+json": {
       "version_major": 2,
       "version_minor": 0,
       "model_id": "8aa1fb415f644cc8b5b08173febcad3b"
      }
     },
     "metadata": {},
     "output_type": "display_data"
    },
    {
     "data": {
      "text/plain": [
       "Batches:   0%|          | 0/1 [00:00<?, ?it/s]"
      ],
      "application/vnd.jupyter.widget-view+json": {
       "version_major": 2,
       "version_minor": 0,
       "model_id": "9d943576d9e8458ab411d3d7119a5ec9"
      }
     },
     "metadata": {},
     "output_type": "display_data"
    },
    {
     "data": {
      "text/plain": [
       "Batches:   0%|          | 0/1 [00:00<?, ?it/s]"
      ],
      "application/vnd.jupyter.widget-view+json": {
       "version_major": 2,
       "version_minor": 0,
       "model_id": "d5b8371e2b4844d98c9e2b7f991be991"
      }
     },
     "metadata": {},
     "output_type": "display_data"
    },
    {
     "data": {
      "text/plain": [
       "Batches:   0%|          | 0/1 [00:00<?, ?it/s]"
      ],
      "application/vnd.jupyter.widget-view+json": {
       "version_major": 2,
       "version_minor": 0,
       "model_id": "8777a47afcab4535a527b8be11b219cd"
      }
     },
     "metadata": {},
     "output_type": "display_data"
    },
    {
     "data": {
      "text/plain": [
       "Batches:   0%|          | 0/1 [00:00<?, ?it/s]"
      ],
      "application/vnd.jupyter.widget-view+json": {
       "version_major": 2,
       "version_minor": 0,
       "model_id": "ac99e09eaa2c463791e064a76b849334"
      }
     },
     "metadata": {},
     "output_type": "display_data"
    }
   ],
   "execution_count": 12
  },
  {
   "metadata": {
    "ExecuteTime": {
     "end_time": "2025-10-12T07:30:18.297687Z",
     "start_time": "2025-10-12T07:30:17.025864Z"
    }
   },
   "cell_type": "code",
   "source": [
    "import torch\n",
    "pairs = []\n",
    "for i, stm_emb in enumerate(stm_embeddings):\n",
    "    sims = util.cos_sim(stm_emb, ltm_embeddings)[0]\n",
    "    best_idx = torch.argmax(sims).item()\n",
    "    if sims[best_idx] > 0.7:\n",
    "        pairs.append({\"stm\": knowledge_base[\"STM_data\"][i], \"ltm\": knowledge_base[\"LTM_data\"][best_idx]})"
   ],
   "id": "3214612966137889",
   "outputs": [],
   "execution_count": 13
  },
  {
   "metadata": {},
   "cell_type": "markdown",
   "source": "### Generate HCM Recall Test Cases",
   "id": "c02cfd6d05215b5c"
  },
  {
   "metadata": {
    "ExecuteTime": {
     "end_time": "2025-10-12T08:15:50.016917Z",
     "start_time": "2025-10-12T08:15:26.188947Z"
    }
   },
   "cell_type": "code",
   "source": [
    "HCM_recall_test_case_prompt = f\"\"\"\n",
    "You are an expert data generator for generating synthetic test cases for an elderly care conversational RAG System\n",
    "\n",
    "This is the elderly person you are emulating: {json.dumps(test_profile, indent=2)}\n",
    "This is their Healthcare Memory Data: {json.dumps(hcm_data, indent=2)}\n",
    "\n",
    "Return the requested number of test cases where the queries are realistic, conversational query based on the healthcare memory data provided. The queries should be something an elderly person might naturally ask or say in a conversation with a companion about their health, medications, or medical procedures. You may choose to include one or more relevant healthcare memory entries in each query as the expected retrieval\n",
    "\n",
    "Each test case should be in JSON format and have the following structure. Return your answer as a JSON array of test cases.\n",
    "For example:\n",
    "[{{\n",
    "    \"test_case_id\": \"HCM_TC_001\",\n",
    "    \"query\": \"What medications am I currently taking?\",\n",
    "    \"expected_retrieval\": \"hcm\": [\n",
    "        {{\n",
    "        \"document_id\": \"HCM_001\",\n",
    "        \"type\": \"medication\",\n",
    "        \"date\": \"2022-11-05\",\n",
    "        \"description\": \"Underwent cataract surgery on right eye, successful recovery.\"\n",
    "        }},\n",
    "        {{\n",
    "        \"document_id\": \"HCM_002\",\n",
    "        \"type\": \"medication\",\n",
    "        \"date\": \"None\",\n",
    "        \"description\": \"Prescribed Glucosamine supplements for joint health.\"\n",
    "        }}\n",
    "      ]\n",
    "}}]\n",
    "\"\"\"\n",
    "\n",
    "response_hcm_test_cases = openai_client.chat.completions.create(\n",
    "    model=\"gpt-4.1-mini\",\n",
    "    messages=[\n",
    "        {\"role\": \"system\", \"content\": HCM_recall_test_case_prompt},\n",
    "        {\"role\": \"user\", \"content\": \"Generate 10 HCM recall test cases.  Output only the JSON output\"}\n",
    "    ],\n",
    "    temperature=0.8,\n",
    ")"
   ],
   "id": "d055b641f7128363",
   "outputs": [
    {
     "name": "stderr",
     "output_type": "stream",
     "text": [
      "INFO:httpx:HTTP Request: POST https://api.openai.com/v1/chat/completions \"HTTP/1.1 200 OK\"\n"
     ]
    }
   ],
   "execution_count": 18
  },
  {
   "metadata": {
    "ExecuteTime": {
     "end_time": "2025-10-12T08:16:32.448039Z",
     "start_time": "2025-10-12T08:16:32.441976Z"
    }
   },
   "cell_type": "code",
   "source": [
    "generated_hcm_tc = response_hcm_test_cases.choices[0].message.content\n",
    "parsed_hcm_tc = json.loads(generated_hcm_tc)\n",
    "\n",
    "pprint(parsed_hcm_tc)"
   ],
   "id": "fb85b8241a033513",
   "outputs": [
    {
     "name": "stdout",
     "output_type": "stream",
     "text": [
      "[{'expected_retrieval': {'hcm': [{'date': 'None',\n",
      "                                  'description': 'Takes Amlodipine 5mg once '\n",
      "                                                 'daily for blood pressure '\n",
      "                                                 'management.',\n",
      "                                  'document_id': 'HCM_002',\n",
      "                                  'type': 'medication'}]},\n",
      "  'query': 'Can you remind me what medication I take for my blood pressure?',\n",
      "  'test_case_id': 'HCM_TC_001'},\n",
      " {'expected_retrieval': {'hcm': [{'date': '2022-11-05',\n",
      "                                  'description': 'Underwent cataract surgery '\n",
      "                                                 'on right eye, successful '\n",
      "                                                 'recovery.',\n",
      "                                  'document_id': 'HCM_004',\n",
      "                                  'type': 'procedure'}]},\n",
      "  'query': 'When was my last cataract surgery and how did it go?',\n",
      "  'test_case_id': 'HCM_TC_002'},\n",
      " {'expected_retrieval': {'hcm': [{'date': '2021-07-20',\n",
      "                                  'description': 'Mild osteoarthritis '\n",
      "                                                 'diagnosed in knees, advised '\n",
      "                                                 'light exercise.',\n",
      "                                  'document_id': 'HCM_003',\n",
      "                                  'type': 'condition'},\n",
      "                                 {'date': '2024-04-10',\n",
      "                                  'description': 'Physiotherapy sessions '\n",
      "                                                 'biweekly for knee '\n",
      "                                                 'osteoarthritis.',\n",
      "                                  'document_id': 'HCM_015',\n",
      "                                  'type': 'appointment'}]},\n",
      "  'query': 'What should I do to help with my knee osteoarthritis?',\n",
      "  'test_case_id': 'HCM_TC_003'},\n",
      " {'expected_retrieval': {'hcm': [{'date': '2024-06-10',\n",
      "                                  'description': 'Scheduled follow-up with '\n",
      "                                                 'endocrinologist for diabetes '\n",
      "                                                 'management.',\n",
      "                                  'document_id': 'HCM_008',\n",
      "                                  'type': 'appointment'}]},\n",
      "  'query': 'Do I have a scheduled appointment with my endocrinologist soon?',\n",
      "  'test_case_id': 'HCM_TC_004'},\n",
      " {'expected_retrieval': {'hcm': [{'date': 'None',\n",
      "                                  'description': 'Metformin 500mg twice daily '\n",
      "                                                 'for blood sugar control.',\n",
      "                                  'document_id': 'HCM_007',\n",
      "                                  'type': 'medication'}]},\n",
      "  'query': 'What medications do I take for my diabetes?',\n",
      "  'test_case_id': 'HCM_TC_005'},\n",
      " {'expected_retrieval': {'hcm': [{'date': '2022-05-18',\n",
      "                                  'description': 'Received flu vaccination '\n",
      "                                                 'annually, last vaccination '\n",
      "                                                 'on 2023-10-01.',\n",
      "                                  'document_id': 'HCM_011',\n",
      "                                  'type': 'procedure'}]},\n",
      "  'query': 'Have I had my flu vaccination recently?',\n",
      "  'test_case_id': 'HCM_TC_006'},\n",
      " {'expected_retrieval': {'hcm': [{'date': 'None',\n",
      "                                  'description': 'Takes Omeprazole 20mg before '\n",
      "                                                 'breakfast for acid reflux.',\n",
      "                                  'document_id': 'HCM_010',\n",
      "                                  'type': 'medication'}]},\n",
      "  'query': 'What can I take for my acid reflux and how should I take it?',\n",
      "  'test_case_id': 'HCM_TC_007'},\n",
      " {'expected_retrieval': {'hcm': [{'date': '2018-09-30',\n",
      "                                  'description': 'Mild hearing loss, uses '\n",
      "                                                 'hearing aids occasionally.',\n",
      "                                  'document_id': 'HCM_013',\n",
      "                                  'type': 'condition'}]},\n",
      "  'query': 'Do I have any hearing issues and do I use any aids for it?',\n",
      "  'test_case_id': 'HCM_TC_008'},\n",
      " {'expected_retrieval': {'hcm': [{'date': 'None',\n",
      "                                  'description': 'Prescribed Glucosamine '\n",
      "                                                 'supplements for joint '\n",
      "                                                 'health.',\n",
      "                                  'document_id': 'HCM_005',\n",
      "                                  'type': 'medication'},\n",
      "                                 {'date': 'None',\n",
      "                                  'description': 'Vitamin D supplements daily '\n",
      "                                                 'for bone health.',\n",
      "                                  'document_id': 'HCM_014',\n",
      "                                  'type': 'medication'}]},\n",
      "  'query': 'What supplements do I take for my joints and bone health?',\n",
      "  'test_case_id': 'HCM_TC_009'},\n",
      " {'expected_retrieval': {'hcm': [{'date': 'None',\n",
      "                                  'description': 'Occasional use of Loratadine '\n",
      "                                                 '10mg for allergy relief.',\n",
      "                                  'document_id': 'HCM_020',\n",
      "                                  'type': 'medication'}]},\n",
      "  'query': 'What medications do I use for my seasonal allergies?',\n",
      "  'test_case_id': 'HCM_TC_010'}]\n"
     ]
    }
   ],
   "execution_count": 20
  },
  {
   "metadata": {},
   "cell_type": "markdown",
   "source": "### Generate LTM-Recall Test Cases",
   "id": "93acf1aa8b099710"
  },
  {
   "metadata": {
    "ExecuteTime": {
     "end_time": "2025-10-12T08:53:22.900933Z",
     "start_time": "2025-10-12T08:52:51.092163Z"
    }
   },
   "cell_type": "code",
   "source": [
    "LTM_recall_test_case_prompt = f\"\"\"\n",
    "You are an expert data generator for generating synthetic test cases for an elderly care conversational RAG System\n",
    "\n",
    "This is the elderly person you are emulating: {json.dumps(test_profile, indent=2)}\n",
    "This is their Long Term Memory Data: {json.dumps(ltm_data, indent=2)}\n",
    "\n",
    "Return the requested number of test cases where the queries are realistic, conversational query based on the healthcare memory data provided. The queries should be something an elderly person might naturally ask or say in a conversation with a companion about their long-term memories, life events, or personal history. You may choose to include one or more relevant long-term memory entries in each query as the expected retrieval\n",
    "\n",
    "Each test case should be in JSON format and have the following structure. Return your answer as a JSON array of test cases.\n",
    "For example:\n",
    "[{{\n",
    "    \"id\": \"LTM_TC_001\",\n",
    "    \"query\": \"What do I usually do on weekends?\",\n",
    "    \"expected_retrieval\": {{\n",
    "      \"ltm\": [\n",
    "        {{\n",
    "          \"document_id\": \"LTM005\",\n",
    "          \"key\": \"family_relationship\",\n",
    "          \"value\": \"Children and grandchildren usually join birthday celebrations\"\n",
    "        }}\n",
    "      ]\n",
    "    }}\n",
    "      ]\n",
    "}}]\n",
    "\"\"\"\n",
    "\n",
    "response_ltm_test_cases = openai_client.chat.completions.create(\n",
    "    model=\"gpt-4.1-mini\",\n",
    "    messages=[\n",
    "        {\"role\": \"system\", \"content\": LTM_recall_test_case_prompt},\n",
    "        {\"role\": \"user\", \"content\": \"Generate 20 LTM recall test cases.  Output only the JSON output\"}\n",
    "    ],\n",
    "    temperature=0.8,\n",
    ")"
   ],
   "id": "2356ed6fb7192417",
   "outputs": [
    {
     "name": "stderr",
     "output_type": "stream",
     "text": [
      "INFO:httpx:HTTP Request: POST https://api.openai.com/v1/chat/completions \"HTTP/1.1 200 OK\"\n"
     ]
    }
   ],
   "execution_count": 23
  },
  {
   "metadata": {
    "ExecuteTime": {
     "end_time": "2025-10-12T08:53:22.947559Z",
     "start_time": "2025-10-12T08:53:22.936156Z"
    }
   },
   "cell_type": "code",
   "source": [
    "generated_ltm_tc = response_ltm_test_cases.choices[0].message.content\n",
    "parsed_ltm_tc = json.loads(generated_ltm_tc)\n",
    "\n",
    "pprint(parsed_ltm_tc)"
   ],
   "id": "d5d28b6caf1d54ec",
   "outputs": [
    {
     "name": "stdout",
     "output_type": "stream",
     "text": [
      "[{'expected_retrieval': {'ltm': [{'document_id': 'LTM_001',\n",
      "                                  'key': 'Husband',\n",
      "                                  'value': 'Rajinder Singh'}]},\n",
      "  'id': 'LTM_TC_001',\n",
      "  'query': 'Who is my husband and what can you tell me about him?'},\n",
      " {'expected_retrieval': {'ltm': [{'document_id': 'LTM_002',\n",
      "                                  'key': 'Eldest son',\n",
      "                                  'value': 'Harjit Singh'},\n",
      "                                 {'document_id': 'LTM_003',\n",
      "                                  'key': 'Youngest daughter',\n",
      "                                  'value': 'Simran Kaur'}]},\n",
      "  'id': 'LTM_TC_002',\n",
      "  'query': 'Can you remind me about my children?'},\n",
      " {'expected_retrieval': {'ltm': [{'document_id': 'LTM_005',\n",
      "                                  'key': 'Morning routine',\n",
      "                                  'value': 'Enjoys morning walks at Dhoby '\n",
      "                                           'Ghaut Park with neighbours at 7 '\n",
      "                                           'am'}]},\n",
      "  'id': 'LTM_TC_003',\n",
      "  'query': 'What do I like to do in the morning?'},\n",
      " {'expected_retrieval': {'ltm': [{'document_id': 'LTM_006',\n",
      "                                  'key': 'Hobby',\n",
      "                                  'value': 'Practices Tai Chi at the community '\n",
      "                                           'centre every Tuesday and '\n",
      "                                           'Thursday'}]},\n",
      "  'id': 'LTM_TC_004',\n",
      "  'query': 'Tell me about my hobby and when I do it.'},\n",
      " {'expected_retrieval': {'ltm': [{'document_id': 'LTM_007',\n",
      "                                  'key': 'Cooking preference',\n",
      "                                  'value': 'Prefers cooking traditional Sikh '\n",
      "                                           'vegetarian dishes'}]},\n",
      "  'id': 'LTM_TC_005',\n",
      "  'query': 'What kind of food do I prefer to cook?'},\n",
      " {'expected_retrieval': {'ltm': [{'document_id': 'LTM_008',\n",
      "                                  'key': 'Close friend',\n",
      "                                  'value': 'Mrs. Tan from Block 12, often '\n",
      "                                           'meets for tea'}]},\n",
      "  'id': 'LTM_TC_006',\n",
      "  'query': 'Who is my close friend that I often meet for tea?'},\n",
      " {'expected_retrieval': {'ltm': [{'document_id': 'LTM_009',\n",
      "                                  'key': 'Shopping routine',\n",
      "                                  'value': 'Goes to Tekka Centre wet market '\n",
      "                                           'every Saturday morning to buy '\n",
      "                                           'fresh vegetables and spices'}]},\n",
      "  'id': 'LTM_TC_007',\n",
      "  'query': 'Where do I usually go shopping for fresh vegetables and spices?'},\n",
      " {'expected_retrieval': {'ltm': [{'document_id': 'LTM_010',\n",
      "                                  'key': 'Public transport usage',\n",
      "                                  'value': 'Uses MRT daily to visit the market '\n",
      "                                           'and friends, prefers to travel '\n",
      "                                           'off-peak hours'},\n",
      "                                 {'document_id': 'LTM_027',\n",
      "                                  'key': 'Public transport tip',\n",
      "                                  'value': 'Always taps her EZ-Link card '\n",
      "                                           'carefully to avoid double '\n",
      "                                           'charges'}]},\n",
      "  'id': 'LTM_TC_008',\n",
      "  'query': 'How do I usually travel around town and do I have any '\n",
      "           'preferences?'},\n",
      " {'expected_retrieval': {'ltm': [{'document_id': 'LTM_011',\n",
      "                                  'key': 'Social activity',\n",
      "                                  'value': 'Attends senior activity centre’s '\n",
      "                                           'weekly knitting club'}]},\n",
      "  'id': 'LTM_TC_009',\n",
      "  'query': 'What kind of social activities do I participate in?'},\n",
      " {'expected_retrieval': {'ltm': [{'document_id': 'LTM_012',\n",
      "                                  'key': 'Neighbour',\n",
      "                                  'value': 'Mr. Lim, often chats about news '\n",
      "                                           'and local happenings'}]},\n",
      "  'id': 'LTM_TC_010',\n",
      "  'query': 'Who is my neighbour I often chat with about local news?'},\n",
      " {'expected_retrieval': {'ltm': [{'document_id': 'LTM_013',\n",
      "                                  'key': 'Dietary preference',\n",
      "                                  'value': 'Avoids oily and spicy food due to '\n",
      "                                           'mild acid reflux'}]},\n",
      "  'id': 'LTM_TC_011',\n",
      "  'query': 'Are there any foods I avoid because of my health?'},\n",
      " {'expected_retrieval': {'ltm': [{'document_id': 'LTM_014',\n",
      "                                  'key': 'Favourite hawker food',\n",
      "                                  'value': 'Loves to eat prata and teh tarik '\n",
      "                                           'at nearby hawker centre'}]},\n",
      "  'id': 'LTM_TC_012',\n",
      "  'query': 'What hawker food do I enjoy eating nearby?'},\n",
      " {'expected_retrieval': {'ltm': [{'document_id': 'LTM_015',\n",
      "                                  'key': 'Community involvement',\n",
      "                                  'value': 'Volunteers at the local temple '\n",
      "                                           'festival during major Sikh '\n",
      "                                           'celebrations'},\n",
      "                                 {'document_id': 'LTM_029',\n",
      "                                  'key': 'Community events',\n",
      "                                  'value': 'Participates in annual Hari Raya '\n",
      "                                           'and Deepavali bazaars nearby'}]},\n",
      "  'id': 'LTM_TC_013',\n",
      "  'query': 'Do I participate in any community events or festivals?'},\n",
      " {'expected_retrieval': {'ltm': [{'document_id': 'LTM_016',\n",
      "                                  'key': 'Relationship with children',\n",
      "                                  'value': 'Keeps in touch daily via WhatsApp '\n",
      "                                           'messages and calls'}]},\n",
      "  'id': 'LTM_TC_014',\n",
      "  'query': 'How do I keep in touch with my children?'},\n",
      " {'expected_retrieval': {'ltm': [{'document_id': 'LTM_017',\n",
      "                                  'key': 'Evening relaxation',\n",
      "                                  'value': 'Likes to listen to classical '\n",
      "                                           'Indian music before bedtime'}]},\n",
      "  'id': 'LTM_TC_015',\n",
      "  'query': 'What do I like to do to relax in the evening?'},\n",
      " {'expected_retrieval': {'ltm': [{'document_id': 'LTM_018',\n",
      "                                  'key': 'monthly pension',\n",
      "                                  'value': 'Receives a monthly pension from '\n",
      "                                           'CPF payouts on the 15th of each '\n",
      "                                           'month'}]},\n",
      "  'id': 'LTM_TC_016',\n",
      "  'query': 'When do I receive my monthly pension and from where?'},\n",
      " {'expected_retrieval': {'ltm': [{'document_id': 'LTM_022',\n",
      "                                  'key': 'Insurance policy',\n",
      "                                  'value': 'Holds a Prudential health '\n",
      "                                           'insurance policy renewed annually '\n",
      "                                           'in March.'}]},\n",
      "  'id': 'LTM_TC_017',\n",
      "  'query': 'Do I have any insurance policy I keep updated regularly?'},\n",
      " {'expected_retrieval': {'ltm': [{'document_id': 'LTM_024',\n",
      "                                  'key': 'utility payments',\n",
      "                                  'value': 'Pays SP Services bill via GIRO on '\n",
      "                                           'the 5th of every month.'}]},\n",
      "  'id': 'LTM_TC_018',\n",
      "  'query': 'Can you remind me about my utility bill payments?'},\n",
      " {'expected_retrieval': {'ltm': [{'document_id': 'LTM_026',\n",
      "                                  'key': 'legal_contact',\n",
      "                                  'value': 'Family lawyer is Ms. Clara Tan '\n",
      "                                           'from Tan & Partners LLP.'}]},\n",
      "  'id': 'LTM_TC_019',\n",
      "  'query': 'Who is my family lawyer if I need legal help?'},\n",
      " {'expected_retrieval': {'ltm': [{'document_id': 'LTM_028',\n",
      "                                  'key': 'power of attorney',\n",
      "                                  'value': 'Granted Lasting Power of Attorney '\n",
      "                                           '(LPA) to eldest Harjit Singh for '\n",
      "                                           'financial and healthcare '\n",
      "                                           'matters.'}]},\n",
      "  'id': 'LTM_TC_020',\n",
      "  'query': 'Do I have any arrangements for legal power of attorney?'}]\n"
     ]
    }
   ],
   "execution_count": 24
  },
  {
   "metadata": {
    "ExecuteTime": {
     "end_time": "2025-10-12T10:27:44.706259Z",
     "start_time": "2025-10-12T10:27:44.686036Z"
    }
   },
   "cell_type": "code",
   "source": "print(len(stm_data))",
   "id": "b468cd80df7ddfb0",
   "outputs": [
    {
     "name": "stdout",
     "output_type": "stream",
     "text": [
      "300\n"
     ]
    }
   ],
   "execution_count": 25
  },
  {
   "metadata": {
    "ExecuteTime": {
     "end_time": "2025-10-12T10:49:15.573831Z",
     "start_time": "2025-10-12T10:45:31.942479Z"
    }
   },
   "cell_type": "code",
   "source": [
    "all_stm_test_cases = []\n",
    "for i in range(0,len(stm_data), 50):\n",
    "    stm_data_chunk = stm_data[i:i+50]\n",
    "    print(f\"Generating test cases for STM entries {i} to {i+50}\")\n",
    "    STM_recall_test_case_prompt = f\"\"\"\n",
    "    You are an expert data generator for generating synthetic test cases for an elderly care conversational RAG System\n",
    "\n",
    "    This is the elderly person you are emulating: {json.dumps(test_profile, indent=2)}\n",
    "    This is their Short Term Memory Data: {json.dumps(stm_data_chunk, indent=2)}\n",
    "\n",
    "    Return the requested number of test cases where the queries are realistic, conversational query based on the healthcare memory data provided. The queries should be something an elderly person might naturally ask or say in a conversation with a companion about their short-term memories, life events, or personal history. You may to include one or more relevant short-term memory entries in each query as the expected retrieval\n",
    "\n",
    "    Each test case should be in JSON format and have the following structure. Return your answer as a JSON array of test cases.\n",
    "    For example:\n",
    "    [{{\n",
    "    \"id\": \"STM_3\",\n",
    "    \"query\": \"When was the health talk again?\",\n",
    "    \"expected_retrieval\": {{\n",
    "      \"stm\": [\n",
    "        {{\n",
    "            \"document_id\": \"STM_052\",\n",
    "            \"timestamp\": \"2025-10-02T03:56:53Z\",\n",
    "            \"content\": \"I heard there will be a health talk at the community centre next week.\"\n",
    "        }}\n",
    "      ]\n",
    "    }}\n",
    "    }}\n",
    "    ]\n",
    "    \"\"\"\n",
    "    response_stm_test_cases = openai_client.chat.completions.create(\n",
    "        model=\"gpt-4.1-mini\",\n",
    "        messages=[\n",
    "            {\"role\": \"system\", \"content\": STM_recall_test_case_prompt},\n",
    "            {\"role\": \"user\", \"content\": \"Generate 20 STM recall test cases.  Output only the JSON output\"}\n",
    "        ],\n",
    "        temperature=0.8,\n",
    "    )\n",
    "    generated_stm_tc = response_stm_test_cases.choices[0].message.content\n",
    "    parsed_stm_tc = json.loads(generated_stm_tc)\n",
    "    all_stm_test_cases.extend(parsed_stm_tc)\n",
    "    print(f\"Generated {len(parsed_stm_tc)} test cases\")\n",
    "    print(f\"Total test cases so far: {len(all_stm_test_cases)}\")\n",
    "\n",
    "\n"
   ],
   "id": "244d78f7b34f5179",
   "outputs": [
    {
     "name": "stdout",
     "output_type": "stream",
     "text": [
      "Generating test cases for STM entries 0 to 50\n"
     ]
    },
    {
     "name": "stderr",
     "output_type": "stream",
     "text": [
      "INFO:httpx:HTTP Request: POST https://api.openai.com/v1/chat/completions \"HTTP/1.1 200 OK\"\n"
     ]
    },
    {
     "name": "stdout",
     "output_type": "stream",
     "text": [
      "Generated 20 test cases\n",
      "Total test cases so far: 20\n",
      "Generating test cases for STM entries 50 to 100\n"
     ]
    },
    {
     "name": "stderr",
     "output_type": "stream",
     "text": [
      "INFO:httpx:HTTP Request: POST https://api.openai.com/v1/chat/completions \"HTTP/1.1 200 OK\"\n"
     ]
    },
    {
     "name": "stdout",
     "output_type": "stream",
     "text": [
      "Generated 20 test cases\n",
      "Total test cases so far: 40\n",
      "Generating test cases for STM entries 100 to 150\n"
     ]
    },
    {
     "name": "stderr",
     "output_type": "stream",
     "text": [
      "INFO:httpx:HTTP Request: POST https://api.openai.com/v1/chat/completions \"HTTP/1.1 200 OK\"\n"
     ]
    },
    {
     "name": "stdout",
     "output_type": "stream",
     "text": [
      "Generated 20 test cases\n",
      "Total test cases so far: 60\n",
      "Generating test cases for STM entries 150 to 200\n"
     ]
    },
    {
     "name": "stderr",
     "output_type": "stream",
     "text": [
      "INFO:httpx:HTTP Request: POST https://api.openai.com/v1/chat/completions \"HTTP/1.1 200 OK\"\n"
     ]
    },
    {
     "name": "stdout",
     "output_type": "stream",
     "text": [
      "Generated 20 test cases\n",
      "Total test cases so far: 80\n",
      "Generating test cases for STM entries 200 to 250\n"
     ]
    },
    {
     "name": "stderr",
     "output_type": "stream",
     "text": [
      "INFO:httpx:HTTP Request: POST https://api.openai.com/v1/chat/completions \"HTTP/1.1 200 OK\"\n"
     ]
    },
    {
     "name": "stdout",
     "output_type": "stream",
     "text": [
      "Generated 20 test cases\n",
      "Total test cases so far: 100\n",
      "Generating test cases for STM entries 250 to 300\n"
     ]
    },
    {
     "name": "stderr",
     "output_type": "stream",
     "text": [
      "INFO:httpx:HTTP Request: POST https://api.openai.com/v1/chat/completions \"HTTP/1.1 200 OK\"\n"
     ]
    },
    {
     "name": "stdout",
     "output_type": "stream",
     "text": [
      "Generated 20 test cases\n",
      "Total test cases so far: 120\n"
     ]
    }
   ],
   "execution_count": 32
  },
  {
   "metadata": {
    "ExecuteTime": {
     "end_time": "2025-10-12T10:49:53.393345Z",
     "start_time": "2025-10-12T10:49:53.389995Z"
    }
   },
   "cell_type": "code",
   "source": [
    "for idx, tc in enumerate(all_stm_test_cases, 1):\n",
    "    tc['id'] = f\"STM_TC_{idx:03d}\""
   ],
   "id": "24acbe6e3d602649",
   "outputs": [],
   "execution_count": 35
  },
  {
   "metadata": {
    "ExecuteTime": {
     "end_time": "2025-10-12T10:49:54.981339Z",
     "start_time": "2025-10-12T10:49:54.954879Z"
    }
   },
   "cell_type": "code",
   "source": [
    "pprint(all_stm_test_cases)\n",
    "print(len(all_stm_test_cases))"
   ],
   "id": "639957af862cf621",
   "outputs": [
    {
     "name": "stdout",
     "output_type": "stream",
     "text": [
      "[{'expected_retrieval': {'stm': [{'content': 'I remembered to take my heart '\n",
      "                                             'medicine after breakfast today; '\n",
      "                                             'feeling better each day.',\n",
      "                                  'document_id': 'STM_007',\n",
      "                                  'timestamp': '2024-05-25T09:00:00Z'}]},\n",
      "  'id': 'STM_TC_001',\n",
      "  'query': 'Did I remember to take my heart medicine after breakfast the other '\n",
      "           'day?'},\n",
      " {'expected_retrieval': {'stm': [{'content': 'Cooked dal with extra garlic '\n",
      "                                             'today; my family said it tasted '\n",
      "                                             'comforting and warm.',\n",
      "                                  'document_id': 'STM_010',\n",
      "                                  'timestamp': '2024-05-25T18:00:00Z'}]},\n",
      "  'id': 'STM_TC_002',\n",
      "  'query': 'What did I cook with extra garlic that my family liked?'},\n",
      " {'expected_retrieval': {'stm': [{'content': 'Asked the bus driver about the '\n",
      "                                             'fare to get to Ang Mo Kio; he '\n",
      "                                             'was very patient explaining.',\n",
      "                                  'document_id': 'STM_008',\n",
      "                                  'timestamp': '2024-05-25T11:15:00Z'}]},\n",
      "  'id': 'STM_TC_003',\n",
      "  'query': 'Who did I talk to about the bus fare to Ang Mo Kio?'},\n",
      " {'expected_retrieval': {'stm': [{'content': 'Bought some fresh mangoes at the '\n",
      "                                             'market; they were sweet and '\n",
      "                                             'juicy.',\n",
      "                                  'document_id': 'STM_013',\n",
      "                                  'timestamp': '2024-05-26T15:20:00Z'}]},\n",
      "  'id': 'STM_TC_004',\n",
      "  'query': 'Did I get any fresh mangoes recently and how were they?'},\n",
      " {'expected_retrieval': {'stm': [{'content': 'I joined the tai chi session at '\n",
      "                                             'the community centre; it felt '\n",
      "                                             'relaxing to move gently with '\n",
      "                                             'others.',\n",
      "                                  'document_id': 'STM_003',\n",
      "                                  'timestamp': '2024-05-23T16:00:00Z'},\n",
      "                                 {'content': 'Attended a mindfulness session '\n",
      "                                             'at the community centre that '\n",
      "                                             'helped me relax. It is important '\n",
      "                                             'to stay stress-free',\n",
      "                                  'document_id': 'STM_028',\n",
      "                                  'timestamp': '2024-05-30T08:40:00Z'}]},\n",
      "  'id': 'STM_TC_005',\n",
      "  'query': 'What did I do at the community centre that made me feel relaxed?'},\n",
      " {'expected_retrieval': {'stm': [{'content': 'Today the lawyer office called '\n",
      "                                             'me to remind me about the some '\n",
      "                                             'documents that I need to review',\n",
      "                                  'document_id': 'STM_024',\n",
      "                                  'timestamp': '2024-05-29T10:00:00Z'}]},\n",
      "  'id': 'STM_TC_006',\n",
      "  'query': \"Can you remind me about the documents the lawyer's office wanted \"\n",
      "           'me to review?'},\n",
      " {'expected_retrieval': {'stm': [{'content': 'Asked a shopkeeper if they had '\n",
      "                                             'fresh turmeric and he showed me '\n",
      "                                             'a bright batch.',\n",
      "                                  'document_id': 'STM_033',\n",
      "                                  'timestamp': '2024-05-31T09:00:00Z'}]},\n",
      "  'id': 'STM_TC_007',\n",
      "  'query': 'When did I last buy fresh turmeric and from whom?'},\n",
      " {'expected_retrieval': {'stm': [{'content': 'Cooked aloo gobi with fresh '\n",
      "                                             'vegetables; my husband said it '\n",
      "                                             'reminded him of home.',\n",
      "                                  'document_id': 'STM_039',\n",
      "                                  'timestamp': '2024-06-01T18:00:00Z'}]},\n",
      "  'id': 'STM_TC_008',\n",
      "  'query': 'What did I cook that my husband said reminded him of home?'},\n",
      " {'expected_retrieval': {'stm': [{'content': 'Met a neighbor at the market who '\n",
      "                                             'shared a recipe for homemade '\n",
      "                                             'chapati.',\n",
      "                                  'document_id': 'STM_009',\n",
      "                                  'timestamp': '2024-05-25T13:45:00Z'}]},\n",
      "  'id': 'STM_TC_009',\n",
      "  'query': 'Did I meet anyone who shared a recipe for homemade chapati?'},\n",
      " {'expected_retrieval': {'stm': [{'content': 'I asked the vegetable seller if '\n",
      "                                             'the spinach was fresh and he '\n",
      "                                             'assured me it was picked this '\n",
      "                                             'morning.',\n",
      "                                  'document_id': 'STM_006',\n",
      "                                  'timestamp': '2024-05-24T12:30:00Z'}]},\n",
      "  'id': 'STM_TC_010',\n",
      "  'query': 'What did I ask the vegetable seller about spinach?'},\n",
      " {'expected_retrieval': {'stm': [{'content': 'Met a volunteer at the community '\n",
      "                                             'centre who invited me to join a '\n",
      "                                             'knitting group.',\n",
      "                                  'document_id': 'STM_020',\n",
      "                                  'timestamp': '2024-05-28T11:10:00Z'}]},\n",
      "  'id': 'STM_TC_011',\n",
      "  'query': 'Who invited me to join a knitting group at the community centre?'},\n",
      " {'expected_retrieval': {'stm': [{'content': 'I remembered to drink more water '\n",
      "                                             'today and felt less tired in the '\n",
      "                                             'afternoon.',\n",
      "                                  'document_id': 'STM_019',\n",
      "                                  'timestamp': '2024-05-28T08:50:00Z'}]},\n",
      "  'id': 'STM_TC_012',\n",
      "  'query': 'Did I remember to drink more water recently and how did I feel?'},\n",
      " {'expected_retrieval': {'stm': [{'content': 'Had a pleasant chat with my '\n",
      "                                             'granddaughter on the phone about '\n",
      "                                             'her school project.',\n",
      "                                  'document_id': 'STM_035',\n",
      "                                  'timestamp': '2024-05-31T15:00:00Z'}]},\n",
      "  'id': 'STM_TC_013',\n",
      "  'query': 'What did I chat about with my granddaughter on the phone?'},\n",
      " {'expected_retrieval': {'stm': [{'content': 'Had kopi and soft-boiled eggs at '\n",
      "                                             'the coffee shop; the kopi was '\n",
      "                                             'just the way I like it, strong '\n",
      "                                             'and sweet.',\n",
      "                                  'document_id': 'STM_005',\n",
      "                                  'timestamp': '2024-05-24T07:45:00Z'}]},\n",
      "  'id': 'STM_TC_014',\n",
      "  'query': 'When did I have kopi and soft-boiled eggs and how was the kopi?'},\n",
      " {'expected_retrieval': {'stm': [{'content': 'I bought some red onions; the '\n",
      "                                             'seller told me they were from '\n",
      "                                             'Malaysia.',\n",
      "                                  'document_id': 'STM_029',\n",
      "                                  'timestamp': '2024-05-30T11:20:00Z'}]},\n",
      "  'id': 'STM_TC_015',\n",
      "  'query': 'Who told me the red onions were from Malaysia when I bought them?'},\n",
      " {'expected_retrieval': {'stm': [{'content': 'Prepared chapati with my '\n",
      "                                             'daughter; she said I have the '\n",
      "                                             'best rolling technique.',\n",
      "                                  'document_id': 'STM_022',\n",
      "                                  'timestamp': '2024-05-28T17:00:00Z'}]},\n",
      "  'id': 'STM_TC_016',\n",
      "  'query': 'What did I and my daughter do together that involved rolling '\n",
      "           'technique?'},\n",
      " {'expected_retrieval': {'stm': [{'content': 'Took the bus to the library and '\n",
      "                                             'asked the librarian for books on '\n",
      "                                             'gardening.',\n",
      "                                  'document_id': 'STM_011',\n",
      "                                  'timestamp': '2024-05-26T08:30:00Z'}]},\n",
      "  'id': 'STM_TC_017',\n",
      "  'query': 'When did I visit the library and what did I ask the librarian '\n",
      "           'about?'},\n",
      " {'expected_retrieval': {'stm': [{'content': 'Participated in a sing-along '\n",
      "                                             'session at the senior activity '\n",
      "                                             'centre; it brought back many '\n",
      "                                             'memories.',\n",
      "                                  'document_id': 'STM_012',\n",
      "                                  'timestamp': '2024-05-26T10:00:00Z'}]},\n",
      "  'id': 'STM_TC_018',\n",
      "  'query': 'Did I attend any singing events recently at the senior activity '\n",
      "           'centre?'},\n",
      " {'expected_retrieval': {'stm': [{'content': 'Did some light stretches and '\n",
      "                                             'breathing exercises to start the '\n",
      "                                             'day calmly.',\n",
      "                                  'document_id': 'STM_049',\n",
      "                                  'timestamp': '2024-06-04T07:10:00Z'}]},\n",
      "  'id': 'STM_TC_019',\n",
      "  'query': 'What did I do to start my day calmly on June 4th?'},\n",
      " {'expected_retrieval': {'stm': [{'content': 'Made some carrot halwa as a '\n",
      "                                             'treat for my grandchildren '\n",
      "                                             'coming over tomorrow.',\n",
      "                                  'document_id': 'STM_044',\n",
      "                                  'timestamp': '2024-06-02T19:30:00Z'}]},\n",
      "  'id': 'STM_TC_020',\n",
      "  'query': 'What dessert did I make as a treat for my grandchildren coming '\n",
      "           'over?'},\n",
      " {'expected_retrieval': {'stm': [{'content': 'Asked a store owners about the '\n",
      "                                             'ingredients in her famous mee '\n",
      "                                             'goreng. She say it is her secret '\n",
      "                                             'recipe.',\n",
      "                                  'document_id': 'STM_051',\n",
      "                                  'timestamp': '2024-06-04T13:30:00Z'}]},\n",
      "  'id': 'STM_TC_021',\n",
      "  'query': 'What recipe did the store owner share when I asked about mee '\n",
      "           'goreng?'},\n",
      " {'expected_retrieval': {'stm': [{'content': 'Had a long phone call with my '\n",
      "                                             'daughter discussing her new job. '\n",
      "                                             'She is a teacher at a local '\n",
      "                                             'school.',\n",
      "                                  'document_id': 'STM_052',\n",
      "                                  'timestamp': '2024-06-04T15:45:00Z'}]},\n",
      "  'id': 'STM_TC_022',\n",
      "  'query': 'Can you remind me what my daughter told me about her new job '\n",
      "           'during our phone call?'},\n",
      " {'expected_retrieval': {'stm': [{'content': 'Joined a public speaking group '\n",
      "                                             'at the community centre; '\n",
      "                                             'everyone was welcoming and kind.',\n",
      "                                  'document_id': 'STM_053',\n",
      "                                  'timestamp': '2024-06-05T08:00:00Z'}]},\n",
      "  'id': 'STM_TC_023',\n",
      "  'query': 'How was the public speaking group at the community centre? Did I '\n",
      "           'like it?'},\n",
      " {'expected_retrieval': {'stm': [{'content': 'I took the bus to the '\n",
      "                                             'supermarket and asked a staff '\n",
      "                                             'member where the herbal teas '\n",
      "                                             'were.',\n",
      "                                  'document_id': 'STM_054',\n",
      "                                  'timestamp': '2024-06-05T11:20:00Z'}]},\n",
      "  'id': 'STM_TC_024',\n",
      "  'query': 'Where did I ask the supermarket staff about herbal teas?'},\n",
      " {'expected_retrieval': {'stm': [{'content': 'Prepared a simple vegetable '\n",
      "                                             'stew; I added some fresh '\n",
      "                                             'turmeric and it smelled '\n",
      "                                             'wonderful.',\n",
      "                                  'document_id': 'STM_055',\n",
      "                                  'timestamp': '2024-06-05T14:00:00Z'}]},\n",
      "  'id': 'STM_TC_025',\n",
      "  'query': 'What kind of stew did I prepare and what special ingredient did I '\n",
      "           'add?'},\n",
      " {'expected_retrieval': {'stm': [{'content': 'Enjoyed watching a Bollywood '\n",
      "                                             'movie with my husband after '\n",
      "                                             'dinner.',\n",
      "                                  'document_id': 'STM_056',\n",
      "                                  'timestamp': '2024-06-05T18:30:00Z'}]},\n",
      "  'id': 'STM_TC_026',\n",
      "  'query': 'What movie did I watch with my husband after dinner?'},\n",
      " {'expected_retrieval': {'stm': [{'content': 'Did some morning meditation to '\n",
      "                                             'calm my mind before starting the '\n",
      "                                             'day.',\n",
      "                                  'document_id': 'STM_057',\n",
      "                                  'timestamp': '2024-06-06T07:30:00Z'}]},\n",
      "  'id': 'STM_TC_027',\n",
      "  'query': 'Did I do anything to help calm my mind one morning recently?'},\n",
      " {'expected_retrieval': {'stm': [{'content': 'Asked a auntie selling mixed '\n",
      "                                             'rice if she had any low-sodium '\n",
      "                                             'options; she suggested steamed '\n",
      "                                             'fish so I got some.',\n",
      "                                  'document_id': 'STM_058',\n",
      "                                  'timestamp': '2024-06-06T10:15:00Z'}]},\n",
      "  'id': 'STM_TC_028',\n",
      "  'query': 'What low-sodium food did the auntie selling mixed rice recommend '\n",
      "           'to me?'},\n",
      " {'expected_retrieval': {'stm': [{'content': 'Visited the senior centre and '\n",
      "                                             'joined a storytelling session',\n",
      "                                  'document_id': 'STM_059',\n",
      "                                  'timestamp': '2024-06-06T13:00:00Z'}]},\n",
      "  'id': 'STM_TC_029',\n",
      "  'query': 'What did I do at the senior centre during the storytelling '\n",
      "           'session?'},\n",
      " {'expected_retrieval': {'stm': [{'content': 'Bought some fresh coconut from '\n",
      "                                             'the market; it was very sweet '\n",
      "                                             'and refreshing.',\n",
      "                                  'document_id': 'STM_060',\n",
      "                                  'timestamp': '2024-06-06T16:45:00Z'}]},\n",
      "  'id': 'STM_TC_030',\n",
      "  'query': 'What kind of fresh fruit did I buy from the market that was very '\n",
      "           'sweet and refreshing?'},\n",
      " {'expected_retrieval': {'stm': [{'content': 'Did a light jog at the park '\n",
      "                                             'today. It was too tiring for me '\n",
      "                                             'but I felt good afterward.',\n",
      "                                  'document_id': 'STM_061',\n",
      "                                  'timestamp': '2024-06-07T08:00:00Z'}]},\n",
      "  'id': 'STM_TC_031',\n",
      "  'query': 'How did I feel after doing a light jog in the park?'},\n",
      " {'expected_retrieval': {'stm': [{'content': 'Asked a bus driver about the '\n",
      "                                             'route to Sentosa; he gave me '\n",
      "                                             'clear instructions.',\n",
      "                                  'document_id': 'STM_062',\n",
      "                                  'timestamp': '2024-06-07T11:10:00Z'}]},\n",
      "  'id': 'STM_TC_032',\n",
      "  'query': 'What instructions did the bus driver give me about going to '\n",
      "           'Sentosa?'},\n",
      " {'expected_retrieval': {'stm': [{'content': 'Today the lawyer office called '\n",
      "                                             'but I cannot remember what they '\n",
      "                                             'said. I need to call them back '\n",
      "                                             'tomorrow.',\n",
      "                                  'document_id': 'STM_064',\n",
      "                                  'timestamp': '2024-06-07T17:00:00Z'}]},\n",
      "  'id': 'STM_TC_033',\n",
      "  'query': 'Did I remember to call the lawyer back? What did the lawyer say on '\n",
      "           'the phone?'},\n",
      " {'expected_retrieval': {'stm': [{'content': 'Asked a young man at the market '\n",
      "                                             'where I could find fresh ginger; '\n",
      "                                             'he showed me the stall nearby.',\n",
      "                                  'document_id': 'STM_066',\n",
      "                                  'timestamp': '2024-06-08T09:45:00Z'}]},\n",
      "  'id': 'STM_TC_034',\n",
      "  'query': 'Where did the young man at the market direct me to find fresh '\n",
      "           'ginger?'},\n",
      " {'expected_retrieval': {'stm': [{'content': 'Visited the hawker centre and '\n",
      "                                             'tried the new roti prata stall; '\n",
      "                                             'it was crispy and delicious.',\n",
      "                                  'document_id': 'STM_067',\n",
      "                                  'timestamp': '2024-06-08T12:00:00Z'}]},\n",
      "  'id': 'STM_TC_035',\n",
      "  'query': 'Which new food stall did I try at the hawker centre and how was '\n",
      "           'it?'},\n",
      " {'expected_retrieval': {'stm': [{'content': 'One of my friends at the senior '\n",
      "                                             'centre told me about gluten-free '\n",
      "                                             'options to manage blood sugar; '\n",
      "                                             'she recommended steamed fish '\n",
      "                                             'with vegetables.',\n",
      "                                  'document_id': 'STM_076',\n",
      "                                  'timestamp': '2024-06-10T14:00:00Z'}]},\n",
      "  'id': 'STM_TC_036',\n",
      "  'query': 'What did my friend at the senior centre say about gluten-free food '\n",
      "           'options?'},\n",
      " {'expected_retrieval': {'stm': [{'content': 'Cooked my famous vegetable '\n",
      "                                             'biryani for dinner the aroma '\n",
      "                                             'filled the house.',\n",
      "                                  'document_id': 'STM_077',\n",
      "                                  'timestamp': '2024-06-10T18:30:00Z'}]},\n",
      "  'id': 'STM_TC_037',\n",
      "  'query': 'What did I cook for dinner that filled the house with aroma?'},\n",
      " {'expected_retrieval': {'stm': [{'content': 'Chatted with my daughter about '\n",
      "                                             'her plans to visit next month. I '\n",
      "                                             'think she is busy with wedding '\n",
      "                                             'planning.',\n",
      "                                  'document_id': 'STM_081',\n",
      "                                  'timestamp': '2024-06-11T15:30:00Z'}]},\n",
      "  'id': 'STM_TC_038',\n",
      "  'query': 'What did I discuss with my daughter about her upcoming plans?'},\n",
      " {'expected_retrieval': {'stm': [{'content': 'Today the bus driver waited for '\n",
      "                                             'me to board the bus, I was very '\n",
      "                                             'grateful for his kindness, if '\n",
      "                                             'not I would have to wait for the '\n",
      "                                             'next bus',\n",
      "                                  'document_id': 'STM_091',\n",
      "                                  'timestamp': '2024-06-14T11:40:00Z'}]},\n",
      "  'id': 'STM_TC_039',\n",
      "  'query': 'What did the bus driver do that made me feel very grateful '\n",
      "           'recently?'},\n",
      " {'expected_retrieval': {'stm': [{'content': 'Brewed ginger tea to help with '\n",
      "                                             'my digestion; felt much better '\n",
      "                                             'afterward.',\n",
      "                                  'document_id': 'STM_098',\n",
      "                                  'timestamp': '2024-06-15T19:45:00Z'}]},\n",
      "  'id': 'STM_TC_040',\n",
      "  'query': 'How did ginger tea help me after I brewed it?'},\n",
      " {'expected_retrieval': {'stm': [{'content': 'Visited the fruit market and '\n",
      "                                             'bought some ripe mangoes; they '\n",
      "                                             'were sweet and juicy.',\n",
      "                                  'document_id': 'STM_108',\n",
      "                                  'timestamp': '2024-06-18T10:50:00Z'}]},\n",
      "  'id': 'STM_TC_041',\n",
      "  'query': 'What did I buy at the fruit market recently? I remember something '\n",
      "           'sweet and juicy.'},\n",
      " {'expected_retrieval': {'stm': [{'content': 'Cooked a vegetable pulao for '\n",
      "                                             'dinner; it turned out fragrant '\n",
      "                                             'and tasty.',\n",
      "                                  'document_id': 'STM_110',\n",
      "                                  'timestamp': '2024-06-18T18:00:00Z'},\n",
      "                                 {'content': 'Had dinner with my husband and '\n",
      "                                             'shared stories of our youth.',\n",
      "                                  'document_id': 'STM_114',\n",
      "                                  'timestamp': '2024-06-19T17:00:00Z'},\n",
      "                                 {'content': 'Had lunch at the hawker centre; '\n",
      "                                             'tried a new dish called laksa '\n",
      "                                             'lemak. I think it not very '\n",
      "                                             'healthy but it taste good.',\n",
      "                                  'document_id': 'STM_117',\n",
      "                                  'timestamp': '2024-06-20T13:00:00Z'},\n",
      "                                 {'content': 'I had the same thing for dinner '\n",
      "                                             'again, I think I am getting '\n",
      "                                             'bored of my cooking.',\n",
      "                                  'document_id': 'STM_128',\n",
      "                                  'timestamp': '2024-06-22T18:00:00Z'}]},\n",
      "  'id': 'STM_TC_042',\n",
      "  'query': 'Did I have any dinner plans or something interesting to eat '\n",
      "           'lately?'},\n",
      " {'expected_retrieval': {'stm': [{'content': 'I think i want to try Zumba '\n",
      "                                             'classes at the community centre, '\n",
      "                                             'it looks fun',\n",
      "                                  'document_id': 'STM_120',\n",
      "                                  'timestamp': '2024-06-21T08:00:00Z'}]},\n",
      "  'id': 'STM_TC_043',\n",
      "  'query': 'I think I wanted to try some exercise classes. Which one did I say '\n",
      "           'looked fun?'},\n",
      " {'expected_retrieval': {'stm': [{'content': 'Had a video call with my '\n",
      "                                             'grandchildren; they told me '\n",
      "                                             'about their school projects.',\n",
      "                                  'document_id': 'STM_141',\n",
      "                                  'timestamp': '2024-06-25T16:30:00Z'},\n",
      "                                 {'content': 'I am waiting for my '\n",
      "                                             'granddaughter to arrive; she is '\n",
      "                                             'coming over for lunch.',\n",
      "                                  'document_id': 'STM_131',\n",
      "                                  'timestamp': '2024-06-23T12:45:00Z'},\n",
      "                                 {'content': 'My granddaughter visited me '\n",
      "                                             'today; we baked cookies together '\n",
      "                                             'and had a lovely time.',\n",
      "                                  'document_id': 'STM_132',\n",
      "                                  'timestamp': '2024-06-23T16:15:00Z'}]},\n",
      "  'id': 'STM_TC_044',\n",
      "  'query': 'Did I have any interaction with my grandchildren recently?'},\n",
      " {'expected_retrieval': {'stm': [{'content': 'Did light stretches to ease my '\n",
      "                                             'back pain; it worked well.',\n",
      "                                  'document_id': 'STM_115',\n",
      "                                  'timestamp': '2024-06-20T07:10:00Z'},\n",
      "                                 {'content': 'Did light stretches to ease my '\n",
      "                                             'shoulder pain; it helped.',\n",
      "                                  'document_id': 'STM_147',\n",
      "                                  'timestamp': '2024-06-27T07:25:00Z'}]},\n",
      "  'id': 'STM_TC_045',\n",
      "  'query': 'What did I do to help with my back or shoulder pain recently?'},\n",
      " {'expected_retrieval': {'stm': [{'content': 'I need to remember to buy tofu '\n",
      "                                             'next time, my son say it is good '\n",
      "                                             'for my protein intake',\n",
      "                                  'document_id': 'STM_112',\n",
      "                                  'timestamp': '2024-06-19T11:15:00Z'}]},\n",
      "  'id': 'STM_TC_046',\n",
      "  'query': 'I wanted to remember what to buy for protein in my diet, what was '\n",
      "           'it?'},\n",
      " {'expected_retrieval': {'stm': [{'content': 'Today I argues with the stall '\n",
      "                                             'owner. He tried to give me old '\n",
      "                                             'vegetables and I was not happy '\n",
      "                                             'about it.',\n",
      "                                  'document_id': 'STM_116',\n",
      "                                  'timestamp': '2024-06-20T10:30:00Z'},\n",
      "                                 {'content': 'Asked a shopkeeper for advice on '\n",
      "                                             'buying the freshest vegetables. '\n",
      "                                             'I think she was bluffing me.',\n",
      "                                  'document_id': 'STM_140',\n",
      "                                  'timestamp': '2024-06-25T13:45:00Z'}]},\n",
      "  'id': 'STM_TC_047',\n",
      "  'query': 'Did I have any unpleasant experience at the market recently?'},\n",
      " {'expected_retrieval': {'stm': [{'content': 'There was a power outage in the '\n",
      "                                             'morning; had to use a flashlight '\n",
      "                                             'to find my way around.',\n",
      "                                  'document_id': 'STM_124',\n",
      "                                  'timestamp': '2024-06-22T07:20:00Z'}]},\n",
      "  'id': 'STM_TC_048',\n",
      "  'query': 'What did I do on the morning when there was a power outage?'},\n",
      " {'expected_retrieval': {'stm': [{'content': 'Chatted with a volunteer about '\n",
      "                                             'upcoming community events.',\n",
      "                                  'document_id': 'STM_118',\n",
      "                                  'timestamp': '2024-06-20T15:15:00Z'}]},\n",
      "  'id': 'STM_TC_049',\n",
      "  'query': 'Did I talk to anyone about community events recently?'},\n",
      " {'expected_retrieval': {'stm': [{'content': 'Had lunch at the hawker centre; '\n",
      "                                             'enjoyed mee siam and chatted '\n",
      "                                             'with the stall owner who was my '\n",
      "                                             'primary school friend',\n",
      "                                  'document_id': 'STM_105',\n",
      "                                  'timestamp': '2024-06-17T13:00:00Z'}]},\n",
      "  'id': 'STM_TC_050',\n",
      "  'query': 'What did I enjoy for lunch at the hawker centre on June 17th?'},\n",
      " {'expected_retrieval': {'stm': [{'content': 'Enjoyed a quiet evening with my '\n",
      "                                             'husband; we watched a classic '\n",
      "                                             'movie together.',\n",
      "                                  'document_id': 'STM_102',\n",
      "                                  'timestamp': '2024-06-16T17:30:00Z'}]},\n",
      "  'id': 'STM_TC_051',\n",
      "  'query': 'What did I do with my husband in the evening on June 16th?'},\n",
      " {'expected_retrieval': {'stm': [{'content': 'There is a cooking class at the '\n",
      "                                             'community centre next week; I am '\n",
      "                                             'thinking of joining to learn new '\n",
      "                                             'recipes.',\n",
      "                                  'document_id': 'STM_150',\n",
      "                                  'timestamp': '2024-06-27T15:45:00Z'}]},\n",
      "  'id': 'STM_TC_052',\n",
      "  'query': 'Did I have any new recipe or cooking class plans?'},\n",
      " {'expected_retrieval': {'stm': [{'content': 'How do i use this app to pay my '\n",
      "                                             'bills, I need to ask my son '\n",
      "                                             'again for help',\n",
      "                                  'document_id': 'STM_137',\n",
      "                                  'timestamp': '2024-06-24T17:00:00Z'}]},\n",
      "  'id': 'STM_TC_053',\n",
      "  'query': 'Have I had any trouble using apps or technology recently?'},\n",
      " {'expected_retrieval': {'stm': [{'content': 'Visited the wet market and '\n",
      "                                             'bought fresh okra; the vendor '\n",
      "                                             'gave me a few extra.',\n",
      "                                  'document_id': 'STM_113',\n",
      "                                  'timestamp': '2024-06-19T14:30:00Z'}]},\n",
      "  'id': 'STM_TC_054',\n",
      "  'query': 'What did I buy at the wet market on June 19th?'},\n",
      " {'expected_retrieval': {'stm': [{'content': 'I asked the bus driver why the '\n",
      "                                             'bus was so late today; he said '\n",
      "                                             'there was heavy traffic due to '\n",
      "                                             'an accident.',\n",
      "                                  'document_id': 'STM_125',\n",
      "                                  'timestamp': '2024-06-22T10:45:00Z'}]},\n",
      "  'id': 'STM_TC_055',\n",
      "  'query': 'Did I say anything about bus delays or transport issues recently?'},\n",
      " {'expected_retrieval': {'stm': [{'content': 'Had dinner with my husband and '\n",
      "                                             'shared stories of our youth.',\n",
      "                                  'document_id': 'STM_114',\n",
      "                                  'timestamp': '2024-06-19T17:00:00Z'},\n",
      "                                 {'content': 'Had dinner with my husband; we '\n",
      "                                             'reminisced about our wedding '\n",
      "                                             'day.',\n",
      "                                  'document_id': 'STM_146',\n",
      "                                  'timestamp': '2024-06-26T17:15:00Z'}]},\n",
      "  'id': 'STM_TC_056',\n",
      "  'query': 'Did I have any memorable moments with my husband related to our '\n",
      "           'past?'},\n",
      " {'expected_retrieval': {'stm': [{'content': 'The weather was nice for '\n",
      "                                             'exercising outdoors; I did some '\n",
      "                                             'tai chi in the park.',\n",
      "                                  'document_id': 'STM_143',\n",
      "                                  'timestamp': '2024-06-26T08:00:00Z'}]},\n",
      "  'id': 'STM_TC_057',\n",
      "  'query': 'Did I have any nice moments exercising outdoors?'},\n",
      " {'expected_retrieval': {'stm': [{'content': 'Called my daughter to check on '\n",
      "                                             'her health; she said she was '\n",
      "                                             'doing well.',\n",
      "                                  'document_id': 'STM_106',\n",
      "                                  'timestamp': '2024-06-17T15:30:00Z'}]},\n",
      "  'id': 'STM_TC_058',\n",
      "  'query': 'What did I do with my daughter when I called her recently?'},\n",
      " {'expected_retrieval': {'stm': [{'content': 'How can they start the '\n",
      "                                             'construction work so early in '\n",
      "                                             'the morning, it is too noisy!',\n",
      "                                  'document_id': 'STM_130',\n",
      "                                  'timestamp': '2024-06-23T10:15:00Z'}]},\n",
      "  'id': 'STM_TC_059',\n",
      "  'query': 'Did I experience any noise disturbance at home or nearby?'},\n",
      " {'expected_retrieval': {'stm': [{'content': 'Today i felt like having '\n",
      "                                             'vegetarian food, I asked one of '\n",
      "                                             'the store owners and she '\n",
      "                                             'recommended vegetable noodles.',\n",
      "                                  'document_id': 'STM_122',\n",
      "                                  'timestamp': '2024-06-21T13:30:00Z'}]},\n",
      "  'id': 'STM_TC_060',\n",
      "  'query': 'Was there any special food recommendation from a store owner '\n",
      "           'recently?'},\n",
      " {'expected_retrieval': {'stm': [{'content': 'I heard that there will be some '\n",
      "                                             'construction work near my house '\n",
      "                                             \"next week; I hope it won't be \"\n",
      "                                             'too disruptive.',\n",
      "                                  'document_id': 'STM_151',\n",
      "                                  'timestamp': '2024-06-27T18:30:00Z'},\n",
      "                                 {'content': 'The construction seemed to start '\n",
      "                                             'quite early today; I hope it '\n",
      "                                             \"won't be too noisy.\",\n",
      "                                  'document_id': 'STM_152',\n",
      "                                  'timestamp': '2024-06-28T08:00:00Z'}]},\n",
      "  'id': 'STM_TC_061',\n",
      "  'query': 'Did the construction near my house start yet? Is it noisy?'},\n",
      " {'expected_retrieval': {'stm': [{'content': 'Bought some ripe mangoes at the '\n",
      "                                             'market; they were very sweet.',\n",
      "                                  'document_id': 'STM_153',\n",
      "                                  'timestamp': '2024-06-28T11:15:00Z'}]},\n",
      "  'id': 'STM_TC_062',\n",
      "  'query': 'I bought some mangoes recently; were they sweet or sour?'},\n",
      " {'expected_retrieval': {'stm': [{'content': 'The hawker centre was crowded '\n",
      "                                             'today; I waited a while to get '\n",
      "                                             'my favourite laksa.',\n",
      "                                  'document_id': 'STM_154',\n",
      "                                  'timestamp': '2024-06-28T13:30:00Z'}]},\n",
      "  'id': 'STM_TC_063',\n",
      "  'query': 'I remember the hawker centre was crowded the other day. Did I get '\n",
      "           'my favourite laksa quickly?'},\n",
      " {'expected_retrieval': {'stm': [{'content': 'My granddaughter called to tell '\n",
      "                                             'me that she has a math exam next '\n",
      "                                             'week. I wished her good luck.',\n",
      "                                  'document_id': 'STM_155',\n",
      "                                  'timestamp': '2024-06-28T16:00:00Z'}]},\n",
      "  'id': 'STM_TC_064',\n",
      "  'query': 'My granddaughter has an exam coming up, right? What subject was '\n",
      "           'it?'},\n",
      " {'expected_retrieval': {'stm': [{'content': 'I want to try some new exercises '\n",
      "                                             'to help with my arthritis; maybe '\n",
      "                                             'some gentle yoga.',\n",
      "                                  'document_id': 'STM_156',\n",
      "                                  'timestamp': '2024-06-29T07:10:00Z'}]},\n",
      "  'id': 'STM_TC_065',\n",
      "  'query': 'I was thinking of starting gentle yoga to help my arthritis. Did I '\n",
      "           'say that?'},\n",
      " {'expected_retrieval': {'stm': [{'content': 'Asked a bus driver about the '\n",
      "                                             'best bus to go to the hospital.',\n",
      "                                  'document_id': 'STM_157',\n",
      "                                  'timestamp': '2024-06-29T10:30:00Z'}]},\n",
      "  'id': 'STM_TC_066',\n",
      "  'query': 'Did I ask about which bus to take to the hospital recently?'},\n",
      " {'expected_retrieval': {'stm': [{'content': 'The weather was very hot today; '\n",
      "                                             'I stayed indoors and drank '\n",
      "                                             'plenty of water.',\n",
      "                                  'document_id': 'STM_158',\n",
      "                                  'timestamp': '2024-06-29T13:00:00Z'}]},\n",
      "  'id': 'STM_TC_067',\n",
      "  'query': 'How was the weather last week? Was it hot or rainy?'},\n",
      " {'expected_retrieval': {'stm': [{'content': 'Mr Lim, my neighbor, came over '\n",
      "                                             'to chat about his garden; he has '\n",
      "                                             'some beautiful orchids.',\n",
      "                                  'document_id': 'STM_159',\n",
      "                                  'timestamp': '2024-06-29T15:30:00Z'}]},\n",
      "  'id': 'STM_TC_068',\n",
      "  'query': 'I talked with Mr Lim about his garden. What kind of flowers does '\n",
      "           'he have?'},\n",
      " {'expected_retrieval': {'stm': [{'content': 'I made yellow curry with squid '\n",
      "                                             'and vegetables for dinner; it '\n",
      "                                             'was delicious.',\n",
      "                                  'document_id': 'STM_160',\n",
      "                                  'timestamp': '2024-06-29T18:00:00Z'}]},\n",
      "  'id': 'STM_TC_069',\n",
      "  'query': 'What did I cook for dinner recently? Something with curry?'},\n",
      " {'expected_retrieval': {'stm': [{'content': 'I think my parcel is coming '\n",
      "                                             'today, I hope it arrives before '\n",
      "                                             'noon.',\n",
      "                                  'document_id': 'STM_161',\n",
      "                                  'timestamp': '2024-06-30T07:00:00Z'},\n",
      "                                 {'content': 'My delivery package from Lazada '\n",
      "                                             'arrived today; I ordered some '\n",
      "                                             'herbal teas and a new book.',\n",
      "                                  'document_id': 'STM_162',\n",
      "                                  'timestamp': '2024-06-30T10:15:00Z'}]},\n",
      "  'id': 'STM_TC_070',\n",
      "  'query': 'Was my parcel delivered today? What did I order?'},\n",
      " {'expected_retrieval': {'stm': [{'content': 'I feel like eating thosai today, '\n",
      "                                             'I will go to the hawker centre '\n",
      "                                             'to buy some.',\n",
      "                                  'document_id': 'STM_163',\n",
      "                                  'timestamp': '2024-06-30T12:45:00Z'},\n",
      "                                 {'content': 'The thosai I bought today was '\n",
      "                                             'too oily, I should have asked '\n",
      "                                             'the hawker to make it less oily.',\n",
      "                                  'document_id': 'STM_164',\n",
      "                                  'timestamp': '2024-06-30T16:15:00Z'}]},\n",
      "  'id': 'STM_TC_071',\n",
      "  'query': 'I ate thosai today, but did I like it? Was there any problem with '\n",
      "           'it?'},\n",
      " {'expected_retrieval': {'stm': [{'content': 'Today I woke up and my feet were '\n",
      "                                             'so cold, I did not feel well '\n",
      "                                             'when i got out of bed.',\n",
      "                                  'document_id': 'STM_166',\n",
      "                                  'timestamp': '2024-07-01T08:30:00Z'}]},\n",
      "  'id': 'STM_TC_072',\n",
      "  'query': 'How did I feel when I woke up this morning? Was anything unusual?'},\n",
      " {'expected_retrieval': {'stm': [{'content': 'When it was my turn to board the '\n",
      "                                             'bus, a young man cut my queue '\n",
      "                                             'and got on before me. These '\n",
      "                                             'young people nowadays have no '\n",
      "                                             'manners.',\n",
      "                                  'document_id': 'STM_167',\n",
      "                                  'timestamp': '2024-07-01T11:00:00Z'}]},\n",
      "  'id': 'STM_TC_073',\n",
      "  'query': 'Did someone cut in front of me on the bus recently? How did I feel '\n",
      "           'about it?'},\n",
      " {'expected_retrieval': {'stm': [{'content': 'Today I went to the market and '\n",
      "                                             'bought fresh jackfruit; it '\n",
      "                                             'smelled sweet and ripe.',\n",
      "                                  'document_id': 'STM_168',\n",
      "                                  'timestamp': '2024-07-01T14:15:00Z'}]},\n",
      "  'id': 'STM_TC_074',\n",
      "  'query': 'I bought fresh jackfruit recently, was it ripe and sweet?'},\n",
      " {'expected_retrieval': {'stm': [{'content': 'My granddaughter wanted to have '\n",
      "                                             'muffins, but when I went to the '\n",
      "                                             'shop they were closed for '\n",
      "                                             'renovation.',\n",
      "                                  'document_id': 'STM_170',\n",
      "                                  'timestamp': '2024-07-02T07:10:00Z'}]},\n",
      "  'id': 'STM_TC_075',\n",
      "  'query': 'Did my granddaughter want muffins recently? Was the shop open?'},\n",
      " {'expected_retrieval': {'stm': [{'content': 'I went to Alexandra food centre '\n",
      "                                             'and tried a avocado smoothie, it '\n",
      "                                             'was nice but I think it was too '\n",
      "                                             'expensive.',\n",
      "                                  'document_id': 'STM_171',\n",
      "                                  'timestamp': '2024-07-02T10:20:00Z'}]},\n",
      "  'id': 'STM_TC_076',\n",
      "  'query': 'I tried avocado smoothie at Alexandra food centre; did I like it '\n",
      "           'and was it expensive?'},\n",
      " {'expected_retrieval': {'stm': [{'content': 'Had a video call with my '\n",
      "                                             'grandchildren; they shared their '\n",
      "                                             'school projects.',\n",
      "                                  'document_id': 'STM_173',\n",
      "                                  'timestamp': '2024-07-02T16:30:00Z'}]},\n",
      "  'id': 'STM_TC_077',\n",
      "  'query': 'Did I call my grandchildren recently? What did we talk about?'},\n",
      " {'expected_retrieval': {'stm': [{'content': 'The doctor told me to reduce my '\n",
      "                                             'salt intake, but the food is '\n",
      "                                             'always so bland',\n",
      "                                  'document_id': 'STM_183',\n",
      "                                  'timestamp': '2024-07-04T18:30:00Z'}]},\n",
      "  'id': 'STM_TC_078',\n",
      "  'query': 'Did the doctor advise me about salt intake? How do I feel about my '\n",
      "           'food now?'},\n",
      " {'expected_retrieval': {'stm': [{'content': 'This is the second time I lost '\n",
      "                                             'my bus pass this month; I need '\n",
      "                                             'to be more careful.',\n",
      "                                  'document_id': 'STM_189',\n",
      "                                  'timestamp': '2024-07-06T10:30:00Z'}]},\n",
      "  'id': 'STM_TC_079',\n",
      "  'query': 'Did I have any problems with my bus pass recently?'},\n",
      " {'expected_retrieval': {'stm': [{'content': 'Today my children are coming '\n",
      "                                             'over for dinner; I am excited to '\n",
      "                                             'see them.',\n",
      "                                  'document_id': 'STM_191',\n",
      "                                  'timestamp': '2024-07-06T15:30:00Z'},\n",
      "                                 {'content': 'My kids still enjoy my biryani, '\n",
      "                                             'they said it reminds them of '\n",
      "                                             'home. I am glad.',\n",
      "                                  'document_id': 'STM_192',\n",
      "                                  'timestamp': '2024-07-06T18:00:00Z'}]},\n",
      "  'id': 'STM_TC_080',\n",
      "  'query': 'I cooked biryani for the family recently. Did everyone enjoy it?'},\n",
      " {'expected_retrieval': {'stm': [{'content': 'Where did I put my glasses? I '\n",
      "                                             'misplaced them again',\n",
      "                                  'document_id': 'STM_201',\n",
      "                                  'timestamp': '2024-07-08T17:00:00Z'}]},\n",
      "  'id': 'STM_TC_081',\n",
      "  'query': \"I can't seem to find my glasses again, where did I last mention \"\n",
      "           'putting them?'},\n",
      " {'expected_retrieval': {'stm': [{'content': 'Woke up and did some yoga today. '\n",
      "                                             'My back felt a bit stiff but '\n",
      "                                             'after the stretches it felt '\n",
      "                                             'better.',\n",
      "                                  'document_id': 'STM_202',\n",
      "                                  'timestamp': '2024-07-09T07:10:00Z'}]},\n",
      "  'id': 'STM_TC_082',\n",
      "  'query': 'I remember feeling stiff in my back, did some yoga and felt '\n",
      "           'better. When was that?'},\n",
      " {'expected_retrieval': {'stm': [{'content': 'Today the char kway teow was '\n",
      "                                             'quite bad. I think I will not '\n",
      "                                             'eat it again, so oily',\n",
      "                                  'document_id': 'STM_203',\n",
      "                                  'timestamp': '2024-07-09T10:20:00Z'}]},\n",
      "  'id': 'STM_TC_083',\n",
      "  'query': 'The char kway teow I ate recently was too oily, I decided not to '\n",
      "           'have it anymore. Can you remind me when I said that?'},\n",
      " {'expected_retrieval': {'stm': [{'content': \"Today the grocer's vegetables \"\n",
      "                                             'did not look very fresh, so I '\n",
      "                                             'bought from the stall next to '\n",
      "                                             'his.',\n",
      "                                  'document_id': 'STM_204',\n",
      "                                  'timestamp': '2024-07-09T13:45:00Z'}]},\n",
      "  'id': 'STM_TC_084',\n",
      "  'query': 'I had to buy vegetables from a different stall because the usual '\n",
      "           \"grocer's veggies weren’t fresh. When did I notice that?\"},\n",
      " {'expected_retrieval': {'stm': [{'content': 'Had a video call with my '\n",
      "                                             'grandchildren, they update me '\n",
      "                                             'about their school projects, but '\n",
      "                                             'I can hardly hear them.',\n",
      "                                  'document_id': 'STM_205',\n",
      "                                  'timestamp': '2024-07-09T16:30:00Z'}]},\n",
      "  'id': 'STM_TC_085',\n",
      "  'query': 'I had a video call with my grandchildren but the sound was bad. '\n",
      "           'When was that?'},\n",
      " {'expected_retrieval': {'stm': [{'content': 'I think I am coming down with a '\n",
      "                                             'cold, maybe I should make some '\n",
      "                                             'ginger tea to soothe my throat.',\n",
      "                                  'document_id': 'STM_206',\n",
      "                                  'timestamp': '2024-07-09T19:00:00Z'}]},\n",
      "  'id': 'STM_TC_086',\n",
      "  'query': 'I thought I was getting a cold and wanted to make ginger tea. When '\n",
      "           'did I say that?'},\n",
      " {'expected_retrieval': {'stm': [{'content': 'This morning I went for a walk '\n",
      "                                             'in the park, I met Mrs Tan and '\n",
      "                                             'we did tai chi together. Its so '\n",
      "                                             'good to see her',\n",
      "                                  'document_id': 'STM_207',\n",
      "                                  'timestamp': '2024-07-10T08:00:00Z'}]},\n",
      "  'id': 'STM_TC_087',\n",
      "  'query': 'I met Mrs Tan in the park and we did tai chi together. Can you '\n",
      "           'remind me when that was?'},\n",
      " {'expected_retrieval': {'stm': [{'content': 'Today the MRT broke down, I had '\n",
      "                                             'to take the bus instead, so '\n",
      "                                             'disappointing.',\n",
      "                                  'document_id': 'STM_208',\n",
      "                                  'timestamp': '2024-07-10T11:30:00Z'}]},\n",
      "  'id': 'STM_TC_088',\n",
      "  'query': 'The MRT broke down recently and I had to take the bus instead. '\n",
      "           'When did that happen?'},\n",
      " {'expected_retrieval': {'stm': [{'content': 'After I went to the wet market, '\n",
      "                                             'I realised I forgot to buy eggs. '\n",
      "                                             'I had to go back again to buy '\n",
      "                                             'them. So troublesome.',\n",
      "                                  'document_id': 'STM_209',\n",
      "                                  'timestamp': '2024-07-10T14:00:00Z'}]},\n",
      "  'id': 'STM_TC_089',\n",
      "  'query': 'I forgot to buy eggs at the wet market and had to go back. When '\n",
      "           'did I mention this trouble?'},\n",
      " {'expected_retrieval': {'stm': [{'content': 'Today I cooked a new recipe for '\n",
      "                                             'dinner, chicken curry with '\n",
      "                                             'potatoes. My husband said it was '\n",
      "                                             'delicious.',\n",
      "                                  'document_id': 'STM_210',\n",
      "                                  'timestamp': '2024-07-10T17:15:00Z'}]},\n",
      "  'id': 'STM_TC_090',\n",
      "  'query': 'I cooked chicken curry with potatoes and my husband said it was '\n",
      "           'delicious. When was this?'},\n",
      " {'expected_retrieval': {'stm': [{'content': 'Today when I woke up my shoulder '\n",
      "                                             'was aching. I did some stretches '\n",
      "                                             'like the physio taught me and it '\n",
      "                                             'felt better.',\n",
      "                                  'document_id': 'STM_211',\n",
      "                                  'timestamp': '2024-07-11T07:25:00Z'}]},\n",
      "  'id': 'STM_TC_091',\n",
      "  'query': 'My shoulder was aching when I woke up but stretching helped. When '\n",
      "           'did this happen?'},\n",
      " {'expected_retrieval': {'stm': [{'content': 'The shopkeeper shared some tips '\n",
      "                                             'on how I could use the young '\n",
      "                                             'turmeric in my cooking. Maybe I '\n",
      "                                             'will try it later.',\n",
      "                                  'document_id': 'STM_212',\n",
      "                                  'timestamp': '2024-07-11T10:10:00Z'}]},\n",
      "  'id': 'STM_TC_092',\n",
      "  'query': 'The shopkeeper gave me tips about young turmeric for cooking. When '\n",
      "           'did I get this advice?'},\n",
      " {'expected_retrieval': {'stm': [{'content': 'Today the mee soto from the '\n",
      "                                             'Malay stall tasted abit '\n",
      "                                             'different, I think they added '\n",
      "                                             'more coconut milk.',\n",
      "                                  'document_id': 'STM_213',\n",
      "                                  'timestamp': '2024-07-11T13:30:00Z'}]},\n",
      "  'id': 'STM_TC_093',\n",
      "  'query': 'The mee soto from the Malay stall tasted different; I think they '\n",
      "           'added more coconut milk. When was that?'},\n",
      " {'expected_retrieval': {'stm': [{'content': 'Today one of the volunteers '\n",
      "                                             'invited me to  join their '\n",
      "                                             'knitting group. I was so happy '\n",
      "                                             'that I got invited.',\n",
      "                                  'document_id': 'STM_214',\n",
      "                                  'timestamp': '2024-07-11T15:45:00Z'}]},\n",
      "  'id': 'STM_TC_094',\n",
      "  'query': 'I was invited to join a knitting group by a volunteer. Can you '\n",
      "           'tell me when I was so happy about this invite?'},\n",
      " {'expected_retrieval': {'stm': [{'content': 'I took a nap in the afternoon so '\n",
      "                                             'I am not very sleepy tonight.',\n",
      "                                  'document_id': 'STM_215',\n",
      "                                  'timestamp': '2024-07-11T18:30:00Z'}]},\n",
      "  'id': 'STM_TC_095',\n",
      "  'query': 'I took a nap in the afternoon and wasn’t very sleepy at night. '\n",
      "           'When did I say that?'},\n",
      " {'expected_retrieval': {'stm': [{'content': 'I need to remember to water the '\n",
      "                                             'plants, the weather has been hot '\n",
      "                                             'and dry lately',\n",
      "                                  'document_id': 'STM_216',\n",
      "                                  'timestamp': '2024-07-12T08:00:00Z'}]},\n",
      "  'id': 'STM_TC_096',\n",
      "  'query': 'I need to remember to water my plants because of the hot, dry '\n",
      "           'weather. When did I mention this?'},\n",
      " {'expected_retrieval': {'stm': [{'content': 'Bought sweet mangoes at market. '\n",
      "                                             'Maybe I will share them with my '\n",
      "                                             'neighbors.',\n",
      "                                  'document_id': 'STM_217',\n",
      "                                  'timestamp': '2024-07-12T11:15:00Z'}]},\n",
      "  'id': 'STM_TC_097',\n",
      "  'query': 'I bought sweet mangoes at the market and thought about sharing '\n",
      "           'them with neighbors. When was that?'},\n",
      " {'expected_retrieval': {'stm': [{'content': 'Today I asked the spice seller '\n",
      "                                             'about the ingredients in her '\n",
      "                                             'laksa. She was kind to share '\n",
      "                                             'with me',\n",
      "                                  'document_id': 'STM_218',\n",
      "                                  'timestamp': '2024-07-12T13:30:00Z'}]},\n",
      "  'id': 'STM_TC_098',\n",
      "  'query': 'I asked a spice seller about the ingredients in her laksa and she '\n",
      "           'shared kindly. When did this happen?'},\n",
      " {'expected_retrieval': {'stm': [{'content': 'I remembered to call my '\n",
      "                                             'granddaughter today, she told me '\n",
      "                                             'about her dance class.',\n",
      "                                  'document_id': 'STM_219',\n",
      "                                  'timestamp': '2024-07-12T16:00:00Z'}]},\n",
      "  'id': 'STM_TC_099',\n",
      "  'query': 'I remembered to call my granddaughter and she told me about her '\n",
      "           'dance class. When was that?'},\n",
      " {'expected_retrieval': {'stm': [{'content': 'Tried to play with my '\n",
      "                                             'smartphone, but I am not very '\n",
      "                                             'good with technology.',\n",
      "                                  'document_id': 'STM_220',\n",
      "                                  'timestamp': '2024-07-13T07:10:00Z'}]},\n",
      "  'id': 'STM_TC_100',\n",
      "  'query': 'I tried playing with my smartphone but I’m not very good with '\n",
      "           'technology. When did I say this?'},\n",
      " {'expected_retrieval': {'stm': [{'content': 'When i asked the shopkeeper '\n",
      "                                             'about storing fresh herbs, he '\n",
      "                                             'told me to wrap them in a damp '\n",
      "                                             'paper towel and put them in a '\n",
      "                                             'plastic bag in the fridge. I '\n",
      "                                             'will try that.',\n",
      "                                  'document_id': 'STM_258',\n",
      "                                  'timestamp': '2024-07-21T10:15:00Z'}]},\n",
      "  'id': 'STM_TC_101',\n",
      "  'query': 'Do you remember what the shopkeeper told me about storing fresh '\n",
      "           'herbs?'},\n",
      " {'expected_retrieval': {'stm': [{'content': 'My daughter called to update me '\n",
      "                                             'on her wedding plans. She seems '\n",
      "                                             'very excited.',\n",
      "                                  'document_id': 'STM_260',\n",
      "                                  'timestamp': '2024-07-21T16:15:00Z'},\n",
      "                                 {'content': 'Asked my daughter about wedding '\n",
      "                                             'that is coming up in a few '\n",
      "                                             'months, cannot wait to see her '\n",
      "                                             'in her wedding dress.',\n",
      "                                  'document_id': 'STM_292',\n",
      "                                  'timestamp': '2024-07-28T16:15:00Z'}]},\n",
      "  'id': 'STM_TC_102',\n",
      "  'query': 'What did I say about my daughter’s wedding plans recently?'},\n",
      " {'expected_retrieval': {'stm': [{'content': 'Today the bus broke down, '\n",
      "                                             'luckily it happened only on my '\n",
      "                                             'way home from the market.',\n",
      "                                  'document_id': 'STM_272',\n",
      "                                  'timestamp': '2024-07-24T11:30:00Z'}]},\n",
      "  'id': 'STM_TC_103',\n",
      "  'query': 'Can you remind me what happened with the bus on my way home from '\n",
      "           'the market?'},\n",
      " {'expected_retrieval': {'stm': [{'content': 'Recently the weather has been '\n",
      "                                             'too hot. I feel so tired in the '\n",
      "                                             'afternoon when the sun is bright',\n",
      "                                  'document_id': 'STM_271',\n",
      "                                  'timestamp': '2024-07-24T08:00:00Z'},\n",
      "                                 {'content': 'The weather this morning was so '\n",
      "                                             'good for a walk in the park.',\n",
      "                                  'document_id': 'STM_262',\n",
      "                                  'timestamp': '2024-07-22T08:30:00Z'}]},\n",
      "  'id': 'STM_TC_104',\n",
      "  'query': 'What did I say about how the weather affects how I feel?'},\n",
      " {'expected_retrieval': {'stm': [{'content': 'I am almost finishing up my '\n",
      "                                             'medicine, need to get a new '\n",
      "                                             'prescription from the doctor.',\n",
      "                                  'document_id': 'STM_284',\n",
      "                                  'timestamp': '2024-07-27T07:10:00Z'}]},\n",
      "  'id': 'STM_TC_105',\n",
      "  'query': 'Did I mention anything about my medicine supply?'},\n",
      " {'expected_retrieval': {'stm': [{'content': 'My joints are fealing weak and '\n",
      "                                             'stiff, maybe I should take some '\n",
      "                                             'supplements;',\n",
      "                                  'document_id': 'STM_257',\n",
      "                                  'timestamp': '2024-07-21T07:00:00Z'}]},\n",
      "  'id': 'STM_TC_106',\n",
      "  'query': 'What do I recall about my joints feeling lately?'},\n",
      " {'expected_retrieval': {'stm': [{'content': 'My basil plant wilted, I dont '\n",
      "                                             'know what happened',\n",
      "                                  'document_id': 'STM_252',\n",
      "                                  'timestamp': '2024-07-20T07:10:00Z'}]},\n",
      "  'id': 'STM_TC_107',\n",
      "  'query': 'Did I say anything about my basil plant recently?'},\n",
      " {'expected_retrieval': {'stm': [{'content': 'The mangoes from the market were '\n",
      "                                             'very sweet. Is it mango season '\n",
      "                                             'now?',\n",
      "                                  'document_id': 'STM_281',\n",
      "                                  'timestamp': '2024-07-26T11:15:00Z'}]},\n",
      "  'id': 'STM_TC_108',\n",
      "  'query': 'Tell me about what I said regarding the mangoes from the market.'},\n",
      " {'expected_retrieval': {'stm': [{'content': 'Today my legs are quite sore. I '\n",
      "                                             'think  I will skip my tai chi '\n",
      "                                             'session today and rest more.',\n",
      "                                  'document_id': 'STM_275',\n",
      "                                  'timestamp': '2024-07-25T07:25:00Z'},\n",
      "                                 {'content': 'It was raining so heaviy today, '\n",
      "                                             'I could not do my tai chi in the '\n",
      "                                             'park.',\n",
      "                                  'document_id': 'STM_294',\n",
      "                                  'timestamp': '2024-07-29T08:30:00Z'}]},\n",
      "  'id': 'STM_TC_109',\n",
      "  'query': 'What did I mention about my tai chi sessions lately?'},\n",
      " {'expected_retrieval': {'stm': [{'content': 'I misplaced my glasses again, '\n",
      "                                             'where did I put them?',\n",
      "                                  'document_id': 'STM_265',\n",
      "                                  'timestamp': '2024-07-22T17:00:00Z'}]},\n",
      "  'id': 'STM_TC_110',\n",
      "  'query': 'Did I talk about any problems with my glasses?'},\n",
      " {'expected_retrieval': {'stm': [{'content': 'There was a long queue at the '\n",
      "                                             'hawker centre today, I had to '\n",
      "                                             'wait for 30 minutes to get my '\n",
      "                                             'food.',\n",
      "                                  'document_id': 'STM_274',\n",
      "                                  'timestamp': '2024-07-24T17:15:00Z'},\n",
      "                                 {'content': 'The laksa from the new hawker is '\n",
      "                                             'stall is very nice, I will buy '\n",
      "                                             'it for my daughter next time.',\n",
      "                                  'document_id': 'STM_282',\n",
      "                                  'timestamp': '2024-07-26T13:30:00Z'}]},\n",
      "  'id': 'STM_TC_111',\n",
      "  'query': 'What do I remember about the food at the hawker centre?'},\n",
      " {'expected_retrieval': {'stm': [{'content': 'The neighboue downstairs is '\n",
      "                                             'always making so much noise, I '\n",
      "                                             'cannot stand it anymore.',\n",
      "                                  'document_id': 'STM_299',\n",
      "                                  'timestamp': '2024-07-30T10:20:00Z'}]},\n",
      "  'id': 'STM_TC_112',\n",
      "  'query': 'What did I say about my neighbor’s noisy behavior?'},\n",
      " {'expected_retrieval': {'stm': [{'content': 'Remind me to video call my '\n",
      "                                             \"grandchildren tomorrow, haven't \"\n",
      "                                             'spoken to them in a while.',\n",
      "                                  'document_id': 'STM_269',\n",
      "                                  'timestamp': '2024-07-23T16:30:00Z'},\n",
      "                                 {'content': 'I want to meet my grandchildren '\n",
      "                                             'soon, I miss them.',\n",
      "                                  'document_id': 'STM_288',\n",
      "                                  'timestamp': '2024-07-27T18:00:00Z'},\n",
      "                                 {'content': 'I want to tell my grandchildren '\n",
      "                                             'about my secret recipe for '\n",
      "                                             'making curry, they will love it.',\n",
      "                                  'document_id': 'STM_297',\n",
      "                                  'timestamp': '2024-07-29T17:00:00Z'}]},\n",
      "  'id': 'STM_TC_113',\n",
      "  'query': 'Do you recall anything about my plans to call my grandchildren?'},\n",
      " {'expected_retrieval': {'stm': [{'content': 'The shopkeeper said turmeric is '\n",
      "                                             'very good for health, I should '\n",
      "                                             'drink turmeric tea more often.',\n",
      "                                  'document_id': 'STM_264',\n",
      "                                  'timestamp': '2024-07-22T14:15:00Z'}]},\n",
      "  'id': 'STM_TC_114',\n",
      "  'query': 'What did I say about the turmeric tea?'},\n",
      " {'expected_retrieval': {'stm': [{'content': 'I heard that there was a health '\n",
      "                                             'talk at the community centre '\n",
      "                                             'soon, but I forgot to ask the '\n",
      "                                             'details.',\n",
      "                                  'document_id': 'STM_251',\n",
      "                                  'timestamp': '2024-07-19T16:00:00Z'}]},\n",
      "  'id': 'STM_TC_115',\n",
      "  'query': 'Did I mention anything about the health talk at the community '\n",
      "           'centre?'},\n",
      " {'expected_retrieval': {'stm': [{'content': 'The cucumber i bought today from '\n",
      "                                             'the market was soft and mushy. I '\n",
      "                                             'will complain to him next time.',\n",
      "                                  'document_id': 'STM_259',\n",
      "                                  'timestamp': '2024-07-21T12:45:00Z'},\n",
      "                                 {'content': 'I asked the grocer about why his '\n",
      "                                             'vegetable did not look fresh '\n",
      "                                             'today. He got angry and said I '\n",
      "                                             'was being rude.',\n",
      "                                  'document_id': 'STM_300',\n",
      "                                  'timestamp': '2024-07-30T13:45:00Z'}]},\n",
      "  'id': 'STM_TC_116',\n",
      "  'query': 'What did I say about the condition of vegetables I bought '\n",
      "           'recently?'},\n",
      " {'expected_retrieval': {'stm': [{'content': 'The guys playing pickleball are '\n",
      "                                             'too loud in the morning, I '\n",
      "                                             \"couldn't sleep well.\",\n",
      "                                  'document_id': 'STM_266',\n",
      "                                  'timestamp': '2024-07-23T07:10:00Z'}]},\n",
      "  'id': 'STM_TC_117',\n",
      "  'query': 'Do you remember what I said about the pickleball players in the '\n",
      "           'morning?'},\n",
      " {'expected_retrieval': {'stm': [{'content': 'There was a long queue at the '\n",
      "                                             'hawker centre today, I had to '\n",
      "                                             'wait for 30 minutes to get my '\n",
      "                                             'food.',\n",
      "                                  'document_id': 'STM_274',\n",
      "                                  'timestamp': '2024-07-24T17:15:00Z'}]},\n",
      "  'id': 'STM_TC_118',\n",
      "  'query': 'What did I mention about the long queue at the hawker centre?'},\n",
      " {'expected_retrieval': {'stm': [{'content': 'I want to buy some flowers for '\n",
      "                                             'my balcony garden.',\n",
      "                                  'document_id': 'STM_298',\n",
      "                                  'timestamp': '2024-07-30T07:10:00Z'}]},\n",
      "  'id': 'STM_TC_119',\n",
      "  'query': 'Did I talk about anything related to my balcony garden and '\n",
      "           'flowers?'},\n",
      " {'expected_retrieval': {'stm': [{'content': 'The newlly renovated polyclinic '\n",
      "                                             'is very nice, I feel comfortable '\n",
      "                                             'going there for my checkups.',\n",
      "                                  'document_id': 'STM_276',\n",
      "                                  'timestamp': '2024-07-25T10:10:00Z'}]},\n",
      "  'id': 'STM_TC_120',\n",
      "  'query': 'What did I say about my experience with the newly renovated '\n",
      "           'polyclinic?'}]\n",
      "120\n"
     ]
    }
   ],
   "execution_count": 36
  },
  {
   "metadata": {},
   "cell_type": "markdown",
   "source": "### Consolidate and save all test cases",
   "id": "eea40f9b964016fa"
  },
  {
   "metadata": {
    "ExecuteTime": {
     "end_time": "2025-10-12T11:19:36.886111Z",
     "start_time": "2025-10-12T11:19:36.880605Z"
    }
   },
   "cell_type": "code",
   "source": [
    "all_augmented_test_cases = []\n",
    "all_augmented_test_cases.extend(parsed_hcm_tc)\n",
    "all_augmented_test_cases.extend(parsed_ltm_tc)\n",
    "all_augmented_test_cases.extend(all_stm_test_cases)\n",
    "\n",
    "print(len(all_augmented_test_cases))"
   ],
   "id": "4852d941732ae666",
   "outputs": [
    {
     "name": "stdout",
     "output_type": "stream",
     "text": [
      "150\n"
     ]
    }
   ],
   "execution_count": 37
  },
  {
   "metadata": {
    "ExecuteTime": {
     "end_time": "2025-10-12T11:20:20.227973Z",
     "start_time": "2025-10-12T11:20:20.212549Z"
    }
   },
   "cell_type": "code",
   "source": [
    "with open(\"../test_cases/111025_augmented_test_cases.json\", \"w\") as f:\n",
    "    json.dump(all_augmented_test_cases, f, indent=4)"
   ],
   "id": "44e95a9c2387dc43",
   "outputs": [],
   "execution_count": 38
  },
  {
   "metadata": {},
   "cell_type": "code",
   "outputs": [],
   "execution_count": null,
   "source": "",
   "id": "d322c2c701f92492"
  }
 ],
 "metadata": {
  "kernelspec": {
   "display_name": "Python 3",
   "language": "python",
   "name": "python3"
  },
  "language_info": {
   "codemirror_mode": {
    "name": "ipython",
    "version": 2
   },
   "file_extension": ".py",
   "mimetype": "text/x-python",
   "name": "python",
   "nbconvert_exporter": "python",
   "pygments_lexer": "ipython2",
   "version": "2.7.6"
  }
 },
 "nbformat": 4,
 "nbformat_minor": 5
}
