{
 "cells": [
  {
   "cell_type": "code",
   "id": "initial_id",
   "metadata": {
    "collapsed": true,
    "ExecuteTime": {
     "end_time": "2025-10-06T07:50:56.311637Z",
     "start_time": "2025-10-06T07:50:56.306401Z"
    }
   },
   "source": [
    "import json\n",
    "import os\n"
   ],
   "outputs": [],
   "execution_count": 2
  },
  {
   "metadata": {},
   "cell_type": "markdown",
   "source": [
    "#### Sample Prompt for KB generation\n",
    "\n",
    "*Attachment -->  KB.json file*\n",
    "\n",
    "This is a sample of my knowledge base, these simulate the long term memory (LTM), short-term memory(STM) and heathcare_module (HCM) of my database. The long-term memory is intended to capture long-term memory of an elderly individual, corresponding to things such as friends, family, hobbies, routines, likes, dislikes etc. The healthcare module is intended to capture healthcare related information. The short term memory is intended to capture short term memory of an individual, corresponding to daily conversations, social interactions and daily life conversations, public transport experiences, health, hobbies, family interactions, food, meals and community events, basically conversations that an elderly might have with a AI companion. I want you to focus on expanding this portion of my knowledge base. Generate a larger knowledge base for all aspects STRICTLY following the provided schema, focusing on expanding the knowledge base of the short term memory more. Return the large knowledge base in a json file just like the sample file that i have provided you."
   ],
   "id": "f13f53653cdc8111"
  },
  {
   "metadata": {},
   "cell_type": "markdown",
   "source": "#### Sort new STM data by timestamp",
   "id": "fc639c5cb8f23ac1"
  },
  {
   "metadata": {},
   "cell_type": "code",
   "outputs": [],
   "execution_count": null,
   "source": [
    "with open(\"../test_cases/expanded_knowledge_base.json\", \"r\") as f:\n",
    "    knowledge_base = json.load(f)\n",
    "    stm_data = knowledge_base[\"STM_data\"]\n",
    "\n",
    "sorted_stm_data = sorted(stm_data, key=lambda x: x[\"timestamp\"])\n",
    "print(sorted_stm_data[:5])\n",
    "\n",
    "knowledge_base['STM_data'] = sorted_stm_data\n",
    "\n",
    "with open(\"../test_cases/expanded_knowledge_base.json\", \"w\") as file:\n",
    "    json.dump(knowledge_base, file, indent=4)\n"
   ],
   "id": "464a091b70e139a"
  },
  {
   "metadata": {
    "ExecuteTime": {
     "end_time": "2025-10-06T07:51:27.016345Z",
     "start_time": "2025-10-06T07:51:27.008960Z"
    }
   },
   "cell_type": "code",
   "source": [
    "with open(\"../test_cases/knowledge_base.json\") as f:\n",
    "    old_knowledge_base = json.load(f)\n",
    "with open(\"../test_cases/expanded_knowledge_base.json\") as f:\n",
    "    new_knowledge_base = json.load(f)\n",
    "\n",
    "old_stm = old_knowledge_base[\"STM_data\"]\n",
    "new_stm = new_knowledge_base[\"STM_data\"]\n",
    "\n",
    "old_stm.extend(new_stm)\n",
    "print(len(old_stm))\n",
    "updated_stm = sorted(old_stm, key=lambda x: x[\"timestamp\"])\n",
    "print(updated_stm[:5])"
   ],
   "id": "eadfc2cf3ad3d879",
   "outputs": [
    {
     "name": "stdout",
     "output_type": "stream",
     "text": [
      "56\n",
      "[{'document_id': 'STM_001', 'timestamp': '2025-09-18T09:00:00Z', 'content': 'I had kaya toast for breakfast today.'}, {'document_id': 'STM_035', 'timestamp': '2025-09-19T10:24:46Z', 'content': 'I joined the online yoga session today morning.'}, {'document_id': 'STM_032', 'timestamp': '2025-09-19T13:42:51Z', 'content': 'I want to try painting this weekend; it’s been a while.'}, {'document_id': 'STM_002', 'timestamp': '2025-09-19T14:00:00Z', 'content': 'I want to watch a Bollywood movie tonight.'}, {'document_id': 'STM_038', 'timestamp': '2025-09-19T15:59:24Z', 'content': 'I accidentally overcooked the rice today.'}]\n"
     ]
    }
   ],
   "execution_count": 5
  },
  {
   "metadata": {},
   "cell_type": "code",
   "source": [
    "#write to knowledge_base.json\n",
    "old_knowledge_base[\"STM_data\"] = updated_stm\n",
    "with open(\"../test_cases/knowledge_base.json\", \"w\") as file:\n",
    "    json.dump(old_knowledge_base, file, indent=4)"
   ],
   "id": "19b20fdadcec2db9",
   "outputs": [],
   "execution_count": null
  },
  {
   "metadata": {},
   "cell_type": "markdown",
   "source": "#### Reindex STM data with document_id",
   "id": "589452fb2c439c6f"
  },
  {
   "metadata": {
    "ExecuteTime": {
     "end_time": "2025-10-06T08:18:24.604202Z",
     "start_time": "2025-10-06T08:18:24.584271Z"
    }
   },
   "cell_type": "code",
   "source": [
    " with open(\"../test_cases/knowledge_base.json\", \"r\") as f:\n",
    "     knowledge_base = json.load(f)\n",
    "     stm_data = knowledge_base[\"STM_data\"]\n",
    "\n",
    "     for idx, stm in enumerate(stm_data):\n",
    "         document_id = f\"STM_{idx+1:03d}\"\n",
    "         stm[\"document_id\"] = document_id\n",
    "\n",
    "knowledge_base['STM_data'] = stm_data\n",
    "with open(\"../test_cases/knowledge_base.json\", \"w\") as file:\n",
    "    json.dump(knowledge_base, file, indent=4)"
   ],
   "id": "f278c4658863ddcd",
   "outputs": [],
   "execution_count": 10
  },
  {
   "metadata": {},
   "cell_type": "code",
   "outputs": [],
   "execution_count": null,
   "source": "",
   "id": "c3d4ecfb5d5b43d9"
  }
 ],
 "metadata": {
  "kernelspec": {
   "display_name": "Python 3",
   "language": "python",
   "name": "python3"
  },
  "language_info": {
   "codemirror_mode": {
    "name": "ipython",
    "version": 2
   },
   "file_extension": ".py",
   "mimetype": "text/x-python",
   "name": "python",
   "nbconvert_exporter": "python",
   "pygments_lexer": "ipython2",
   "version": "2.7.6"
  }
 },
 "nbformat": 4,
 "nbformat_minor": 5
}
